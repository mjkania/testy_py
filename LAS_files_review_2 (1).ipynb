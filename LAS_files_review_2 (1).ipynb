{
  "cells": [
    {
      "cell_type": "markdown",
      "id": "1c82fcaf",
      "metadata": {
        "id": "1c82fcaf"
      },
      "source": [
        "Przetwarzanie zbioru plików las\n",
        "--------------\n",
        "**Opis projektu**\n",
        "\n",
        "Pliki las to pliki zgodne ze standardem Log ASCII Standard, zawierające logi różnych parametrów mierzonych w otworze wiertniczym (np. średnica, porowatość, przewodnictwo elektryczne, promieniowanie gamma itp). Dane w tym projekcie pochodzą z dużego zbioru (ponad 21 000 plików) ze stanu Kansas.\n",
        "\n",
        "Do przetwarzania plików *.las służy moduł lasio.\n",
        "\n",
        "Każdy otwór to jeden plik, w obrębie pliku może być zapisanych wiele krzywych. Pliki są spakowane zipem, tak, że w każdym zipie jest tylko jeden plik las. Dodatkowo mamy plik tekstowy zawierający wykaz wszystkich plików z parametrami takimi jak współrzędne geograficzne, wysokość npm itp.\n",
        "\n",
        "Wszystkie wartości w danych źródłowych są w stopach.\n",
        "\n",
        "Celem będzie wykonanie interpolacji wybranego parametru (promieniowanie gamma) na zadanej głębokości. Ostatecznym wynikiem będzie plik geotiff z interpolowaną metodą IDW wartością gamma.\n",
        "\n",
        "Możliwe dalsze rozwinięcie projektu, to np.\n",
        "\n",
        "\n",
        "*   wygenerowanie serii interpolacji w określonym interwale głębokości\n",
        "*   wygenerowanie izolinii\n",
        "*   rysowanie profili wzdłuż zadanej linii\n",
        "*   analiza innych zmiennych.\n",
        "\n"
      ]
    },
    {
      "cell_type": "code",
      "execution_count": null,
      "id": "b42FoHHJxeQB",
      "metadata": {
        "id": "b42FoHHJxeQB",
        "colab": {
          "base_uri": "https://localhost:8080/"
        },
        "outputId": "03db38f5-1d0a-46b6-cf5c-b2084c1ed1dd"
      },
      "outputs": [
        {
          "output_type": "stream",
          "name": "stdout",
          "text": [
            "Collecting lasio\n",
            "  Downloading lasio-0.29-py2.py3-none-any.whl (38 kB)\n",
            "Requirement already satisfied: numpy in /usr/local/lib/python3.7/dist-packages (from lasio) (1.21.5)\n",
            "Installing collected packages: lasio\n",
            "Successfully installed lasio-0.29\n",
            "Collecting geopandas\n",
            "  Downloading geopandas-0.10.2-py2.py3-none-any.whl (1.0 MB)\n",
            "\u001b[K     |████████████████████████████████| 1.0 MB 26.3 MB/s \n",
            "\u001b[?25hCollecting pyproj>=2.2.0\n",
            "  Downloading pyproj-3.2.1-cp37-cp37m-manylinux2010_x86_64.whl (6.3 MB)\n",
            "\u001b[K     |████████████████████████████████| 6.3 MB 51.6 MB/s \n",
            "\u001b[?25hRequirement already satisfied: shapely>=1.6 in /usr/local/lib/python3.7/dist-packages (from geopandas) (1.8.0)\n",
            "Collecting fiona>=1.8\n",
            "  Downloading Fiona-1.8.21-cp37-cp37m-manylinux2014_x86_64.whl (16.7 MB)\n",
            "\u001b[K     |████████████████████████████████| 16.7 MB 337 kB/s \n",
            "\u001b[?25hRequirement already satisfied: pandas>=0.25.0 in /usr/local/lib/python3.7/dist-packages (from geopandas) (1.3.5)\n",
            "Requirement already satisfied: click>=4.0 in /usr/local/lib/python3.7/dist-packages (from fiona>=1.8->geopandas) (7.1.2)\n",
            "Requirement already satisfied: attrs>=17 in /usr/local/lib/python3.7/dist-packages (from fiona>=1.8->geopandas) (21.4.0)\n",
            "Collecting cligj>=0.5\n",
            "  Downloading cligj-0.7.2-py3-none-any.whl (7.1 kB)\n",
            "Collecting click-plugins>=1.0\n",
            "  Downloading click_plugins-1.1.1-py2.py3-none-any.whl (7.5 kB)\n",
            "Requirement already satisfied: certifi in /usr/local/lib/python3.7/dist-packages (from fiona>=1.8->geopandas) (2021.10.8)\n",
            "Requirement already satisfied: setuptools in /usr/local/lib/python3.7/dist-packages (from fiona>=1.8->geopandas) (57.4.0)\n",
            "Requirement already satisfied: six>=1.7 in /usr/local/lib/python3.7/dist-packages (from fiona>=1.8->geopandas) (1.15.0)\n",
            "Collecting munch\n",
            "  Downloading munch-2.5.0-py2.py3-none-any.whl (10 kB)\n",
            "Requirement already satisfied: numpy>=1.17.3 in /usr/local/lib/python3.7/dist-packages (from pandas>=0.25.0->geopandas) (1.21.5)\n",
            "Requirement already satisfied: pytz>=2017.3 in /usr/local/lib/python3.7/dist-packages (from pandas>=0.25.0->geopandas) (2018.9)\n",
            "Requirement already satisfied: python-dateutil>=2.7.3 in /usr/local/lib/python3.7/dist-packages (from pandas>=0.25.0->geopandas) (2.8.2)\n",
            "Installing collected packages: munch, cligj, click-plugins, pyproj, fiona, geopandas\n",
            "Successfully installed click-plugins-1.1.1 cligj-0.7.2 fiona-1.8.21 geopandas-0.10.2 munch-2.5.0 pyproj-3.2.1\n",
            "Requirement already satisfied: folium in /usr/local/lib/python3.7/dist-packages (0.8.3)\n",
            "Requirement already satisfied: numpy in /usr/local/lib/python3.7/dist-packages (from folium) (1.21.5)\n",
            "Requirement already satisfied: branca>=0.3.0 in /usr/local/lib/python3.7/dist-packages (from folium) (0.4.2)\n",
            "Requirement already satisfied: jinja2 in /usr/local/lib/python3.7/dist-packages (from folium) (2.11.3)\n",
            "Requirement already satisfied: six in /usr/local/lib/python3.7/dist-packages (from folium) (1.15.0)\n",
            "Requirement already satisfied: requests in /usr/local/lib/python3.7/dist-packages (from folium) (2.23.0)\n",
            "Requirement already satisfied: MarkupSafe>=0.23 in /usr/local/lib/python3.7/dist-packages (from jinja2->folium) (2.0.1)\n",
            "Requirement already satisfied: idna<3,>=2.5 in /usr/local/lib/python3.7/dist-packages (from requests->folium) (2.10)\n",
            "Requirement already satisfied: urllib3!=1.25.0,!=1.25.1,<1.26,>=1.21.1 in /usr/local/lib/python3.7/dist-packages (from requests->folium) (1.24.3)\n",
            "Requirement already satisfied: chardet<4,>=3.0.2 in /usr/local/lib/python3.7/dist-packages (from requests->folium) (3.0.4)\n",
            "Requirement already satisfied: certifi>=2017.4.17 in /usr/local/lib/python3.7/dist-packages (from requests->folium) (2021.10.8)\n",
            "Collecting pykrige\n",
            "  Downloading PyKrige-1.6.1-cp37-cp37m-manylinux_2_5_x86_64.manylinux1_x86_64.manylinux_2_12_x86_64.manylinux2010_x86_64.whl (734 kB)\n",
            "\u001b[K     |████████████████████████████████| 734 kB 8.4 MB/s \n",
            "\u001b[?25hRequirement already satisfied: scipy<2,>=1.1.0 in /usr/local/lib/python3.7/dist-packages (from pykrige) (1.4.1)\n",
            "Requirement already satisfied: numpy<2,>=1.14.5 in /usr/local/lib/python3.7/dist-packages (from pykrige) (1.21.5)\n",
            "Installing collected packages: pykrige\n",
            "Successfully installed pykrige-1.6.1\n",
            "Collecting scikit-gstat\n",
            "  Downloading scikit-gstat-1.0.1.tar.gz (2.1 MB)\n",
            "\u001b[K     |████████████████████████████████| 2.1 MB 26.0 MB/s \n",
            "\u001b[?25hRequirement already satisfied: scipy in /usr/local/lib/python3.7/dist-packages (from scikit-gstat) (1.4.1)\n",
            "Requirement already satisfied: numpy in /usr/local/lib/python3.7/dist-packages (from scikit-gstat) (1.21.5)\n",
            "Requirement already satisfied: pandas in /usr/local/lib/python3.7/dist-packages (from scikit-gstat) (1.3.5)\n",
            "Requirement already satisfied: matplotlib in /usr/local/lib/python3.7/dist-packages (from scikit-gstat) (3.2.2)\n",
            "Requirement already satisfied: numba in /usr/local/lib/python3.7/dist-packages (from scikit-gstat) (0.51.2)\n",
            "Requirement already satisfied: scikit-learn in /usr/local/lib/python3.7/dist-packages (from scikit-gstat) (1.0.2)\n",
            "Requirement already satisfied: imageio in /usr/local/lib/python3.7/dist-packages (from scikit-gstat) (2.4.1)\n",
            "Requirement already satisfied: tqdm in /usr/local/lib/python3.7/dist-packages (from scikit-gstat) (4.62.3)\n",
            "Requirement already satisfied: pillow in /usr/local/lib/python3.7/dist-packages (from imageio->scikit-gstat) (7.1.2)\n",
            "Requirement already satisfied: kiwisolver>=1.0.1 in /usr/local/lib/python3.7/dist-packages (from matplotlib->scikit-gstat) (1.3.2)\n",
            "Requirement already satisfied: pyparsing!=2.0.4,!=2.1.2,!=2.1.6,>=2.0.1 in /usr/local/lib/python3.7/dist-packages (from matplotlib->scikit-gstat) (3.0.7)\n",
            "Requirement already satisfied: cycler>=0.10 in /usr/local/lib/python3.7/dist-packages (from matplotlib->scikit-gstat) (0.11.0)\n",
            "Requirement already satisfied: python-dateutil>=2.1 in /usr/local/lib/python3.7/dist-packages (from matplotlib->scikit-gstat) (2.8.2)\n",
            "Requirement already satisfied: six>=1.5 in /usr/local/lib/python3.7/dist-packages (from python-dateutil>=2.1->matplotlib->scikit-gstat) (1.15.0)\n",
            "Requirement already satisfied: setuptools in /usr/local/lib/python3.7/dist-packages (from numba->scikit-gstat) (57.4.0)\n",
            "Requirement already satisfied: llvmlite<0.35,>=0.34.0.dev0 in /usr/local/lib/python3.7/dist-packages (from numba->scikit-gstat) (0.34.0)\n",
            "Requirement already satisfied: pytz>=2017.3 in /usr/local/lib/python3.7/dist-packages (from pandas->scikit-gstat) (2018.9)\n",
            "Requirement already satisfied: joblib>=0.11 in /usr/local/lib/python3.7/dist-packages (from scikit-learn->scikit-gstat) (1.1.0)\n",
            "Requirement already satisfied: threadpoolctl>=2.0.0 in /usr/local/lib/python3.7/dist-packages (from scikit-learn->scikit-gstat) (3.1.0)\n",
            "Building wheels for collected packages: scikit-gstat\n",
            "  Building wheel for scikit-gstat (setup.py) ... \u001b[?25l\u001b[?25hdone\n",
            "  Created wheel for scikit-gstat: filename=scikit_gstat-1.0.1-py3-none-any.whl size=703496 sha256=f502a3cd8df997a6ff7d4cde21720d4958ee6e973b8d76a27200b87a98e65e01\n",
            "  Stored in directory: /root/.cache/pip/wheels/0e/66/1b/692968c08959d21040075395a1e2e15ffd71823034691e1778\n",
            "Successfully built scikit-gstat\n",
            "Installing collected packages: scikit-gstat\n",
            "Successfully installed scikit-gstat-1.0.1\n"
          ]
        }
      ],
      "source": [
        "%pip install lasio\n",
        "%pip install geopandas\n",
        "%pip install folium\n",
        "%pip install pykrige\n",
        "%pip install scikit-gstat #moduł dostępny potem jako skgstat"
      ]
    },
    {
      "cell_type": "code",
      "execution_count": null,
      "id": "3c75f4a6",
      "metadata": {
        "id": "3c75f4a6"
      },
      "outputs": [],
      "source": [
        "import pandas as pd\n",
        "import numpy as np\n",
        "import lasio \n",
        "import os\n",
        "import glob\n",
        "from zipfile import ZipFile\n",
        "import matplotlib.pyplot as plt\n",
        "\n",
        "import geopandas\n",
        "import folium\n",
        "import gdal\n",
        "\n",
        "from scipy import interpolate as scinter\n",
        "from skgstat import Variogram\n",
        "import pykrige as pkg\n",
        "\n",
        "%matplotlib inline"
      ]
    },
    {
      "cell_type": "code",
      "execution_count": null,
      "id": "iy3f2gjd2aBO",
      "metadata": {
        "colab": {
          "base_uri": "https://localhost:8080/"
        },
        "id": "iy3f2gjd2aBO",
        "outputId": "d84c303d-2907-481d-ab49-cc5d18b5c896"
      },
      "outputs": [
        {
          "output_type": "stream",
          "name": "stdout",
          "text": [
            "Mounted at /content/drive\n"
          ]
        }
      ],
      "source": [
        "#Tylko na Colabie\n",
        "from google.colab import drive\n",
        "drive.mount('/content/drive')"
      ]
    },
    {
      "cell_type": "markdown",
      "source": [
        "### Tworzenie listy plików *.zip"
      ],
      "metadata": {
        "id": "tXVs_1_kwHxg"
      },
      "id": "tXVs_1_kwHxg"
    },
    {
      "cell_type": "code",
      "execution_count": null,
      "id": "cfb207e9",
      "metadata": {
        "colab": {
          "base_uri": "https://localhost:8080/"
        },
        "id": "cfb207e9",
        "outputId": "e63a66be-3af9-4cbb-d017-5e15c0297322"
      },
      "outputs": [
        {
          "output_type": "stream",
          "name": "stdout",
          "text": [
            "/content/drive/MyDrive/2015_sample/\n",
            "Znaleziono 75 plików\n"
          ]
        }
      ],
      "source": [
        "#lista plików zip\n",
        "path = \"/content/drive/MyDrive/2015_sample/\" #na końcu ścieżki musi być ukośnik\n",
        "#path = \"E:/Maciek pobrane/2020_extract/\"\n",
        "print(path)\n",
        "filelist = []\n",
        "for file in os.listdir(path):\n",
        "    if file.endswith(\".zip\"):\n",
        "        #print(file)\n",
        "        filelist.append(file)\n",
        "print(f\"Znaleziono {len(filelist)} plików\")"
      ]
    },
    {
      "cell_type": "markdown",
      "id": "3741237b",
      "metadata": {
        "id": "3741237b"
      },
      "source": [
        "### Odczytywanie pliku"
      ]
    },
    {
      "cell_type": "code",
      "execution_count": null,
      "id": "d750ddc3",
      "metadata": {
        "id": "d750ddc3"
      },
      "outputs": [],
      "source": [
        "os.mkdir('las_tmp') #pliki będą wypakowywane do tymczasowego katalogu"
      ]
    },
    {
      "cell_type": "code",
      "execution_count": null,
      "id": "7690f0b5",
      "metadata": {
        "id": "7690f0b5"
      },
      "outputs": [],
      "source": [
        "#zróbmy sobie funkcję do wczytywania plików las z zipów (przyjmuje ścieżkę do pliku zip, zwraca obiekt las)\n",
        "def unzip_las_file(my_zipfile):\n",
        "    with ZipFile(my_zipfile, 'r') as zipObj:\n",
        "         zipObj.extractall('las_tmp')\n",
        "    for filename in glob.iglob('las_tmp/*.las', recursive=False):\n",
        "        las = lasio.read(filename) #odczytujemy dany plik las funkcją z modułu lasio\n",
        "        #print(filename)\n",
        "        os.remove(filename) #po wczytaniu do danych do obiektu las wypakowany plik nie jest już potrzebny\n",
        "    return(las)"
      ]
    },
    {
      "cell_type": "code",
      "execution_count": null,
      "id": "c8139f9a",
      "metadata": {
        "id": "c8139f9a"
      },
      "outputs": [],
      "source": [
        "#funkcja do wyciągania mnemoników wszystkich krzywych dostępnych w pliku (przyjmuje obiekt las, zwraca listę dostępnych mnemoników krzywych)\n",
        "def extract_mnemonics(lasdata):\n",
        "    curves_avail = lasdata.curves\n",
        "    list_of_mnems = []\n",
        "    for i in curves_avail:\n",
        "        mnem = i.mnemonic\n",
        "        list_of_mnems.append(mnem) #zapisuje wszystkie mnemoniki na liście\n",
        "    #print(f\"{len(list_of_mnems)} krzywych\")\n",
        "    return(list_of_mnems)"
      ]
    },
    {
      "cell_type": "code",
      "execution_count": null,
      "id": "FXo7biO6Nzot",
      "metadata": {
        "id": "FXo7biO6Nzot"
      },
      "outputs": [],
      "source": [
        "#funkcja, która dla danego otworu las (z krzywą GR) interpoluje wartość gr na zadanej głębokości\n",
        "#(bo na przykład może nie być pomiaru dla głębokości na której chcemy modelować)\n",
        "#interpolacja przez np.interp\n",
        "\n",
        "def get_GR(lasdata, depth):\n",
        "  df = lasdata.df() #tworzymy ramkę z obiektu las\n",
        "  dfd = df.rename_axis('Depth').reset_index() #wstawia Depth które było indeksem jako kolumnę ramki danych\n",
        "  d = dfd.Depth\n",
        "  g = dfd.GR\n",
        "  interpolated_g = np.interp(x = depth, xp = d, fp = g)\n",
        "  return(interpolated_g)\n",
        "\n",
        "\n"
      ]
    },
    {
      "cell_type": "markdown",
      "id": "98f74a0a",
      "metadata": {
        "id": "98f74a0a"
      },
      "source": [
        "### Odczytywanie wszystkich plików\n",
        "\n",
        "z wykorzystaniem zdefinowanej funkcji *unzip_las_file*\n",
        "\n",
        "poszczególne obiekty las wrzucamy do listy *list_of_wells*"
      ]
    },
    {
      "cell_type": "code",
      "execution_count": null,
      "id": "14410dba",
      "metadata": {
        "id": "14410dba"
      },
      "outputs": [],
      "source": [
        "list_of_wells = []\n",
        "kgs_ids = []\n",
        "for f in filelist:\n",
        "    las_f = unzip_las_file(path + f)\n",
        "    id = os.path.basename(f)[:-4] #uzyskanie samej nazwy pliku (bez ścieżki) i od razu odcięcie 4 ostatnich znaków (.zip)\n",
        "    #print(id)\n",
        "    kgs_ids.append(id)\n",
        "    list_of_wells.append(las_f) #list_of_wells będzie się składała z obiektów typu las"
      ]
    },
    {
      "cell_type": "code",
      "execution_count": null,
      "id": "71e4952d",
      "metadata": {
        "colab": {
          "base_uri": "https://localhost:8080/"
        },
        "id": "71e4952d",
        "outputId": "9310e3be-357d-41f0-a3b4-712b960a406f"
      },
      "outputs": [
        {
          "output_type": "stream",
          "name": "stdout",
          "text": [
            "['1044966370', '1044966304', '1044966286', '1044966297', '1044966363', '1044966374', '1044966341', '1044966324', '1044966352', '1044966331', '1044966339', '1044966347', '1044966372', '1044966321', '1044966325', '1044966383', '1044966469', '1044966402', '1044966394', '1044966465', '1044966390', '1044966500', '1044966468', '1044966501', '1044966477', '1044966543', '1044966417', '1044966432', '1044966407', '1044966506', '1044966406', '1044966474', '1044966424', '1044966436', '1044966528', '1044966375', '1044966403', '1044966507', '1044966460', '1044966443', '1044966455', '1044966399', '1044966398', '1044966414', '1044966488', '1044966412', '1044966505', '1044966467', '1044966627', '1044966544', '1044966681', '1044966566', '1044966734', '1044966663', '1044966705', '1044966599', '1044966712', '1044966585', '1044966610', '1044966634', '1044966723', '1044966704', '1044966628', '1044966617', '1044966549', '1044966711', '1044966623', '1044966645', '1044966657', '1044966698', '1044966578', '1044966662', '1044966574', '1044966697', '1044966589']\n"
          ]
        }
      ],
      "source": [
        "print(kgs_ids)"
      ]
    },
    {
      "cell_type": "code",
      "execution_count": null,
      "id": "1005b833",
      "metadata": {
        "id": "1005b833"
      },
      "outputs": [],
      "source": [
        "os.rmdir('las_tmp')"
      ]
    },
    {
      "cell_type": "markdown",
      "id": "b9341d1d",
      "metadata": {
        "id": "b9341d1d"
      },
      "source": [
        "### Wybór otworów z krzywą GR\n",
        "\n",
        "\n",
        "z wykorzystaniem funkcji extract_mnemonics\n",
        "\n",
        "obiekty las otworów z krzywą zapisywane są na liście wells_wth_gr. Równocześnie, dla każdego wybranego otworu brany jest identyfikator o właściwym indeksie z listy kgs_ids i zapisywany na listę kgs_wth_gr"
      ]
    },
    {
      "cell_type": "code",
      "execution_count": null,
      "id": "5eb082e1",
      "metadata": {
        "colab": {
          "base_uri": "https://localhost:8080/"
        },
        "id": "5eb082e1",
        "outputId": "7fe3c1a8-8e5b-4bcb-9ad6-3947837a1881"
      },
      "outputs": [
        {
          "output_type": "stream",
          "name": "stdout",
          "text": [
            "54 otworów z krzywą GR z 75 wszystkich\n",
            "54 identyfikatorów\n"
          ]
        }
      ],
      "source": [
        "wells_wth_gr = []\n",
        "kgs_wth_gr = []\n",
        "i = 0 #licznik do wybierania odpowiadających obiektów z innej listy\n",
        "for well in list_of_wells:\n",
        "    well_mnems = extract_mnemonics(well)\n",
        "    if ('GR' in well_mnems):\n",
        "        wells_wth_gr.append(well)\n",
        "        kgs_wth_gr.append(kgs_ids[i])\n",
        "        #print(i)\n",
        "    i = i + 1 #zwiększa licznik, ważne, że poza if!\n",
        "print (f\"{len(wells_wth_gr)} otworów z krzywą GR z {len(list_of_wells)} wszystkich\")\n",
        "print (f\"{len(kgs_wth_gr)} identyfikatorów\")"
      ]
    },
    {
      "cell_type": "code",
      "execution_count": null,
      "id": "093ec416",
      "metadata": {
        "colab": {
          "base_uri": "https://localhost:8080/"
        },
        "id": "093ec416",
        "outputId": "94513331-acbe-4082-a98f-d377f3e6634d"
      },
      "outputs": [
        {
          "output_type": "stream",
          "name": "stdout",
          "text": [
            "['1044966370', '1044966286', '1044966341', '1044966331', '1044966339', '1044966372', '1044966325', '1044966469', '1044966402', '1044966394', '1044966465', '1044966500', '1044966468', '1044966501', '1044966477', '1044966417', '1044966432', '1044966407', '1044966506', '1044966406', '1044966474', '1044966424', '1044966436', '1044966528', '1044966375', '1044966403', '1044966460', '1044966443', '1044966399', '1044966398', '1044966488', '1044966412', '1044966505', '1044966467', '1044966627', '1044966544', '1044966681', '1044966663', '1044966705', '1044966599', '1044966712', '1044966585', '1044966634', '1044966704', '1044966628', '1044966617', '1044966549', '1044966711', '1044966623', '1044966645', '1044966698', '1044966662', '1044966697', '1044966589']\n"
          ]
        }
      ],
      "source": [
        "print(kgs_wth_gr)"
      ]
    },
    {
      "cell_type": "markdown",
      "id": "60a6863e",
      "metadata": {
        "id": "60a6863e"
      },
      "source": [
        "### Wyciąganie danych o otworach\n",
        "\n",
        "Pobieramy dane o otworach korzystając jednocześnie z list *wells_wth_gr* (obiekty las) i pasującej do niej *kgs_wth_gr *(identyfikatory obiektów)\n",
        "\n",
        "Funkcją *get_GR* wyciągamy wartość gamma na głębokości zadanej zmienną interpolation_depth. Jednostką jest [gamma API](https://glossary.oilfield.slb.com/en/terms/a/api_unit)\n",
        "\n",
        "Dane zapisujemy do słownika *wells_d* indeksowanego licznikiem i.\n",
        "\n",
        "Na koniec przekształcamy słownik do ramki danych pandas."
      ]
    },
    {
      "cell_type": "code",
      "execution_count": null,
      "id": "1e72f3e0",
      "metadata": {
        "colab": {
          "base_uri": "https://localhost:8080/",
          "height": 206
        },
        "id": "1e72f3e0",
        "outputId": "28e8c0aa-ddc7-4934-b523-0fe8dae9380d"
      },
      "outputs": [
        {
          "output_type": "execute_result",
          "data": {
            "text/html": [
              "\n",
              "  <div id=\"df-d61bcfa8-319d-44ba-aa32-8c74faa4ec7d\">\n",
              "    <div class=\"colab-df-container\">\n",
              "      <div>\n",
              "<style scoped>\n",
              "    .dataframe tbody tr th:only-of-type {\n",
              "        vertical-align: middle;\n",
              "    }\n",
              "\n",
              "    .dataframe tbody tr th {\n",
              "        vertical-align: top;\n",
              "    }\n",
              "\n",
              "    .dataframe thead th {\n",
              "        text-align: right;\n",
              "    }\n",
              "</style>\n",
              "<table border=\"1\" class=\"dataframe\">\n",
              "  <thead>\n",
              "    <tr style=\"text-align: right;\">\n",
              "      <th></th>\n",
              "      <th>KGS</th>\n",
              "      <th>Identifier</th>\n",
              "      <th>gamma</th>\n",
              "    </tr>\n",
              "  </thead>\n",
              "  <tbody>\n",
              "    <tr>\n",
              "      <th>0</th>\n",
              "      <td>1044966370</td>\n",
              "      <td>1-2 ANDRESS \"B\"</td>\n",
              "      <td>58.0933</td>\n",
              "    </tr>\n",
              "    <tr>\n",
              "      <th>1</th>\n",
              "      <td>1044966286</td>\n",
              "      <td>Betty Marilyn #1</td>\n",
              "      <td>78.051</td>\n",
              "    </tr>\n",
              "    <tr>\n",
              "      <th>2</th>\n",
              "      <td>1044966341</td>\n",
              "      <td>KU-Dinges No. 1</td>\n",
              "      <td>42.0071</td>\n",
              "    </tr>\n",
              "    <tr>\n",
              "      <th>3</th>\n",
              "      <td>1044966331</td>\n",
              "      <td>Coburn #4-8</td>\n",
              "      <td>121.3674</td>\n",
              "    </tr>\n",
              "    <tr>\n",
              "      <th>4</th>\n",
              "      <td>1044966339</td>\n",
              "      <td>LINN #1-9</td>\n",
              "      <td>29.3743</td>\n",
              "    </tr>\n",
              "  </tbody>\n",
              "</table>\n",
              "</div>\n",
              "      <button class=\"colab-df-convert\" onclick=\"convertToInteractive('df-d61bcfa8-319d-44ba-aa32-8c74faa4ec7d')\"\n",
              "              title=\"Convert this dataframe to an interactive table.\"\n",
              "              style=\"display:none;\">\n",
              "        \n",
              "  <svg xmlns=\"http://www.w3.org/2000/svg\" height=\"24px\"viewBox=\"0 0 24 24\"\n",
              "       width=\"24px\">\n",
              "    <path d=\"M0 0h24v24H0V0z\" fill=\"none\"/>\n",
              "    <path d=\"M18.56 5.44l.94 2.06.94-2.06 2.06-.94-2.06-.94-.94-2.06-.94 2.06-2.06.94zm-11 1L8.5 8.5l.94-2.06 2.06-.94-2.06-.94L8.5 2.5l-.94 2.06-2.06.94zm10 10l.94 2.06.94-2.06 2.06-.94-2.06-.94-.94-2.06-.94 2.06-2.06.94z\"/><path d=\"M17.41 7.96l-1.37-1.37c-.4-.4-.92-.59-1.43-.59-.52 0-1.04.2-1.43.59L10.3 9.45l-7.72 7.72c-.78.78-.78 2.05 0 2.83L4 21.41c.39.39.9.59 1.41.59.51 0 1.02-.2 1.41-.59l7.78-7.78 2.81-2.81c.8-.78.8-2.07 0-2.86zM5.41 20L4 18.59l7.72-7.72 1.47 1.35L5.41 20z\"/>\n",
              "  </svg>\n",
              "      </button>\n",
              "      \n",
              "  <style>\n",
              "    .colab-df-container {\n",
              "      display:flex;\n",
              "      flex-wrap:wrap;\n",
              "      gap: 12px;\n",
              "    }\n",
              "\n",
              "    .colab-df-convert {\n",
              "      background-color: #E8F0FE;\n",
              "      border: none;\n",
              "      border-radius: 50%;\n",
              "      cursor: pointer;\n",
              "      display: none;\n",
              "      fill: #1967D2;\n",
              "      height: 32px;\n",
              "      padding: 0 0 0 0;\n",
              "      width: 32px;\n",
              "    }\n",
              "\n",
              "    .colab-df-convert:hover {\n",
              "      background-color: #E2EBFA;\n",
              "      box-shadow: 0px 1px 2px rgba(60, 64, 67, 0.3), 0px 1px 3px 1px rgba(60, 64, 67, 0.15);\n",
              "      fill: #174EA6;\n",
              "    }\n",
              "\n",
              "    [theme=dark] .colab-df-convert {\n",
              "      background-color: #3B4455;\n",
              "      fill: #D2E3FC;\n",
              "    }\n",
              "\n",
              "    [theme=dark] .colab-df-convert:hover {\n",
              "      background-color: #434B5C;\n",
              "      box-shadow: 0px 1px 3px 1px rgba(0, 0, 0, 0.15);\n",
              "      filter: drop-shadow(0px 1px 2px rgba(0, 0, 0, 0.3));\n",
              "      fill: #FFFFFF;\n",
              "    }\n",
              "  </style>\n",
              "\n",
              "      <script>\n",
              "        const buttonEl =\n",
              "          document.querySelector('#df-d61bcfa8-319d-44ba-aa32-8c74faa4ec7d button.colab-df-convert');\n",
              "        buttonEl.style.display =\n",
              "          google.colab.kernel.accessAllowed ? 'block' : 'none';\n",
              "\n",
              "        async function convertToInteractive(key) {\n",
              "          const element = document.querySelector('#df-d61bcfa8-319d-44ba-aa32-8c74faa4ec7d');\n",
              "          const dataTable =\n",
              "            await google.colab.kernel.invokeFunction('convertToInteractive',\n",
              "                                                     [key], {});\n",
              "          if (!dataTable) return;\n",
              "\n",
              "          const docLinkHtml = 'Like what you see? Visit the ' +\n",
              "            '<a target=\"_blank\" href=https://colab.research.google.com/notebooks/data_table.ipynb>data table notebook</a>'\n",
              "            + ' to learn more about interactive tables.';\n",
              "          element.innerHTML = '';\n",
              "          dataTable['output_type'] = 'display_data';\n",
              "          await google.colab.output.renderOutput(dataTable, element);\n",
              "          const docLink = document.createElement('div');\n",
              "          docLink.innerHTML = docLinkHtml;\n",
              "          element.appendChild(docLink);\n",
              "        }\n",
              "      </script>\n",
              "    </div>\n",
              "  </div>\n",
              "  "
            ],
            "text/plain": [
              "          KGS        Identifier     gamma\n",
              "0  1044966370   1-2 ANDRESS \"B\"   58.0933\n",
              "1  1044966286  Betty Marilyn #1    78.051\n",
              "2  1044966341   KU-Dinges No. 1   42.0071\n",
              "3  1044966331       Coburn #4-8  121.3674\n",
              "4  1044966339         LINN #1-9   29.3743"
            ]
          },
          "metadata": {},
          "execution_count": 15
        }
      ],
      "source": [
        "interpolation_depth = 1002\n",
        "wells_d = {}\n",
        "i = 0\n",
        "for well in wells_wth_gr:\n",
        "    identifier = well.well[\"WELL\"]\n",
        "    identifier = identifier.value\n",
        "    kgs = kgs_wth_gr[i]\n",
        "    gamma = get_GR(well,interpolation_depth)\n",
        "    #colname_gamma = 'Gamma at ' + str(interpolation_depth) #sprytna nazwa kolumny (klucza w słowniku)\n",
        "    wells_d[i] = {'KGS':kgs,'Identifier':identifier,'gamma':gamma}\n",
        "    i = i+1\n",
        "wells_df = pd.DataFrame(wells_d)\n",
        "wells_df = wells_df.T #transpozycja, bo nie wiem czemu ramka wychodzi nie taka jak trzeba\n",
        "wells_df.head()"
      ]
    },
    {
      "cell_type": "markdown",
      "id": "c2cd876e",
      "metadata": {
        "id": "c2cd876e"
      },
      "source": [
        "Do zrobienia: korekta wysokości, czyli z tabeli poniżej (trzeba ją będzie wczytywać wcześniej) musimy wziąć wartość Elevation\n",
        "    żeby przeliczać głębokość względem początku wiercenia na głębość względem poziomu morza."
      ]
    },
    {
      "cell_type": "markdown",
      "id": "ca0dd1ed",
      "metadata": {
        "id": "ca0dd1ed"
      },
      "source": [
        "### Współrzędne otworów\n",
        "\n",
        "Nie wszystkie otwory mają współrzędne w pliku las. W tym zbiorze danych mamy dodatkowy plik z listą wszystkich identyfikatorów i ich współrzędnych."
      ]
    },
    {
      "cell_type": "code",
      "execution_count": null,
      "id": "8df54524",
      "metadata": {
        "colab": {
          "base_uri": "https://localhost:8080/",
          "height": 337
        },
        "id": "8df54524",
        "outputId": "1e83dd1e-a8ab-43eb-93a2-8f131aa96190"
      },
      "outputs": [
        {
          "output_type": "execute_result",
          "data": {
            "text/html": [
              "\n",
              "  <div id=\"df-7eb42fd7-7234-4be8-a7c8-3e7f7766d84e\">\n",
              "    <div class=\"colab-df-container\">\n",
              "      <div>\n",
              "<style scoped>\n",
              "    .dataframe tbody tr th:only-of-type {\n",
              "        vertical-align: middle;\n",
              "    }\n",
              "\n",
              "    .dataframe tbody tr th {\n",
              "        vertical-align: top;\n",
              "    }\n",
              "\n",
              "    .dataframe thead th {\n",
              "        text-align: right;\n",
              "    }\n",
              "</style>\n",
              "<table border=\"1\" class=\"dataframe\">\n",
              "  <thead>\n",
              "    <tr style=\"text-align: right;\">\n",
              "      <th></th>\n",
              "      <th>KGS_ID</th>\n",
              "      <th>Latitude</th>\n",
              "      <th>Longitude</th>\n",
              "      <th>Location</th>\n",
              "      <th>Operator</th>\n",
              "      <th>Lease</th>\n",
              "      <th>API</th>\n",
              "      <th>Elevation</th>\n",
              "      <th>Elev_Ref</th>\n",
              "      <th>Depth_start</th>\n",
              "      <th>Depth_stop</th>\n",
              "      <th>URL</th>\n",
              "    </tr>\n",
              "  </thead>\n",
              "  <tbody>\n",
              "    <tr>\n",
              "      <th>0</th>\n",
              "      <td>1028187622</td>\n",
              "      <td>39.983440</td>\n",
              "      <td>-97.199375</td>\n",
              "      <td>T1S R2E, Sec. 10,   NW SW NW</td>\n",
              "      <td>KANSAS GEOLOGICAL SURVEY</td>\n",
              "      <td>W. GAYDUSEK II 1</td>\n",
              "      <td>NaN</td>\n",
              "      <td>1599.0</td>\n",
              "      <td>KB</td>\n",
              "      <td>50.5</td>\n",
              "      <td>525.0</td>\n",
              "      <td>http://www.kgs.ku.edu/WellLogs/01S02E/10200690...</td>\n",
              "    </tr>\n",
              "    <tr>\n",
              "      <th>1</th>\n",
              "      <td>1044172351</td>\n",
              "      <td>39.943543</td>\n",
              "      <td>-95.936294</td>\n",
              "      <td>T1S R13E, Sec. 23,  W2 SE SW SW</td>\n",
              "      <td>Kinney Oil Company</td>\n",
              "      <td>Baumgartner 1-23 1</td>\n",
              "      <td>15-131-20234</td>\n",
              "      <td>1215.0</td>\n",
              "      <td>KB</td>\n",
              "      <td>1814.2</td>\n",
              "      <td>2096.2</td>\n",
              "      <td>http://www.kgs.ku.edu/WellLogs/kcc_logs_2015/1...</td>\n",
              "    </tr>\n",
              "    <tr>\n",
              "      <th>2</th>\n",
              "      <td>1044172351</td>\n",
              "      <td>39.943543</td>\n",
              "      <td>-95.936294</td>\n",
              "      <td>T1S R13E, Sec. 23,  W2 SE SW SW</td>\n",
              "      <td>Kinney Oil Company</td>\n",
              "      <td>Baumgartner 1-23 1</td>\n",
              "      <td>15-131-20234</td>\n",
              "      <td>1215.0</td>\n",
              "      <td>KB</td>\n",
              "      <td>240.0</td>\n",
              "      <td>2096.4</td>\n",
              "      <td>http://www.kgs.ku.edu/WellLogs/kcc_logs_2015/1...</td>\n",
              "    </tr>\n",
              "    <tr>\n",
              "      <th>3</th>\n",
              "      <td>1046218592</td>\n",
              "      <td>39.994854</td>\n",
              "      <td>-95.802030</td>\n",
              "      <td>T1S R14E, Sec. 1,  W2 SW SE NW</td>\n",
              "      <td>Black Star 231 Corp.</td>\n",
              "      <td>SNYDER 5-17</td>\n",
              "      <td>15-131-20244</td>\n",
              "      <td>1114.0</td>\n",
              "      <td>KB</td>\n",
              "      <td>161.4</td>\n",
              "      <td>3632.9</td>\n",
              "      <td>http://www.kgs.ku.edu/WellLogs/kcc_logs_2019/1...</td>\n",
              "    </tr>\n",
              "    <tr>\n",
              "      <th>4</th>\n",
              "      <td>1046218592</td>\n",
              "      <td>39.994854</td>\n",
              "      <td>-95.802030</td>\n",
              "      <td>T1S R14E, Sec. 1,  W2 SW SE NW</td>\n",
              "      <td>Black Star 231 Corp.</td>\n",
              "      <td>SNYDER 5-17</td>\n",
              "      <td>15-131-20244</td>\n",
              "      <td>1114.0</td>\n",
              "      <td>KB</td>\n",
              "      <td>161.4</td>\n",
              "      <td>3633.4</td>\n",
              "      <td>http://www.kgs.ku.edu/WellLogs/kcc_logs_2019/1...</td>\n",
              "    </tr>\n",
              "  </tbody>\n",
              "</table>\n",
              "</div>\n",
              "      <button class=\"colab-df-convert\" onclick=\"convertToInteractive('df-7eb42fd7-7234-4be8-a7c8-3e7f7766d84e')\"\n",
              "              title=\"Convert this dataframe to an interactive table.\"\n",
              "              style=\"display:none;\">\n",
              "        \n",
              "  <svg xmlns=\"http://www.w3.org/2000/svg\" height=\"24px\"viewBox=\"0 0 24 24\"\n",
              "       width=\"24px\">\n",
              "    <path d=\"M0 0h24v24H0V0z\" fill=\"none\"/>\n",
              "    <path d=\"M18.56 5.44l.94 2.06.94-2.06 2.06-.94-2.06-.94-.94-2.06-.94 2.06-2.06.94zm-11 1L8.5 8.5l.94-2.06 2.06-.94-2.06-.94L8.5 2.5l-.94 2.06-2.06.94zm10 10l.94 2.06.94-2.06 2.06-.94-2.06-.94-.94-2.06-.94 2.06-2.06.94z\"/><path d=\"M17.41 7.96l-1.37-1.37c-.4-.4-.92-.59-1.43-.59-.52 0-1.04.2-1.43.59L10.3 9.45l-7.72 7.72c-.78.78-.78 2.05 0 2.83L4 21.41c.39.39.9.59 1.41.59.51 0 1.02-.2 1.41-.59l7.78-7.78 2.81-2.81c.8-.78.8-2.07 0-2.86zM5.41 20L4 18.59l7.72-7.72 1.47 1.35L5.41 20z\"/>\n",
              "  </svg>\n",
              "      </button>\n",
              "      \n",
              "  <style>\n",
              "    .colab-df-container {\n",
              "      display:flex;\n",
              "      flex-wrap:wrap;\n",
              "      gap: 12px;\n",
              "    }\n",
              "\n",
              "    .colab-df-convert {\n",
              "      background-color: #E8F0FE;\n",
              "      border: none;\n",
              "      border-radius: 50%;\n",
              "      cursor: pointer;\n",
              "      display: none;\n",
              "      fill: #1967D2;\n",
              "      height: 32px;\n",
              "      padding: 0 0 0 0;\n",
              "      width: 32px;\n",
              "    }\n",
              "\n",
              "    .colab-df-convert:hover {\n",
              "      background-color: #E2EBFA;\n",
              "      box-shadow: 0px 1px 2px rgba(60, 64, 67, 0.3), 0px 1px 3px 1px rgba(60, 64, 67, 0.15);\n",
              "      fill: #174EA6;\n",
              "    }\n",
              "\n",
              "    [theme=dark] .colab-df-convert {\n",
              "      background-color: #3B4455;\n",
              "      fill: #D2E3FC;\n",
              "    }\n",
              "\n",
              "    [theme=dark] .colab-df-convert:hover {\n",
              "      background-color: #434B5C;\n",
              "      box-shadow: 0px 1px 3px 1px rgba(0, 0, 0, 0.15);\n",
              "      filter: drop-shadow(0px 1px 2px rgba(0, 0, 0, 0.3));\n",
              "      fill: #FFFFFF;\n",
              "    }\n",
              "  </style>\n",
              "\n",
              "      <script>\n",
              "        const buttonEl =\n",
              "          document.querySelector('#df-7eb42fd7-7234-4be8-a7c8-3e7f7766d84e button.colab-df-convert');\n",
              "        buttonEl.style.display =\n",
              "          google.colab.kernel.accessAllowed ? 'block' : 'none';\n",
              "\n",
              "        async function convertToInteractive(key) {\n",
              "          const element = document.querySelector('#df-7eb42fd7-7234-4be8-a7c8-3e7f7766d84e');\n",
              "          const dataTable =\n",
              "            await google.colab.kernel.invokeFunction('convertToInteractive',\n",
              "                                                     [key], {});\n",
              "          if (!dataTable) return;\n",
              "\n",
              "          const docLinkHtml = 'Like what you see? Visit the ' +\n",
              "            '<a target=\"_blank\" href=https://colab.research.google.com/notebooks/data_table.ipynb>data table notebook</a>'\n",
              "            + ' to learn more about interactive tables.';\n",
              "          element.innerHTML = '';\n",
              "          dataTable['output_type'] = 'display_data';\n",
              "          await google.colab.output.renderOutput(dataTable, element);\n",
              "          const docLink = document.createElement('div');\n",
              "          docLink.innerHTML = docLinkHtml;\n",
              "          element.appendChild(docLink);\n",
              "        }\n",
              "      </script>\n",
              "    </div>\n",
              "  </div>\n",
              "  "
            ],
            "text/plain": [
              "       KGS_ID  ...                                                URL\n",
              "0  1028187622  ...  http://www.kgs.ku.edu/WellLogs/01S02E/10200690...\n",
              "1  1044172351  ...  http://www.kgs.ku.edu/WellLogs/kcc_logs_2015/1...\n",
              "2  1044172351  ...  http://www.kgs.ku.edu/WellLogs/kcc_logs_2015/1...\n",
              "3  1046218592  ...  http://www.kgs.ku.edu/WellLogs/kcc_logs_2019/1...\n",
              "4  1046218592  ...  http://www.kgs.ku.edu/WellLogs/kcc_logs_2019/1...\n",
              "\n",
              "[5 rows x 12 columns]"
            ]
          },
          "metadata": {},
          "execution_count": 17
        }
      ],
      "source": [
        "#full_list = pd.read_csv(\"E:/Maciek pobrane/ks_las_files.txt\")\n",
        "full_list = pd.read_csv(\"/ks_las_files.txt\")\n",
        "full_list = pd.DataFrame(full_list)\n",
        "full_list.head()"
      ]
    },
    {
      "cell_type": "markdown",
      "id": "d5390c8e",
      "metadata": {
        "id": "d5390c8e"
      },
      "source": [
        "Wygląda jednak na to, że nie wystarczy skorzystać z pola KGS_ID, bo nie jest ono tożsame z nazwą pliku; musimy skorzystać z pola URL i odpowiednio je wyciąć; w dodatku w URL mamy obiekty"
      ]
    },
    {
      "cell_type": "code",
      "execution_count": null,
      "id": "e86abdc2",
      "metadata": {
        "id": "e86abdc2"
      },
      "outputs": [],
      "source": [
        "extract_url = []\n",
        "for x in full_list.URL:\n",
        "    y = x[-14:] #ostatnie 14 znaków\n",
        "    y = y[0:10] #ucinamy .zip\n",
        "    extract_url.append(y)\n",
        "len(extract_url)\n",
        "extract_url\n",
        "\n",
        "full_list['KGS'] = extract_url #dodajemy nową kolumnę do full_list"
      ]
    },
    {
      "cell_type": "markdown",
      "id": "28d59349",
      "metadata": {
        "id": "28d59349"
      },
      "source": [
        "**I finalnie w ramce wdf mamy nasze dane!!!👍**:"
      ]
    },
    {
      "cell_type": "code",
      "execution_count": null,
      "id": "8e897f53",
      "metadata": {
        "id": "8e897f53"
      },
      "outputs": [],
      "source": [
        "wdf = pd.merge(wells_df,full_list,on='KGS',how = 'left') #łączenie dwóch ramek wg kolumny"
      ]
    },
    {
      "cell_type": "code",
      "execution_count": null,
      "id": "1c9da23d",
      "metadata": {
        "colab": {
          "base_uri": "https://localhost:8080/",
          "height": 600
        },
        "id": "1c9da23d",
        "outputId": "af392d34-b9e0-4492-ae13-f4f16b0e4e82"
      },
      "outputs": [
        {
          "output_type": "execute_result",
          "data": {
            "text/html": [
              "\n",
              "  <div id=\"df-b4fc400c-8f0e-482b-ad57-c897486e0ada\">\n",
              "    <div class=\"colab-df-container\">\n",
              "      <div>\n",
              "<style scoped>\n",
              "    .dataframe tbody tr th:only-of-type {\n",
              "        vertical-align: middle;\n",
              "    }\n",
              "\n",
              "    .dataframe tbody tr th {\n",
              "        vertical-align: top;\n",
              "    }\n",
              "\n",
              "    .dataframe thead th {\n",
              "        text-align: right;\n",
              "    }\n",
              "</style>\n",
              "<table border=\"1\" class=\"dataframe\">\n",
              "  <thead>\n",
              "    <tr style=\"text-align: right;\">\n",
              "      <th></th>\n",
              "      <th>KGS</th>\n",
              "      <th>Identifier</th>\n",
              "      <th>gamma</th>\n",
              "      <th>KGS_ID</th>\n",
              "      <th>Latitude</th>\n",
              "      <th>Longitude</th>\n",
              "      <th>Location</th>\n",
              "      <th>Operator</th>\n",
              "      <th>Lease</th>\n",
              "      <th>API</th>\n",
              "      <th>Elevation</th>\n",
              "      <th>Elev_Ref</th>\n",
              "      <th>Depth_start</th>\n",
              "      <th>Depth_stop</th>\n",
              "      <th>URL</th>\n",
              "    </tr>\n",
              "  </thead>\n",
              "  <tbody>\n",
              "    <tr>\n",
              "      <th>0</th>\n",
              "      <td>1044966370</td>\n",
              "      <td>1-2 ANDRESS \"B\"</td>\n",
              "      <td>58.0933</td>\n",
              "      <td>1044214221</td>\n",
              "      <td>38.254537</td>\n",
              "      <td>-98.714107</td>\n",
              "      <td>T21S R13W, Sec. 2,  NW SW SE NE</td>\n",
              "      <td>L. D. Drilling, Inc.</td>\n",
              "      <td>Andress 'B' 1-2</td>\n",
              "      <td>15-185-23787</td>\n",
              "      <td>1865.0</td>\n",
              "      <td>KB</td>\n",
              "      <td>0.0</td>\n",
              "      <td>3645.50</td>\n",
              "      <td>http://www.kgs.ku.edu/WellLogs/kcc_logs_2015/1...</td>\n",
              "    </tr>\n",
              "    <tr>\n",
              "      <th>1</th>\n",
              "      <td>1044966286</td>\n",
              "      <td>Betty Marilyn #1</td>\n",
              "      <td>78.051</td>\n",
              "      <td>1044230914</td>\n",
              "      <td>38.459109</td>\n",
              "      <td>-100.092740</td>\n",
              "      <td>T18S R25W, Sec. 28,  NW SE SE NW</td>\n",
              "      <td>Palomino Petroleum, Inc.</td>\n",
              "      <td>Betty-Marilyn 1</td>\n",
              "      <td>15-135-25543</td>\n",
              "      <td>2474.0</td>\n",
              "      <td>KB</td>\n",
              "      <td>155.0</td>\n",
              "      <td>4524.75</td>\n",
              "      <td>http://www.kgs.ku.edu/WellLogs/kcc_logs_2015/1...</td>\n",
              "    </tr>\n",
              "    <tr>\n",
              "      <th>2</th>\n",
              "      <td>1044966341</td>\n",
              "      <td>KU-Dinges No. 1</td>\n",
              "      <td>42.0071</td>\n",
              "      <td>1044219415</td>\n",
              "      <td>38.515446</td>\n",
              "      <td>-100.142184</td>\n",
              "      <td>T18S R26W, Sec. 1,  NE NE NW SE</td>\n",
              "      <td>Palomino Petroleum, Inc.</td>\n",
              "      <td>KU-Dinges 1</td>\n",
              "      <td>15-135-25534</td>\n",
              "      <td>2499.0</td>\n",
              "      <td>KB</td>\n",
              "      <td>195.0</td>\n",
              "      <td>4590.00</td>\n",
              "      <td>http://www.kgs.ku.edu/WellLogs/kcc_logs_2015/1...</td>\n",
              "    </tr>\n",
              "    <tr>\n",
              "      <th>3</th>\n",
              "      <td>1044966331</td>\n",
              "      <td>Coburn #4-8</td>\n",
              "      <td>121.3674</td>\n",
              "      <td>1044217053</td>\n",
              "      <td>39.202035</td>\n",
              "      <td>-100.253449</td>\n",
              "      <td>T10S R26W, Sec. 8,   SE NW NW</td>\n",
              "      <td>Culbreath Oil &amp; Gas Company, Inc.</td>\n",
              "      <td>Coburn 4-8</td>\n",
              "      <td>15-179-21326</td>\n",
              "      <td>2618.0</td>\n",
              "      <td>KB</td>\n",
              "      <td>245.0</td>\n",
              "      <td>4130.50</td>\n",
              "      <td>http://www.kgs.ku.edu/WellLogs/kcc_logs_2015/1...</td>\n",
              "    </tr>\n",
              "    <tr>\n",
              "      <th>4</th>\n",
              "      <td>1044966339</td>\n",
              "      <td>LINN #1-9</td>\n",
              "      <td>29.3743</td>\n",
              "      <td>1044221394</td>\n",
              "      <td>38.321584</td>\n",
              "      <td>-99.651052</td>\n",
              "      <td>T20S R21W, Sec. 9,  NW SE SE SW</td>\n",
              "      <td>L. D. Drilling, Inc.</td>\n",
              "      <td>Linn 1-9</td>\n",
              "      <td>15-135-25535</td>\n",
              "      <td>2271.0</td>\n",
              "      <td>KB</td>\n",
              "      <td>0.0</td>\n",
              "      <td>4575.50</td>\n",
              "      <td>http://www.kgs.ku.edu/WellLogs/kcc_logs_2015/1...</td>\n",
              "    </tr>\n",
              "  </tbody>\n",
              "</table>\n",
              "</div>\n",
              "      <button class=\"colab-df-convert\" onclick=\"convertToInteractive('df-b4fc400c-8f0e-482b-ad57-c897486e0ada')\"\n",
              "              title=\"Convert this dataframe to an interactive table.\"\n",
              "              style=\"display:none;\">\n",
              "        \n",
              "  <svg xmlns=\"http://www.w3.org/2000/svg\" height=\"24px\"viewBox=\"0 0 24 24\"\n",
              "       width=\"24px\">\n",
              "    <path d=\"M0 0h24v24H0V0z\" fill=\"none\"/>\n",
              "    <path d=\"M18.56 5.44l.94 2.06.94-2.06 2.06-.94-2.06-.94-.94-2.06-.94 2.06-2.06.94zm-11 1L8.5 8.5l.94-2.06 2.06-.94-2.06-.94L8.5 2.5l-.94 2.06-2.06.94zm10 10l.94 2.06.94-2.06 2.06-.94-2.06-.94-.94-2.06-.94 2.06-2.06.94z\"/><path d=\"M17.41 7.96l-1.37-1.37c-.4-.4-.92-.59-1.43-.59-.52 0-1.04.2-1.43.59L10.3 9.45l-7.72 7.72c-.78.78-.78 2.05 0 2.83L4 21.41c.39.39.9.59 1.41.59.51 0 1.02-.2 1.41-.59l7.78-7.78 2.81-2.81c.8-.78.8-2.07 0-2.86zM5.41 20L4 18.59l7.72-7.72 1.47 1.35L5.41 20z\"/>\n",
              "  </svg>\n",
              "      </button>\n",
              "      \n",
              "  <style>\n",
              "    .colab-df-container {\n",
              "      display:flex;\n",
              "      flex-wrap:wrap;\n",
              "      gap: 12px;\n",
              "    }\n",
              "\n",
              "    .colab-df-convert {\n",
              "      background-color: #E8F0FE;\n",
              "      border: none;\n",
              "      border-radius: 50%;\n",
              "      cursor: pointer;\n",
              "      display: none;\n",
              "      fill: #1967D2;\n",
              "      height: 32px;\n",
              "      padding: 0 0 0 0;\n",
              "      width: 32px;\n",
              "    }\n",
              "\n",
              "    .colab-df-convert:hover {\n",
              "      background-color: #E2EBFA;\n",
              "      box-shadow: 0px 1px 2px rgba(60, 64, 67, 0.3), 0px 1px 3px 1px rgba(60, 64, 67, 0.15);\n",
              "      fill: #174EA6;\n",
              "    }\n",
              "\n",
              "    [theme=dark] .colab-df-convert {\n",
              "      background-color: #3B4455;\n",
              "      fill: #D2E3FC;\n",
              "    }\n",
              "\n",
              "    [theme=dark] .colab-df-convert:hover {\n",
              "      background-color: #434B5C;\n",
              "      box-shadow: 0px 1px 3px 1px rgba(0, 0, 0, 0.15);\n",
              "      filter: drop-shadow(0px 1px 2px rgba(0, 0, 0, 0.3));\n",
              "      fill: #FFFFFF;\n",
              "    }\n",
              "  </style>\n",
              "\n",
              "      <script>\n",
              "        const buttonEl =\n",
              "          document.querySelector('#df-b4fc400c-8f0e-482b-ad57-c897486e0ada button.colab-df-convert');\n",
              "        buttonEl.style.display =\n",
              "          google.colab.kernel.accessAllowed ? 'block' : 'none';\n",
              "\n",
              "        async function convertToInteractive(key) {\n",
              "          const element = document.querySelector('#df-b4fc400c-8f0e-482b-ad57-c897486e0ada');\n",
              "          const dataTable =\n",
              "            await google.colab.kernel.invokeFunction('convertToInteractive',\n",
              "                                                     [key], {});\n",
              "          if (!dataTable) return;\n",
              "\n",
              "          const docLinkHtml = 'Like what you see? Visit the ' +\n",
              "            '<a target=\"_blank\" href=https://colab.research.google.com/notebooks/data_table.ipynb>data table notebook</a>'\n",
              "            + ' to learn more about interactive tables.';\n",
              "          element.innerHTML = '';\n",
              "          dataTable['output_type'] = 'display_data';\n",
              "          await google.colab.output.renderOutput(dataTable, element);\n",
              "          const docLink = document.createElement('div');\n",
              "          docLink.innerHTML = docLinkHtml;\n",
              "          element.appendChild(docLink);\n",
              "        }\n",
              "      </script>\n",
              "    </div>\n",
              "  </div>\n",
              "  "
            ],
            "text/plain": [
              "          KGS  ...                                                URL\n",
              "0  1044966370  ...  http://www.kgs.ku.edu/WellLogs/kcc_logs_2015/1...\n",
              "1  1044966286  ...  http://www.kgs.ku.edu/WellLogs/kcc_logs_2015/1...\n",
              "2  1044966341  ...  http://www.kgs.ku.edu/WellLogs/kcc_logs_2015/1...\n",
              "3  1044966331  ...  http://www.kgs.ku.edu/WellLogs/kcc_logs_2015/1...\n",
              "4  1044966339  ...  http://www.kgs.ku.edu/WellLogs/kcc_logs_2015/1...\n",
              "\n",
              "[5 rows x 15 columns]"
            ]
          },
          "metadata": {},
          "execution_count": 20
        }
      ],
      "source": [
        "wdf.head()"
      ]
    },
    {
      "cell_type": "markdown",
      "id": "a75ff3bb",
      "metadata": {
        "id": "a75ff3bb"
      },
      "source": [
        "Kolumny Identifier i Lease pochodzą z dwóch różnych źródeł (Identifier z plików las, Lease - ze zbiorczego pliku), ale się zgadzają --> dane poprawnie połączone."
      ]
    },
    {
      "cell_type": "markdown",
      "id": "5ccc2d32",
      "metadata": {
        "id": "5ccc2d32"
      },
      "source": [
        "## Mapa wierceń"
      ]
    },
    {
      "cell_type": "code",
      "execution_count": null,
      "id": "kA8fPYgM2WvQ",
      "metadata": {
        "id": "kA8fPYgM2WvQ"
      },
      "outputs": [],
      "source": [
        "wdf.gamma = wdf.gamma.astype(float) #bo inaczej gamma jest typu object"
      ]
    },
    {
      "cell_type": "code",
      "execution_count": null,
      "id": "5a393693",
      "metadata": {
        "colab": {
          "base_uri": "https://localhost:8080/"
        },
        "id": "5a393693",
        "outputId": "dec7291d-ee64-40d5-f0a4-998d38693507"
      },
      "outputs": [
        {
          "output_type": "execute_result",
          "data": {
            "text/plain": [
              "KGS             object\n",
              "Identifier      object\n",
              "gamma          float64\n",
              "KGS_ID           int64\n",
              "Latitude       float64\n",
              "Longitude      float64\n",
              "Location        object\n",
              "Operator        object\n",
              "Lease           object\n",
              "API             object\n",
              "Elevation      float64\n",
              "Elev_Ref        object\n",
              "Depth_start    float64\n",
              "Depth_stop     float64\n",
              "URL             object\n",
              "dtype: object"
            ]
          },
          "metadata": {},
          "execution_count": 22
        }
      ],
      "source": [
        "wdf.dtypes #żeby wiedzieć co właściwie mamy"
      ]
    },
    {
      "cell_type": "code",
      "execution_count": null,
      "id": "e7ce9e7e",
      "metadata": {
        "id": "e7ce9e7e"
      },
      "outputs": [],
      "source": [
        "wdf = wdf.dropna(subset = ['gamma']) #bez tego nie działa kriging\n",
        "wdf = wdf.drop_duplicates(subset = [\"Latitude\",\"Longitude\"]) #usuwa powtórzenia punktów o tych samych współrzędnych, trochę problematyczne, bo wybiera arbitralnie pierwszy z nich"
      ]
    },
    {
      "cell_type": "code",
      "execution_count": null,
      "id": "HQ2J1mqpCwHb",
      "metadata": {
        "colab": {
          "base_uri": "https://localhost:8080/"
        },
        "id": "HQ2J1mqpCwHb",
        "outputId": "2bdb811d-fc33-430e-942f-c4dd232cb37d"
      },
      "outputs": [
        {
          "output_type": "execute_result",
          "data": {
            "text/plain": [
              "36"
            ]
          },
          "metadata": {},
          "execution_count": 34
        }
      ],
      "source": [
        "#z ramki tworzymy georamkę\n",
        "geo_wdf = geopandas.GeoDataFrame(\n",
        "    wdf, geometry=geopandas.points_from_xy(wdf.Longitude, wdf.Latitude,crs='epsg:4326'))\n",
        "len(geo_wdf)"
      ]
    },
    {
      "cell_type": "markdown",
      "id": "qhenV-v_I96P",
      "metadata": {
        "id": "qhenV-v_I96P"
      },
      "source": [
        "Bardzo prosta mapa generowana z georamki"
      ]
    },
    {
      "cell_type": "code",
      "execution_count": null,
      "id": "BljvIVuiDDsK",
      "metadata": {
        "colab": {
          "base_uri": "https://localhost:8080/",
          "height": 265
        },
        "id": "BljvIVuiDDsK",
        "outputId": "83b90ab6-51e9-4ff3-9899-9e24ec83831d"
      },
      "outputs": [
        {
          "output_type": "display_data",
          "data": {
            "image/png": "[encoded data removed]",
            "text/plain": [
              "<Figure size 432x288 with 1 Axes>"
            ]
          },
          "metadata": {
            "needs_background": "light"
          }
        }
      ],
      "source": [
        "world = geopandas.read_file(geopandas.datasets.get_path('naturalearth_lowres'))\n",
        "\n",
        "ax = world[world.continent == 'North America'].plot(\n",
        "    color='white', edgecolor='black')\n",
        "\n",
        "minx, miny, maxx, maxy = geo_wdf.total_bounds\n",
        "ax.set_xlim(minx-3, maxx+3)\n",
        "ax.set_ylim(miny-3, maxy+3)\n",
        "\n",
        "cities = geopandas.read_file(geopandas.datasets.get_path('naturalearth_cities'))\n",
        "cities.plot(ax=ax, color='b')\n",
        "\n",
        "\n",
        "# We can now plot our ``GeoDataFrame``.\n",
        "geo_wdf.plot(ax=ax, color='red')\n",
        "\n",
        "plt.show()"
      ]
    },
    {
      "cell_type": "markdown",
      "id": "xBdBg4ZvJE97",
      "metadata": {
        "id": "xBdBg4ZvJE97"
      },
      "source": [
        "Bardziej złożona mapa generowana za pomocą folium"
      ]
    },
    {
      "cell_type": "code",
      "execution_count": null,
      "id": "JuJz3NLeD2D6",
      "metadata": {
        "id": "JuJz3NLeD2D6"
      },
      "outputs": [],
      "source": [
        "#określamy średnią długość i szerokość do wycentrowania mapy\n",
        "mean_Lat = np.median(geo_wdf.Latitude)\n",
        "mean_Long = np.median(geo_wdf.Longitude)\n",
        "\n",
        "#tworzymy obiekt mapy\n",
        "folium_map = folium.Map(\n",
        "                location = [mean_Lat, mean_Long], \n",
        "                zoom_start = 8,width=1300,height=650)\n"
      ]
    },
    {
      "cell_type": "code",
      "execution_count": null,
      "id": "EIFWhJHcHjjt",
      "metadata": {
        "colab": {
          "base_uri": "https://localhost:8080/",
          "height": 915
        },
        "id": "EIFWhJHcHjjt",
        "outputId": "e47e427b-4a3a-456b-c7bc-354c9a024620"
      },
      "outputs": [
        {
          "output_type": "execute_result",
          "data": {
            "text/html": [
              "<div style=\"width:100%;\"><div style=\"position:relative;width:100%;height:0;padding-bottom:60%;\"><span style=\"color:#565656\">Make this Notebook Trusted to load map: File -> Trust Notebook</span><iframe src=\"about:blank\" style=\"position:absolute;width:100%;height:100%;left:0;top:0;border:none !important;\" data-html=%3C%21DOCTYPE%20html%3E%0A%3Chead%3E%20%20%20%20%0A%20%20%20%20%3Cmeta%20http-equiv%3D%22content-type%22%20content%3D%22text/html%3B%20charset%3DUTF-8%22%20/%3E%0A%20%20%20%20%3Cscript%3EL_PREFER_CANVAS%3Dfalse%3B%20L_NO_TOUCH%3Dfalse%3B%20L_DISABLE_3D%3Dfalse%3B%3C/script%3E%0A%20%20%20%20%3Cscript%20src%3D%22https%3A//cdn.jsdelivr.net/npm/leaflet%401.4.0/dist/leaflet.js%22%3E%3C/script%3E%0A%20%20%20%20%3Cscript%20src%3D%22https%3A//code.jquery.com/jquery-1.12.4.min.js%22%3E%3C/script%3E%0A%20%20%20%20%3Cscript%20src%3D%22https%3A//maxcdn.bootstrapcdn.com/bootstrap/3.2.0/js/bootstrap.min.js%22%3E%3C/script%3E%0A%20%20%20%20%3Cscript%20src%3D%22https%3A//cdnjs.cloudflare.com/ajax/libs/Leaflet.awesome-markers/2.0.2/leaflet.awesome-markers.js%22%3E%3C/script%3E%0A%20%20%20%20%3Clink%20rel%3D%22stylesheet%22%20href%3D%22https%3A//cdn.jsdelivr.net/npm/leaflet%401.4.0/dist/leaflet.css%22/%3E%0A%20%20%20%20%3Clink%20rel%3D%22stylesheet%22%20href%3D%22https%3A//maxcdn.bootstrapcdn.com/bootstrap/3.2.0/css/bootstrap.min.css%22/%3E%0A%20%20%20%20%3Clink%20rel%3D%22stylesheet%22%20href%3D%22https%3A//maxcdn.bootstrapcdn.com/bootstrap/3.2.0/css/bootstrap-theme.min.css%22/%3E%0A%20%20%20%20%3Clink%20rel%3D%22stylesheet%22%20href%3D%22https%3A//maxcdn.bootstrapcdn.com/font-awesome/4.6.3/css/font-awesome.min.css%22/%3E%0A%20%20%20%20%3Clink%20rel%3D%22stylesheet%22%20href%3D%22https%3A//cdnjs.cloudflare.com/ajax/libs/Leaflet.awesome-markers/2.0.2/leaflet.awesome-markers.css%22/%3E%0A%20%20%20%20%3Clink%20rel%3D%22stylesheet%22%20href%3D%22https%3A//rawcdn.githack.com/python-visualization/folium/master/folium/templates/leaflet.awesome.rotate.css%22/%3E%0A%20%20%20%20%3Cstyle%3Ehtml%2C%20body%20%7Bwidth%3A%20100%25%3Bheight%3A%20100%25%3Bmargin%3A%200%3Bpadding%3A%200%3B%7D%3C/style%3E%0A%20%20%20%20%3Cstyle%3E%23map%20%7Bposition%3Aabsolute%3Btop%3A0%3Bbottom%3A0%3Bright%3A0%3Bleft%3A0%3B%7D%3C/style%3E%0A%20%20%20%20%0A%20%20%20%20%3Cmeta%20name%3D%22viewport%22%20content%3D%22width%3Ddevice-width%2C%0A%20%20%20%20%20%20%20%20initial-scale%3D1.0%2C%20maximum-scale%3D1.0%2C%20user-scalable%3Dno%22%20/%3E%0A%20%20%20%20%3Cstyle%3E%23map_5644af8b248f420382947d8ecbbb4108%20%7B%0A%20%20%20%20%20%20%20%20position%3A%20relative%3B%0A%20%20%20%20%20%20%20%20width%3A%201300.0px%3B%0A%20%20%20%20%20%20%20%20height%3A%20650.0px%3B%0A%20%20%20%20%20%20%20%20left%3A%200.0%25%3B%0A%20%20%20%20%20%20%20%20top%3A%200.0%25%3B%0A%20%20%20%20%20%20%20%20%7D%0A%20%20%20%20%3C/style%3E%0A%3C/head%3E%0A%3Cbody%3E%20%20%20%20%0A%20%20%20%20%0A%20%20%20%20%3Cdiv%20class%3D%22folium-map%22%20id%3D%22map_5644af8b248f420382947d8ecbbb4108%22%20%3E%3C/div%3E%0A%3C/body%3E%0A%3Cscript%3E%20%20%20%20%0A%20%20%20%20%0A%20%20%20%20%0A%20%20%20%20%20%20%20%20var%20bounds%20%3D%20null%3B%0A%20%20%20%20%0A%0A%20%20%20%20var%20map_5644af8b248f420382947d8ecbbb4108%20%3D%20L.map%28%0A%20%20%20%20%20%20%20%20%27map_5644af8b248f420382947d8ecbbb4108%27%2C%20%7B%0A%20%20%20%20%20%20%20%20center%3A%20%5B38.3603223%2C%20-100.0574833%5D%2C%0A%20%20%20%20%20%20%20%20zoom%3A%208%2C%0A%20%20%20%20%20%20%20%20maxBounds%3A%20bounds%2C%0A%20%20%20%20%20%20%20%20layers%3A%20%5B%5D%2C%0A%20%20%20%20%20%20%20%20worldCopyJump%3A%20false%2C%0A%20%20%20%20%20%20%20%20crs%3A%20L.CRS.EPSG3857%2C%0A%20%20%20%20%20%20%20%20zoomControl%3A%20true%2C%0A%20%20%20%20%20%20%20%20%7D%29%3B%0A%0A%0A%20%20%20%20%0A%20%20%20%20var%20tile_layer_8864371494af404189cbb240a213618a%20%3D%20L.tileLayer%28%0A%20%20%20%20%20%20%20%20%27https%3A//%7Bs%7D.tile.openstreetmap.org/%7Bz%7D/%7Bx%7D/%7By%7D.png%27%2C%0A%20%20%20%20%20%20%20%20%7B%0A%20%20%20%20%20%20%20%20%22attribution%22%3A%20null%2C%0A%20%20%20%20%20%20%20%20%22detectRetina%22%3A%20false%2C%0A%20%20%20%20%20%20%20%20%22maxNativeZoom%22%3A%2018%2C%0A%20%20%20%20%20%20%20%20%22maxZoom%22%3A%2018%2C%0A%20%20%20%20%20%20%20%20%22minZoom%22%3A%200%2C%0A%20%20%20%20%20%20%20%20%22noWrap%22%3A%20false%2C%0A%20%20%20%20%20%20%20%20%22opacity%22%3A%201%2C%0A%20%20%20%20%20%20%20%20%22subdomains%22%3A%20%22abc%22%2C%0A%20%20%20%20%20%20%20%20%22tms%22%3A%20false%0A%7D%29.addTo%28map_5644af8b248f420382947d8ecbbb4108%29%3B%0A%20%20%20%20%0A%20%20%20%20%20%20%20%20var%20geo_json_48cfdce41f614ef190bb9ffd86b8f41a%20%3D%20L.geoJson%28%0A%20%20%20%20%20%20%20%20%20%20%20%20%7B%22bbox%22%3A%20%5B-98.7141071%2C%2038.2545369%2C%20-98.7141071%2C%2038.2545369%5D%2C%20%22features%22%3A%20%5B%7B%22bbox%22%3A%20%5B-98.7141071%2C%2038.2545369%2C%20-98.7141071%2C%2038.2545369%5D%2C%20%22geometry%22%3A%20%7B%22coordinates%22%3A%20%5B-98.7141071%2C%2038.2545369%5D%2C%20%22type%22%3A%20%22Point%22%7D%2C%20%22id%22%3A%20%220%22%2C%20%22properties%22%3A%20%7B%22highlight%22%3A%20%7B%7D%2C%20%22style%22%3A%20%7B%22fillColor%22%3A%20%22orange%22%7D%7D%2C%20%22type%22%3A%20%22Feature%22%7D%5D%2C%20%22type%22%3A%20%22FeatureCollection%22%7D%2C%0A%20%20%20%20%20%20%20%20%20%20%20%20%7B%0A%20%20%20%20%20%20%20%20%20%20%20%20%7D%0A%20%20%20%20%20%20%20%20%29.addTo%28map_5644af8b248f420382947d8ecbbb4108%20%29%3B%0A%20%20%20%20%20%20%20%20geo_json_48cfdce41f614ef190bb9ffd86b8f41a.setStyle%28function%28feature%29%20%7Breturn%20feature.properties.style%3B%7D%29%3B%0A%20%20%20%20%20%20%20%20%0A%20%20%20%20%0A%20%20%20%20%20%20%20%20%20%20%20%20var%20popup_c1097fecff174b0097987146156a0001%20%3D%20L.popup%28%7BmaxWidth%3A%20%27100%25%27%0A%20%20%20%20%20%20%20%20%20%20%20%20%0A%20%20%20%20%20%20%20%20%20%20%20%20%7D%29%3B%0A%0A%20%20%20%20%20%20%20%20%20%20%20%20%0A%0A%20%20%20%20%20%20%20%20%20%20%20%20geo_json_48cfdce41f614ef190bb9ffd86b8f41a.bindPopup%28popup_c1097fecff174b0097987146156a0001%29%0A%20%20%20%20%20%20%20%20%20%20%20%20%3B%0A%0A%20%20%20%20%20%20%20%20%20%20%20%20%0A%20%20%20%20%20%20%20%20%0A%20%20%20%20%0A%20%20%20%20%20%20%20%20var%20geo_json_84eea9edddd34be7ab12d2efa67f10ee%20%3D%20L.geoJson%28%0A%20%20%20%20%20%20%20%20%20%20%20%20%7B%22bbox%22%3A%20%5B-100.09274%2C%2038.4591092%2C%20-100.09274%2C%2038.4591092%5D%2C%20%22features%22%3A%20%5B%7B%22bbox%22%3A%20%5B-100.09274%2C%2038.4591092%2C%20-100.09274%2C%2038.4591092%5D%2C%20%22geometry%22%3A%20%7B%22coordinates%22%3A%20%5B-100.09274%2C%2038.4591092%5D%2C%20%22type%22%3A%20%22Point%22%7D%2C%20%22id%22%3A%20%220%22%2C%20%22properties%22%3A%20%7B%22highlight%22%3A%20%7B%7D%2C%20%22style%22%3A%20%7B%22fillColor%22%3A%20%22orange%22%7D%7D%2C%20%22type%22%3A%20%22Feature%22%7D%5D%2C%20%22type%22%3A%20%22FeatureCollection%22%7D%2C%0A%20%20%20%20%20%20%20%20%20%20%20%20%7B%0A%20%20%20%20%20%20%20%20%20%20%20%20%7D%0A%20%20%20%20%20%20%20%20%29.addTo%28map_5644af8b248f420382947d8ecbbb4108%20%29%3B%0A%20%20%20%20%20%20%20%20geo_json_84eea9edddd34be7ab12d2efa67f10ee.setStyle%28function%28feature%29%20%7Breturn%20feature.properties.style%3B%7D%29%3B%0A%20%20%20%20%20%20%20%20%0A%20%20%20%20%0A%20%20%20%20%20%20%20%20%20%20%20%20var%20popup_2659645aa3d94e2fa5e86ee343c62577%20%3D%20L.popup%28%7BmaxWidth%3A%20%27100%25%27%0A%20%20%20%20%20%20%20%20%20%20%20%20%0A%20%20%20%20%20%20%20%20%20%20%20%20%7D%29%3B%0A%0A%20%20%20%20%20%20%20%20%20%20%20%20%0A%0A%20%20%20%20%20%20%20%20%20%20%20%20geo_json_84eea9edddd34be7ab12d2efa67f10ee.bindPopup%28popup_2659645aa3d94e2fa5e86ee343c62577%29%0A%20%20%20%20%20%20%20%20%20%20%20%20%3B%0A%0A%20%20%20%20%20%20%20%20%20%20%20%20%0A%20%20%20%20%20%20%20%20%0A%20%20%20%20%0A%20%20%20%20%20%20%20%20var%20geo_json_8b01396e450a40429124fcb3f97e91bb%20%3D%20L.geoJson%28%0A%20%20%20%20%20%20%20%20%20%20%20%20%7B%22bbox%22%3A%20%5B-100.1421844%2C%2038.5154462%2C%20-100.1421844%2C%2038.5154462%5D%2C%20%22features%22%3A%20%5B%7B%22bbox%22%3A%20%5B-100.1421844%2C%2038.5154462%2C%20-100.1421844%2C%2038.5154462%5D%2C%20%22geometry%22%3A%20%7B%22coordinates%22%3A%20%5B-100.1421844%2C%2038.5154462%5D%2C%20%22type%22%3A%20%22Point%22%7D%2C%20%22id%22%3A%20%220%22%2C%20%22properties%22%3A%20%7B%22highlight%22%3A%20%7B%7D%2C%20%22style%22%3A%20%7B%22fillColor%22%3A%20%22orange%22%7D%7D%2C%20%22type%22%3A%20%22Feature%22%7D%5D%2C%20%22type%22%3A%20%22FeatureCollection%22%7D%2C%0A%20%20%20%20%20%20%20%20%20%20%20%20%7B%0A%20%20%20%20%20%20%20%20%20%20%20%20%7D%0A%20%20%20%20%20%20%20%20%29.addTo%28map_5644af8b248f420382947d8ecbbb4108%20%29%3B%0A%20%20%20%20%20%20%20%20geo_json_8b01396e450a40429124fcb3f97e91bb.setStyle%28function%28feature%29%20%7Breturn%20feature.properties.style%3B%7D%29%3B%0A%20%20%20%20%20%20%20%20%0A%20%20%20%20%0A%20%20%20%20%20%20%20%20%20%20%20%20var%20popup_7a20f749a3b246d9a686f35d84a55006%20%3D%20L.popup%28%7BmaxWidth%3A%20%27100%25%27%0A%20%20%20%20%20%20%20%20%20%20%20%20%0A%20%20%20%20%20%20%20%20%20%20%20%20%7D%29%3B%0A%0A%20%20%20%20%20%20%20%20%20%20%20%20%0A%0A%20%20%20%20%20%20%20%20%20%20%20%20geo_json_8b01396e450a40429124fcb3f97e91bb.bindPopup%28popup_7a20f749a3b246d9a686f35d84a55006%29%0A%20%20%20%20%20%20%20%20%20%20%20%20%3B%0A%0A%20%20%20%20%20%20%20%20%20%20%20%20%0A%20%20%20%20%20%20%20%20%0A%20%20%20%20%0A%20%20%20%20%20%20%20%20var%20geo_json_7f1c47ab825742bd88af67122f596e0b%20%3D%20L.geoJson%28%0A%20%20%20%20%20%20%20%20%20%20%20%20%7B%22bbox%22%3A%20%5B-100.2534487%2C%2039.2020352%2C%20-100.2534487%2C%2039.2020352%5D%2C%20%22features%22%3A%20%5B%7B%22bbox%22%3A%20%5B-100.2534487%2C%2039.2020352%2C%20-100.2534487%2C%2039.2020352%5D%2C%20%22geometry%22%3A%20%7B%22coordinates%22%3A%20%5B-100.2534487%2C%2039.2020352%5D%2C%20%22type%22%3A%20%22Point%22%7D%2C%20%22id%22%3A%20%220%22%2C%20%22properties%22%3A%20%7B%22highlight%22%3A%20%7B%7D%2C%20%22style%22%3A%20%7B%22fillColor%22%3A%20%22orange%22%7D%7D%2C%20%22type%22%3A%20%22Feature%22%7D%5D%2C%20%22type%22%3A%20%22FeatureCollection%22%7D%2C%0A%20%20%20%20%20%20%20%20%20%20%20%20%7B%0A%20%20%20%20%20%20%20%20%20%20%20%20%7D%0A%20%20%20%20%20%20%20%20%29.addTo%28map_5644af8b248f420382947d8ecbbb4108%20%29%3B%0A%20%20%20%20%20%20%20%20geo_json_7f1c47ab825742bd88af67122f596e0b.setStyle%28function%28feature%29%20%7Breturn%20feature.properties.style%3B%7D%29%3B%0A%20%20%20%20%20%20%20%20%0A%20%20%20%20%0A%20%20%20%20%20%20%20%20%20%20%20%20var%20popup_4face062c28e4a9e8ed98bb667425ace%20%3D%20L.popup%28%7BmaxWidth%3A%20%27100%25%27%0A%20%20%20%20%20%20%20%20%20%20%20%20%0A%20%20%20%20%20%20%20%20%20%20%20%20%7D%29%3B%0A%0A%20%20%20%20%20%20%20%20%20%20%20%20%0A%0A%20%20%20%20%20%20%20%20%20%20%20%20geo_json_7f1c47ab825742bd88af67122f596e0b.bindPopup%28popup_4face062c28e4a9e8ed98bb667425ace%29%0A%20%20%20%20%20%20%20%20%20%20%20%20%3B%0A%0A%20%20%20%20%20%20%20%20%20%20%20%20%0A%20%20%20%20%20%20%20%20%0A%20%20%20%20%0A%20%20%20%20%20%20%20%20var%20geo_json_94b24d6736b04438b4086c1b91e477d6%20%3D%20L.geoJson%28%0A%20%20%20%20%20%20%20%20%20%20%20%20%7B%22bbox%22%3A%20%5B-99.6510522%2C%2038.3215841%2C%20-99.6510522%2C%2038.3215841%5D%2C%20%22features%22%3A%20%5B%7B%22bbox%22%3A%20%5B-99.6510522%2C%2038.3215841%2C%20-99.6510522%2C%2038.3215841%5D%2C%20%22geometry%22%3A%20%7B%22coordinates%22%3A%20%5B-99.6510522%2C%2038.3215841%5D%2C%20%22type%22%3A%20%22Point%22%7D%2C%20%22id%22%3A%20%220%22%2C%20%22properties%22%3A%20%7B%22highlight%22%3A%20%7B%7D%2C%20%22style%22%3A%20%7B%22fillColor%22%3A%20%22orange%22%7D%7D%2C%20%22type%22%3A%20%22Feature%22%7D%5D%2C%20%22type%22%3A%20%22FeatureCollection%22%7D%2C%0A%20%20%20%20%20%20%20%20%20%20%20%20%7B%0A%20%20%20%20%20%20%20%20%20%20%20%20%7D%0A%20%20%20%20%20%20%20%20%29.addTo%28map_5644af8b248f420382947d8ecbbb4108%20%29%3B%0A%20%20%20%20%20%20%20%20geo_json_94b24d6736b04438b4086c1b91e477d6.setStyle%28function%28feature%29%20%7Breturn%20feature.properties.style%3B%7D%29%3B%0A%20%20%20%20%20%20%20%20%0A%20%20%20%20%0A%20%20%20%20%20%20%20%20%20%20%20%20var%20popup_bad39ed3afee4e60a019dd3c4b0757f7%20%3D%20L.popup%28%7BmaxWidth%3A%20%27100%25%27%0A%20%20%20%20%20%20%20%20%20%20%20%20%0A%20%20%20%20%20%20%20%20%20%20%20%20%7D%29%3B%0A%0A%20%20%20%20%20%20%20%20%20%20%20%20%0A%0A%20%20%20%20%20%20%20%20%20%20%20%20geo_json_94b24d6736b04438b4086c1b91e477d6.bindPopup%28popup_bad39ed3afee4e60a019dd3c4b0757f7%29%0A%20%20%20%20%20%20%20%20%20%20%20%20%3B%0A%0A%20%20%20%20%20%20%20%20%20%20%20%20%0A%20%20%20%20%20%20%20%20%0A%20%20%20%20%0A%20%20%20%20%20%20%20%20var%20geo_json_35bc5d7a956645be80daca64f60e9953%20%3D%20L.geoJson%28%0A%20%20%20%20%20%20%20%20%20%20%20%20%7B%22bbox%22%3A%20%5B-98.6787026%2C%2038.6514351%2C%20-98.6787026%2C%2038.6514351%5D%2C%20%22features%22%3A%20%5B%7B%22bbox%22%3A%20%5B-98.6787026%2C%2038.6514351%2C%20-98.6787026%2C%2038.6514351%5D%2C%20%22geometry%22%3A%20%7B%22coordinates%22%3A%20%5B-98.6787026%2C%2038.6514351%5D%2C%20%22type%22%3A%20%22Point%22%7D%2C%20%22id%22%3A%20%220%22%2C%20%22properties%22%3A%20%7B%22highlight%22%3A%20%7B%7D%2C%20%22style%22%3A%20%7B%22fillColor%22%3A%20%22orange%22%7D%7D%2C%20%22type%22%3A%20%22Feature%22%7D%5D%2C%20%22type%22%3A%20%22FeatureCollection%22%7D%2C%0A%20%20%20%20%20%20%20%20%20%20%20%20%7B%0A%20%20%20%20%20%20%20%20%20%20%20%20%7D%0A%20%20%20%20%20%20%20%20%29.addTo%28map_5644af8b248f420382947d8ecbbb4108%20%29%3B%0A%20%20%20%20%20%20%20%20geo_json_35bc5d7a956645be80daca64f60e9953.setStyle%28function%28feature%29%20%7Breturn%20feature.properties.style%3B%7D%29%3B%0A%20%20%20%20%20%20%20%20%0A%20%20%20%20%0A%20%20%20%20%20%20%20%20%20%20%20%20var%20popup_4ffb92c5d74647d5bf76c211216bd8d0%20%3D%20L.popup%28%7BmaxWidth%3A%20%27100%25%27%0A%20%20%20%20%20%20%20%20%20%20%20%20%0A%20%20%20%20%20%20%20%20%20%20%20%20%7D%29%3B%0A%0A%20%20%20%20%20%20%20%20%20%20%20%20%0A%0A%20%20%20%20%20%20%20%20%20%20%20%20geo_json_35bc5d7a956645be80daca64f60e9953.bindPopup%28popup_4ffb92c5d74647d5bf76c211216bd8d0%29%0A%20%20%20%20%20%20%20%20%20%20%20%20%3B%0A%0A%20%20%20%20%20%20%20%20%20%20%20%20%0A%20%20%20%20%20%20%20%20%0A%20%20%20%20%0A%20%20%20%20%20%20%20%20var%20geo_json_3990f62320d641379335a2cbfd492ed8%20%3D%20L.geoJson%28%0A%20%20%20%20%20%20%20%20%20%20%20%20%7B%22bbox%22%3A%20%5B-100.7708079%2C%2038.9522979%2C%20-100.7708079%2C%2038.9522979%5D%2C%20%22features%22%3A%20%5B%7B%22bbox%22%3A%20%5B-100.7708079%2C%2038.9522979%2C%20-100.7708079%2C%2038.9522979%5D%2C%20%22geometry%22%3A%20%7B%22coordinates%22%3A%20%5B-100.7708079%2C%2038.9522979%5D%2C%20%22type%22%3A%20%22Point%22%7D%2C%20%22id%22%3A%20%220%22%2C%20%22properties%22%3A%20%7B%22highlight%22%3A%20%7B%7D%2C%20%22style%22%3A%20%7B%22fillColor%22%3A%20%22orange%22%7D%7D%2C%20%22type%22%3A%20%22Feature%22%7D%5D%2C%20%22type%22%3A%20%22FeatureCollection%22%7D%2C%0A%20%20%20%20%20%20%20%20%20%20%20%20%7B%0A%20%20%20%20%20%20%20%20%20%20%20%20%7D%0A%20%20%20%20%20%20%20%20%29.addTo%28map_5644af8b248f420382947d8ecbbb4108%20%29%3B%0A%20%20%20%20%20%20%20%20geo_json_3990f62320d641379335a2cbfd492ed8.setStyle%28function%28feature%29%20%7Breturn%20feature.properties.style%3B%7D%29%3B%0A%20%20%20%20%20%20%20%20%0A%20%20%20%20%0A%20%20%20%20%20%20%20%20%20%20%20%20var%20popup_6809e4908b2348aca2a4b815d40a5c38%20%3D%20L.popup%28%7BmaxWidth%3A%20%27100%25%27%0A%20%20%20%20%20%20%20%20%20%20%20%20%0A%20%20%20%20%20%20%20%20%20%20%20%20%7D%29%3B%0A%0A%20%20%20%20%20%20%20%20%20%20%20%20%0A%0A%20%20%20%20%20%20%20%20%20%20%20%20geo_json_3990f62320d641379335a2cbfd492ed8.bindPopup%28popup_6809e4908b2348aca2a4b815d40a5c38%29%0A%20%20%20%20%20%20%20%20%20%20%20%20%3B%0A%0A%20%20%20%20%20%20%20%20%20%20%20%20%0A%20%20%20%20%20%20%20%20%0A%20%20%20%20%0A%20%20%20%20%20%20%20%20var%20geo_json_52c9f6333d8a41ab92108029f5409c31%20%3D%20L.geoJson%28%0A%20%20%20%20%20%20%20%20%20%20%20%20%7B%22bbox%22%3A%20%5B-100.9237988%2C%2038.8993406%2C%20-100.9237988%2C%2038.8993406%5D%2C%20%22features%22%3A%20%5B%7B%22bbox%22%3A%20%5B-100.9237988%2C%2038.8993406%2C%20-100.9237988%2C%2038.8993406%5D%2C%20%22geometry%22%3A%20%7B%22coordinates%22%3A%20%5B-100.9237988%2C%2038.8993406%5D%2C%20%22type%22%3A%20%22Point%22%7D%2C%20%22id%22%3A%20%220%22%2C%20%22properties%22%3A%20%7B%22highlight%22%3A%20%7B%7D%2C%20%22style%22%3A%20%7B%22fillColor%22%3A%20%22orange%22%7D%7D%2C%20%22type%22%3A%20%22Feature%22%7D%5D%2C%20%22type%22%3A%20%22FeatureCollection%22%7D%2C%0A%20%20%20%20%20%20%20%20%20%20%20%20%7B%0A%20%20%20%20%20%20%20%20%20%20%20%20%7D%0A%20%20%20%20%20%20%20%20%29.addTo%28map_5644af8b248f420382947d8ecbbb4108%20%29%3B%0A%20%20%20%20%20%20%20%20geo_json_52c9f6333d8a41ab92108029f5409c31.setStyle%28function%28feature%29%20%7Breturn%20feature.properties.style%3B%7D%29%3B%0A%20%20%20%20%20%20%20%20%0A%20%20%20%20%0A%20%20%20%20%20%20%20%20%20%20%20%20var%20popup_d82424591a8b4eb080a3e7346142bbee%20%3D%20L.popup%28%7BmaxWidth%3A%20%27100%25%27%0A%20%20%20%20%20%20%20%20%20%20%20%20%0A%20%20%20%20%20%20%20%20%20%20%20%20%7D%29%3B%0A%0A%20%20%20%20%20%20%20%20%20%20%20%20%0A%0A%20%20%20%20%20%20%20%20%20%20%20%20geo_json_52c9f6333d8a41ab92108029f5409c31.bindPopup%28popup_d82424591a8b4eb080a3e7346142bbee%29%0A%20%20%20%20%20%20%20%20%20%20%20%20%3B%0A%0A%20%20%20%20%20%20%20%20%20%20%20%20%0A%20%20%20%20%20%20%20%20%0A%20%20%20%20%0A%20%20%20%20%20%20%20%20var%20geo_json_c7d632f629a6456dbbd0d2b121072dd7%20%3D%20L.geoJson%28%0A%20%20%20%20%20%20%20%20%20%20%20%20%7B%22bbox%22%3A%20%5B-100.8199877%2C%2038.9554708%2C%20-100.8199877%2C%2038.9554708%5D%2C%20%22features%22%3A%20%5B%7B%22bbox%22%3A%20%5B-100.8199877%2C%2038.9554708%2C%20-100.8199877%2C%2038.9554708%5D%2C%20%22geometry%22%3A%20%7B%22coordinates%22%3A%20%5B-100.8199877%2C%2038.9554708%5D%2C%20%22type%22%3A%20%22Point%22%7D%2C%20%22id%22%3A%20%220%22%2C%20%22properties%22%3A%20%7B%22highlight%22%3A%20%7B%7D%2C%20%22style%22%3A%20%7B%22fillColor%22%3A%20%22orange%22%7D%7D%2C%20%22type%22%3A%20%22Feature%22%7D%5D%2C%20%22type%22%3A%20%22FeatureCollection%22%7D%2C%0A%20%20%20%20%20%20%20%20%20%20%20%20%7B%0A%20%20%20%20%20%20%20%20%20%20%20%20%7D%0A%20%20%20%20%20%20%20%20%29.addTo%28map_5644af8b248f420382947d8ecbbb4108%20%29%3B%0A%20%20%20%20%20%20%20%20geo_json_c7d632f629a6456dbbd0d2b121072dd7.setStyle%28function%28feature%29%20%7Breturn%20feature.properties.style%3B%7D%29%3B%0A%20%20%20%20%20%20%20%20%0A%20%20%20%20%0A%20%20%20%20%20%20%20%20%20%20%20%20var%20popup_64fa255c6b6c45e59b4f1201b22b3496%20%3D%20L.popup%28%7BmaxWidth%3A%20%27100%25%27%0A%20%20%20%20%20%20%20%20%20%20%20%20%0A%20%20%20%20%20%20%20%20%20%20%20%20%7D%29%3B%0A%0A%20%20%20%20%20%20%20%20%20%20%20%20%0A%0A%20%20%20%20%20%20%20%20%20%20%20%20geo_json_c7d632f629a6456dbbd0d2b121072dd7.bindPopup%28popup_64fa255c6b6c45e59b4f1201b22b3496%29%0A%20%20%20%20%20%20%20%20%20%20%20%20%3B%0A%0A%20%20%20%20%20%20%20%20%20%20%20%20%0A%20%20%20%20%20%20%20%20%0A%20%20%20%20%0A%20%20%20%20%20%20%20%20var%20geo_json_0b0e9adce1cf433db1fc3ee26436055d%20%3D%20L.geoJson%28%0A%20%20%20%20%20%20%20%20%20%20%20%20%7B%22bbox%22%3A%20%5B-95.9385689%2C%2038.2380783%2C%20-95.9385689%2C%2038.2380783%5D%2C%20%22features%22%3A%20%5B%7B%22bbox%22%3A%20%5B-95.9385689%2C%2038.2380783%2C%20-95.9385689%2C%2038.2380783%5D%2C%20%22geometry%22%3A%20%7B%22coordinates%22%3A%20%5B-95.9385689%2C%2038.2380783%5D%2C%20%22type%22%3A%20%22Point%22%7D%2C%20%22id%22%3A%20%220%22%2C%20%22properties%22%3A%20%7B%22highlight%22%3A%20%7B%7D%2C%20%22style%22%3A%20%7B%22fillColor%22%3A%20%22orange%22%7D%7D%2C%20%22type%22%3A%20%22Feature%22%7D%5D%2C%20%22type%22%3A%20%22FeatureCollection%22%7D%2C%0A%20%20%20%20%20%20%20%20%20%20%20%20%7B%0A%20%20%20%20%20%20%20%20%20%20%20%20%7D%0A%20%20%20%20%20%20%20%20%29.addTo%28map_5644af8b248f420382947d8ecbbb4108%20%29%3B%0A%20%20%20%20%20%20%20%20geo_json_0b0e9adce1cf433db1fc3ee26436055d.setStyle%28function%28feature%29%20%7Breturn%20feature.properties.style%3B%7D%29%3B%0A%20%20%20%20%20%20%20%20%0A%20%20%20%20%0A%20%20%20%20%20%20%20%20%20%20%20%20var%20popup_a55fef15388b4a4d99433cf555e3109b%20%3D%20L.popup%28%7BmaxWidth%3A%20%27100%25%27%0A%20%20%20%20%20%20%20%20%20%20%20%20%0A%20%20%20%20%20%20%20%20%20%20%20%20%7D%29%3B%0A%0A%20%20%20%20%20%20%20%20%20%20%20%20%0A%0A%20%20%20%20%20%20%20%20%20%20%20%20geo_json_0b0e9adce1cf433db1fc3ee26436055d.bindPopup%28popup_a55fef15388b4a4d99433cf555e3109b%29%0A%20%20%20%20%20%20%20%20%20%20%20%20%3B%0A%0A%20%20%20%20%20%20%20%20%20%20%20%20%0A%20%20%20%20%20%20%20%20%0A%20%20%20%20%0A%20%20%20%20%20%20%20%20var%20geo_json_e304cfe0ebf541719edfb0c4eec23e76%20%3D%20L.geoJson%28%0A%20%20%20%20%20%20%20%20%20%20%20%20%7B%22bbox%22%3A%20%5B-100.8127723%2C%2038.9586294%2C%20-100.8127723%2C%2038.9586294%5D%2C%20%22features%22%3A%20%5B%7B%22bbox%22%3A%20%5B-100.8127723%2C%2038.9586294%2C%20-100.8127723%2C%2038.9586294%5D%2C%20%22geometry%22%3A%20%7B%22coordinates%22%3A%20%5B-100.8127723%2C%2038.9586294%5D%2C%20%22type%22%3A%20%22Point%22%7D%2C%20%22id%22%3A%20%220%22%2C%20%22properties%22%3A%20%7B%22highlight%22%3A%20%7B%7D%2C%20%22style%22%3A%20%7B%22fillColor%22%3A%20%22orange%22%7D%7D%2C%20%22type%22%3A%20%22Feature%22%7D%5D%2C%20%22type%22%3A%20%22FeatureCollection%22%7D%2C%0A%20%20%20%20%20%20%20%20%20%20%20%20%7B%0A%20%20%20%20%20%20%20%20%20%20%20%20%7D%0A%20%20%20%20%20%20%20%20%29.addTo%28map_5644af8b248f420382947d8ecbbb4108%20%29%3B%0A%20%20%20%20%20%20%20%20geo_json_e304cfe0ebf541719edfb0c4eec23e76.setStyle%28function%28feature%29%20%7Breturn%20feature.properties.style%3B%7D%29%3B%0A%20%20%20%20%20%20%20%20%0A%20%20%20%20%0A%20%20%20%20%20%20%20%20%20%20%20%20var%20popup_9823b1b27c48484fac0cb514a828908d%20%3D%20L.popup%28%7BmaxWidth%3A%20%27100%25%27%0A%20%20%20%20%20%20%20%20%20%20%20%20%0A%20%20%20%20%20%20%20%20%20%20%20%20%7D%29%3B%0A%0A%20%20%20%20%20%20%20%20%20%20%20%20%0A%0A%20%20%20%20%20%20%20%20%20%20%20%20geo_json_e304cfe0ebf541719edfb0c4eec23e76.bindPopup%28popup_9823b1b27c48484fac0cb514a828908d%29%0A%20%20%20%20%20%20%20%20%20%20%20%20%3B%0A%0A%20%20%20%20%20%20%20%20%20%20%20%20%0A%20%20%20%20%20%20%20%20%0A%20%20%20%20%0A%20%20%20%20%20%20%20%20var%20geo_json_dbb0572c3b6c40ee9ac632f2591ce6db%20%3D%20L.geoJson%28%0A%20%20%20%20%20%20%20%20%20%20%20%20%7B%22bbox%22%3A%20%5B-98.2180545%2C%2038.1313857%2C%20-98.2180545%2C%2038.1313857%5D%2C%20%22features%22%3A%20%5B%7B%22bbox%22%3A%20%5B-98.2180545%2C%2038.1313857%2C%20-98.2180545%2C%2038.1313857%5D%2C%20%22geometry%22%3A%20%7B%22coordinates%22%3A%20%5B-98.2180545%2C%2038.1313857%5D%2C%20%22type%22%3A%20%22Point%22%7D%2C%20%22id%22%3A%20%220%22%2C%20%22properties%22%3A%20%7B%22highlight%22%3A%20%7B%7D%2C%20%22style%22%3A%20%7B%22fillColor%22%3A%20%22orange%22%7D%7D%2C%20%22type%22%3A%20%22Feature%22%7D%5D%2C%20%22type%22%3A%20%22FeatureCollection%22%7D%2C%0A%20%20%20%20%20%20%20%20%20%20%20%20%7B%0A%20%20%20%20%20%20%20%20%20%20%20%20%7D%0A%20%20%20%20%20%20%20%20%29.addTo%28map_5644af8b248f420382947d8ecbbb4108%20%29%3B%0A%20%20%20%20%20%20%20%20geo_json_dbb0572c3b6c40ee9ac632f2591ce6db.setStyle%28function%28feature%29%20%7Breturn%20feature.properties.style%3B%7D%29%3B%0A%20%20%20%20%20%20%20%20%0A%20%20%20%20%0A%20%20%20%20%20%20%20%20%20%20%20%20var%20popup_80c4a89df35f40a19bdb96986ca2d25d%20%3D%20L.popup%28%7BmaxWidth%3A%20%27100%25%27%0A%20%20%20%20%20%20%20%20%20%20%20%20%0A%20%20%20%20%20%20%20%20%20%20%20%20%7D%29%3B%0A%0A%20%20%20%20%20%20%20%20%20%20%20%20%0A%0A%20%20%20%20%20%20%20%20%20%20%20%20geo_json_dbb0572c3b6c40ee9ac632f2591ce6db.bindPopup%28popup_80c4a89df35f40a19bdb96986ca2d25d%29%0A%20%20%20%20%20%20%20%20%20%20%20%20%3B%0A%0A%20%20%20%20%20%20%20%20%20%20%20%20%0A%20%20%20%20%20%20%20%20%0A%20%20%20%20%0A%20%20%20%20%20%20%20%20var%20geo_json_8cbf82646349439c9c2d0986dbf7a854%20%3D%20L.geoJson%28%0A%20%20%20%20%20%20%20%20%20%20%20%20%7B%22bbox%22%3A%20%5B-98.8761944%2C%2038.7733005%2C%20-98.8761944%2C%2038.7733005%5D%2C%20%22features%22%3A%20%5B%7B%22bbox%22%3A%20%5B-98.8761944%2C%2038.7733005%2C%20-98.8761944%2C%2038.7733005%5D%2C%20%22geometry%22%3A%20%7B%22coordinates%22%3A%20%5B-98.8761944%2C%2038.7733005%5D%2C%20%22type%22%3A%20%22Point%22%7D%2C%20%22id%22%3A%20%220%22%2C%20%22properties%22%3A%20%7B%22highlight%22%3A%20%7B%7D%2C%20%22style%22%3A%20%7B%22fillColor%22%3A%20%22orange%22%7D%7D%2C%20%22type%22%3A%20%22Feature%22%7D%5D%2C%20%22type%22%3A%20%22FeatureCollection%22%7D%2C%0A%20%20%20%20%20%20%20%20%20%20%20%20%7B%0A%20%20%20%20%20%20%20%20%20%20%20%20%7D%0A%20%20%20%20%20%20%20%20%29.addTo%28map_5644af8b248f420382947d8ecbbb4108%20%29%3B%0A%20%20%20%20%20%20%20%20geo_json_8cbf82646349439c9c2d0986dbf7a854.setStyle%28function%28feature%29%20%7Breturn%20feature.properties.style%3B%7D%29%3B%0A%20%20%20%20%20%20%20%20%0A%20%20%20%20%0A%20%20%20%20%20%20%20%20%20%20%20%20var%20popup_723ec13abb1744e4b62a5f3631462078%20%3D%20L.popup%28%7BmaxWidth%3A%20%27100%25%27%0A%20%20%20%20%20%20%20%20%20%20%20%20%0A%20%20%20%20%20%20%20%20%20%20%20%20%7D%29%3B%0A%0A%20%20%20%20%20%20%20%20%20%20%20%20%0A%0A%20%20%20%20%20%20%20%20%20%20%20%20geo_json_8cbf82646349439c9c2d0986dbf7a854.bindPopup%28popup_723ec13abb1744e4b62a5f3631462078%29%0A%20%20%20%20%20%20%20%20%20%20%20%20%3B%0A%0A%20%20%20%20%20%20%20%20%20%20%20%20%0A%20%20%20%20%20%20%20%20%0A%20%20%20%20%0A%20%20%20%20%20%20%20%20var%20geo_json_a73514010fa74c03834ae26f1f8193ac%20%3D%20L.geoJson%28%0A%20%20%20%20%20%20%20%20%20%20%20%20%7B%22bbox%22%3A%20%5B-98.1409192%2C%2037.4050005%2C%20-98.1409192%2C%2037.4050005%5D%2C%20%22features%22%3A%20%5B%7B%22bbox%22%3A%20%5B-98.1409192%2C%2037.4050005%2C%20-98.1409192%2C%2037.4050005%5D%2C%20%22geometry%22%3A%20%7B%22coordinates%22%3A%20%5B-98.1409192%2C%2037.4050005%5D%2C%20%22type%22%3A%20%22Point%22%7D%2C%20%22id%22%3A%20%220%22%2C%20%22properties%22%3A%20%7B%22highlight%22%3A%20%7B%7D%2C%20%22style%22%3A%20%7B%22fillColor%22%3A%20%22orange%22%7D%7D%2C%20%22type%22%3A%20%22Feature%22%7D%5D%2C%20%22type%22%3A%20%22FeatureCollection%22%7D%2C%0A%20%20%20%20%20%20%20%20%20%20%20%20%7B%0A%20%20%20%20%20%20%20%20%20%20%20%20%7D%0A%20%20%20%20%20%20%20%20%29.addTo%28map_5644af8b248f420382947d8ecbbb4108%20%29%3B%0A%20%20%20%20%20%20%20%20geo_json_a73514010fa74c03834ae26f1f8193ac.setStyle%28function%28feature%29%20%7Breturn%20feature.properties.style%3B%7D%29%3B%0A%20%20%20%20%20%20%20%20%0A%20%20%20%20%0A%20%20%20%20%20%20%20%20%20%20%20%20var%20popup_9985eeac866f486193e4d515e5168149%20%3D%20L.popup%28%7BmaxWidth%3A%20%27100%25%27%0A%20%20%20%20%20%20%20%20%20%20%20%20%0A%20%20%20%20%20%20%20%20%20%20%20%20%7D%29%3B%0A%0A%20%20%20%20%20%20%20%20%20%20%20%20%0A%0A%20%20%20%20%20%20%20%20%20%20%20%20geo_json_a73514010fa74c03834ae26f1f8193ac.bindPopup%28popup_9985eeac866f486193e4d515e5168149%29%0A%20%20%20%20%20%20%20%20%20%20%20%20%3B%0A%0A%20%20%20%20%20%20%20%20%20%20%20%20%0A%20%20%20%20%20%20%20%20%0A%20%20%20%20%0A%20%20%20%20%20%20%20%20var%20geo_json_c0f3ceb6789e415eb365da5bfd5b7653%20%3D%20L.geoJson%28%0A%20%20%20%20%20%20%20%20%20%20%20%20%7B%22bbox%22%3A%20%5B-95.9391761%2C%2038.2403627%2C%20-95.9391761%2C%2038.2403627%5D%2C%20%22features%22%3A%20%5B%7B%22bbox%22%3A%20%5B-95.9391761%2C%2038.2403627%2C%20-95.9391761%2C%2038.2403627%5D%2C%20%22geometry%22%3A%20%7B%22coordinates%22%3A%20%5B-95.9391761%2C%2038.2403627%5D%2C%20%22type%22%3A%20%22Point%22%7D%2C%20%22id%22%3A%20%220%22%2C%20%22properties%22%3A%20%7B%22highlight%22%3A%20%7B%7D%2C%20%22style%22%3A%20%7B%22fillColor%22%3A%20%22orange%22%7D%7D%2C%20%22type%22%3A%20%22Feature%22%7D%5D%2C%20%22type%22%3A%20%22FeatureCollection%22%7D%2C%0A%20%20%20%20%20%20%20%20%20%20%20%20%7B%0A%20%20%20%20%20%20%20%20%20%20%20%20%7D%0A%20%20%20%20%20%20%20%20%29.addTo%28map_5644af8b248f420382947d8ecbbb4108%20%29%3B%0A%20%20%20%20%20%20%20%20geo_json_c0f3ceb6789e415eb365da5bfd5b7653.setStyle%28function%28feature%29%20%7Breturn%20feature.properties.style%3B%7D%29%3B%0A%20%20%20%20%20%20%20%20%0A%20%20%20%20%0A%20%20%20%20%20%20%20%20%20%20%20%20var%20popup_7154986951174089823f70605d501b71%20%3D%20L.popup%28%7BmaxWidth%3A%20%27100%25%27%0A%20%20%20%20%20%20%20%20%20%20%20%20%0A%20%20%20%20%20%20%20%20%20%20%20%20%7D%29%3B%0A%0A%20%20%20%20%20%20%20%20%20%20%20%20%0A%0A%20%20%20%20%20%20%20%20%20%20%20%20geo_json_c0f3ceb6789e415eb365da5bfd5b7653.bindPopup%28popup_7154986951174089823f70605d501b71%29%0A%20%20%20%20%20%20%20%20%20%20%20%20%3B%0A%0A%20%20%20%20%20%20%20%20%20%20%20%20%0A%20%20%20%20%20%20%20%20%0A%20%20%20%20%0A%20%20%20%20%20%20%20%20var%20geo_json_91fb5c361b13431481d0707b79f20c1b%20%3D%20L.geoJson%28%0A%20%20%20%20%20%20%20%20%20%20%20%20%7B%22bbox%22%3A%20%5B-101.0161643%2C%2037.2149801%2C%20-101.0161643%2C%2037.2149801%5D%2C%20%22features%22%3A%20%5B%7B%22bbox%22%3A%20%5B-101.0161643%2C%2037.2149801%2C%20-101.0161643%2C%2037.2149801%5D%2C%20%22geometry%22%3A%20%7B%22coordinates%22%3A%20%5B-101.0161643%2C%2037.2149801%5D%2C%20%22type%22%3A%20%22Point%22%7D%2C%20%22id%22%3A%20%220%22%2C%20%22properties%22%3A%20%7B%22highlight%22%3A%20%7B%7D%2C%20%22style%22%3A%20%7B%22fillColor%22%3A%20%22orange%22%7D%7D%2C%20%22type%22%3A%20%22Feature%22%7D%5D%2C%20%22type%22%3A%20%22FeatureCollection%22%7D%2C%0A%20%20%20%20%20%20%20%20%20%20%20%20%7B%0A%20%20%20%20%20%20%20%20%20%20%20%20%7D%0A%20%20%20%20%20%20%20%20%29.addTo%28map_5644af8b248f420382947d8ecbbb4108%20%29%3B%0A%20%20%20%20%20%20%20%20geo_json_91fb5c361b13431481d0707b79f20c1b.setStyle%28function%28feature%29%20%7Breturn%20feature.properties.style%3B%7D%29%3B%0A%20%20%20%20%20%20%20%20%0A%20%20%20%20%0A%20%20%20%20%20%20%20%20%20%20%20%20var%20popup_2573ab02749548a2877fe3408a7e9c9c%20%3D%20L.popup%28%7BmaxWidth%3A%20%27100%25%27%0A%20%20%20%20%20%20%20%20%20%20%20%20%0A%20%20%20%20%20%20%20%20%20%20%20%20%7D%29%3B%0A%0A%20%20%20%20%20%20%20%20%20%20%20%20%0A%0A%20%20%20%20%20%20%20%20%20%20%20%20geo_json_91fb5c361b13431481d0707b79f20c1b.bindPopup%28popup_2573ab02749548a2877fe3408a7e9c9c%29%0A%20%20%20%20%20%20%20%20%20%20%20%20%3B%0A%0A%20%20%20%20%20%20%20%20%20%20%20%20%0A%20%20%20%20%20%20%20%20%0A%20%20%20%20%0A%20%20%20%20%20%20%20%20var%20geo_json_6f5ad2a571714416bca30f5233de38d1%20%3D%20L.geoJson%28%0A%20%20%20%20%20%20%20%20%20%20%20%20%7B%22bbox%22%3A%20%5B-99.1660625%2C%2038.8168761%2C%20-99.1660625%2C%2038.8168761%5D%2C%20%22features%22%3A%20%5B%7B%22bbox%22%3A%20%5B-99.1660625%2C%2038.8168761%2C%20-99.1660625%2C%2038.8168761%5D%2C%20%22geometry%22%3A%20%7B%22coordinates%22%3A%20%5B-99.1660625%2C%2038.8168761%5D%2C%20%22type%22%3A%20%22Point%22%7D%2C%20%22id%22%3A%20%220%22%2C%20%22properties%22%3A%20%7B%22highlight%22%3A%20%7B%7D%2C%20%22style%22%3A%20%7B%22fillColor%22%3A%20%22orange%22%7D%7D%2C%20%22type%22%3A%20%22Feature%22%7D%5D%2C%20%22type%22%3A%20%22FeatureCollection%22%7D%2C%0A%20%20%20%20%20%20%20%20%20%20%20%20%7B%0A%20%20%20%20%20%20%20%20%20%20%20%20%7D%0A%20%20%20%20%20%20%20%20%29.addTo%28map_5644af8b248f420382947d8ecbbb4108%20%29%3B%0A%20%20%20%20%20%20%20%20geo_json_6f5ad2a571714416bca30f5233de38d1.setStyle%28function%28feature%29%20%7Breturn%20feature.properties.style%3B%7D%29%3B%0A%20%20%20%20%20%20%20%20%0A%20%20%20%20%0A%20%20%20%20%20%20%20%20%20%20%20%20var%20popup_7487c71f1bff409bbba963186c0cf049%20%3D%20L.popup%28%7BmaxWidth%3A%20%27100%25%27%0A%20%20%20%20%20%20%20%20%20%20%20%20%0A%20%20%20%20%20%20%20%20%20%20%20%20%7D%29%3B%0A%0A%20%20%20%20%20%20%20%20%20%20%20%20%0A%0A%20%20%20%20%20%20%20%20%20%20%20%20geo_json_6f5ad2a571714416bca30f5233de38d1.bindPopup%28popup_7487c71f1bff409bbba963186c0cf049%29%0A%20%20%20%20%20%20%20%20%20%20%20%20%3B%0A%0A%20%20%20%20%20%20%20%20%20%20%20%20%0A%20%20%20%20%20%20%20%20%0A%20%20%20%20%0A%20%20%20%20%20%20%20%20var%20geo_json_12309c65a78d4797bb0f8a636160a17c%20%3D%20L.geoJson%28%0A%20%20%20%20%20%20%20%20%20%20%20%20%7B%22bbox%22%3A%20%5B-98.8337755%2C%2039.3362134%2C%20-98.8337755%2C%2039.3362134%5D%2C%20%22features%22%3A%20%5B%7B%22bbox%22%3A%20%5B-98.8337755%2C%2039.3362134%2C%20-98.8337755%2C%2039.3362134%5D%2C%20%22geometry%22%3A%20%7B%22coordinates%22%3A%20%5B-98.8337755%2C%2039.3362134%5D%2C%20%22type%22%3A%20%22Point%22%7D%2C%20%22id%22%3A%20%220%22%2C%20%22properties%22%3A%20%7B%22highlight%22%3A%20%7B%7D%2C%20%22style%22%3A%20%7B%22fillColor%22%3A%20%22orange%22%7D%7D%2C%20%22type%22%3A%20%22Feature%22%7D%5D%2C%20%22type%22%3A%20%22FeatureCollection%22%7D%2C%0A%20%20%20%20%20%20%20%20%20%20%20%20%7B%0A%20%20%20%20%20%20%20%20%20%20%20%20%7D%0A%20%20%20%20%20%20%20%20%29.addTo%28map_5644af8b248f420382947d8ecbbb4108%20%29%3B%0A%20%20%20%20%20%20%20%20geo_json_12309c65a78d4797bb0f8a636160a17c.setStyle%28function%28feature%29%20%7Breturn%20feature.properties.style%3B%7D%29%3B%0A%20%20%20%20%20%20%20%20%0A%20%20%20%20%0A%20%20%20%20%20%20%20%20%20%20%20%20var%20popup_820bb44b6bc84ef3ada1b999641fb481%20%3D%20L.popup%28%7BmaxWidth%3A%20%27100%25%27%0A%20%20%20%20%20%20%20%20%20%20%20%20%0A%20%20%20%20%20%20%20%20%20%20%20%20%7D%29%3B%0A%0A%20%20%20%20%20%20%20%20%20%20%20%20%0A%0A%20%20%20%20%20%20%20%20%20%20%20%20geo_json_12309c65a78d4797bb0f8a636160a17c.bindPopup%28popup_820bb44b6bc84ef3ada1b999641fb481%29%0A%20%20%20%20%20%20%20%20%20%20%20%20%3B%0A%0A%20%20%20%20%20%20%20%20%20%20%20%20%0A%20%20%20%20%20%20%20%20%0A%20%20%20%20%0A%20%20%20%20%20%20%20%20var%20geo_json_546f84b4d49542c6a52439e38b02613d%20%3D%20L.geoJson%28%0A%20%20%20%20%20%20%20%20%20%20%20%20%7B%22bbox%22%3A%20%5B-96.9122909%2C%2037.9441308%2C%20-96.9122909%2C%2037.9441308%5D%2C%20%22features%22%3A%20%5B%7B%22bbox%22%3A%20%5B-96.9122909%2C%2037.9441308%2C%20-96.9122909%2C%2037.9441308%5D%2C%20%22geometry%22%3A%20%7B%22coordinates%22%3A%20%5B-96.9122909%2C%2037.9441308%5D%2C%20%22type%22%3A%20%22Point%22%7D%2C%20%22id%22%3A%20%220%22%2C%20%22properties%22%3A%20%7B%22highlight%22%3A%20%7B%7D%2C%20%22style%22%3A%20%7B%22fillColor%22%3A%20%22orange%22%7D%7D%2C%20%22type%22%3A%20%22Feature%22%7D%5D%2C%20%22type%22%3A%20%22FeatureCollection%22%7D%2C%0A%20%20%20%20%20%20%20%20%20%20%20%20%7B%0A%20%20%20%20%20%20%20%20%20%20%20%20%7D%0A%20%20%20%20%20%20%20%20%29.addTo%28map_5644af8b248f420382947d8ecbbb4108%20%29%3B%0A%20%20%20%20%20%20%20%20geo_json_546f84b4d49542c6a52439e38b02613d.setStyle%28function%28feature%29%20%7Breturn%20feature.properties.style%3B%7D%29%3B%0A%20%20%20%20%20%20%20%20%0A%20%20%20%20%0A%20%20%20%20%20%20%20%20%20%20%20%20var%20popup_c3c5907ad8104b7193193c0538979429%20%3D%20L.popup%28%7BmaxWidth%3A%20%27100%25%27%0A%20%20%20%20%20%20%20%20%20%20%20%20%0A%20%20%20%20%20%20%20%20%20%20%20%20%7D%29%3B%0A%0A%20%20%20%20%20%20%20%20%20%20%20%20%0A%0A%20%20%20%20%20%20%20%20%20%20%20%20geo_json_546f84b4d49542c6a52439e38b02613d.bindPopup%28popup_c3c5907ad8104b7193193c0538979429%29%0A%20%20%20%20%20%20%20%20%20%20%20%20%3B%0A%0A%20%20%20%20%20%20%20%20%20%20%20%20%0A%20%20%20%20%20%20%20%20%0A%20%20%20%20%0A%20%20%20%20%20%20%20%20var%20geo_json_dfd42080055b4a2cb9940956d477377a%20%3D%20L.geoJson%28%0A%20%20%20%20%20%20%20%20%20%20%20%20%7B%22bbox%22%3A%20%5B-98.4186846%2C%2037.1421249%2C%20-98.4186846%2C%2037.1421249%5D%2C%20%22features%22%3A%20%5B%7B%22bbox%22%3A%20%5B-98.4186846%2C%2037.1421249%2C%20-98.4186846%2C%2037.1421249%5D%2C%20%22geometry%22%3A%20%7B%22coordinates%22%3A%20%5B-98.4186846%2C%2037.1421249%5D%2C%20%22type%22%3A%20%22Point%22%7D%2C%20%22id%22%3A%20%220%22%2C%20%22properties%22%3A%20%7B%22highlight%22%3A%20%7B%7D%2C%20%22style%22%3A%20%7B%22fillColor%22%3A%20%22orange%22%7D%7D%2C%20%22type%22%3A%20%22Feature%22%7D%5D%2C%20%22type%22%3A%20%22FeatureCollection%22%7D%2C%0A%20%20%20%20%20%20%20%20%20%20%20%20%7B%0A%20%20%20%20%20%20%20%20%20%20%20%20%7D%0A%20%20%20%20%20%20%20%20%29.addTo%28map_5644af8b248f420382947d8ecbbb4108%20%29%3B%0A%20%20%20%20%20%20%20%20geo_json_dfd42080055b4a2cb9940956d477377a.setStyle%28function%28feature%29%20%7Breturn%20feature.properties.style%3B%7D%29%3B%0A%20%20%20%20%20%20%20%20%0A%20%20%20%20%0A%20%20%20%20%20%20%20%20%20%20%20%20var%20popup_4bb37bbbdeac4f9e9fcccac3c009c111%20%3D%20L.popup%28%7BmaxWidth%3A%20%27100%25%27%0A%20%20%20%20%20%20%20%20%20%20%20%20%0A%20%20%20%20%20%20%20%20%20%20%20%20%7D%29%3B%0A%0A%20%20%20%20%20%20%20%20%20%20%20%20%0A%0A%20%20%20%20%20%20%20%20%20%20%20%20geo_json_dfd42080055b4a2cb9940956d477377a.bindPopup%28popup_4bb37bbbdeac4f9e9fcccac3c009c111%29%0A%20%20%20%20%20%20%20%20%20%20%20%20%3B%0A%0A%20%20%20%20%20%20%20%20%20%20%20%20%0A%20%20%20%20%20%20%20%20%0A%20%20%20%20%0A%20%20%20%20%20%20%20%20var%20geo_json_41c1bd04f1fd498094a68da58beb02e6%20%3D%20L.geoJson%28%0A%20%20%20%20%20%20%20%20%20%20%20%20%7B%22bbox%22%3A%20%5B-98.5524576%2C%2038.1274739%2C%20-98.5524576%2C%2038.1274739%5D%2C%20%22features%22%3A%20%5B%7B%22bbox%22%3A%20%5B-98.5524576%2C%2038.1274739%2C%20-98.5524576%2C%2038.1274739%5D%2C%20%22geometry%22%3A%20%7B%22coordinates%22%3A%20%5B-98.5524576%2C%2038.1274739%5D%2C%20%22type%22%3A%20%22Point%22%7D%2C%20%22id%22%3A%20%220%22%2C%20%22properties%22%3A%20%7B%22highlight%22%3A%20%7B%7D%2C%20%22style%22%3A%20%7B%22fillColor%22%3A%20%22orange%22%7D%7D%2C%20%22type%22%3A%20%22Feature%22%7D%5D%2C%20%22type%22%3A%20%22FeatureCollection%22%7D%2C%0A%20%20%20%20%20%20%20%20%20%20%20%20%7B%0A%20%20%20%20%20%20%20%20%20%20%20%20%7D%0A%20%20%20%20%20%20%20%20%29.addTo%28map_5644af8b248f420382947d8ecbbb4108%20%29%3B%0A%20%20%20%20%20%20%20%20geo_json_41c1bd04f1fd498094a68da58beb02e6.setStyle%28function%28feature%29%20%7Breturn%20feature.properties.style%3B%7D%29%3B%0A%20%20%20%20%20%20%20%20%0A%20%20%20%20%0A%20%20%20%20%20%20%20%20%20%20%20%20var%20popup_2b41a1f6eac14fa597371845eccf582b%20%3D%20L.popup%28%7BmaxWidth%3A%20%27100%25%27%0A%20%20%20%20%20%20%20%20%20%20%20%20%0A%20%20%20%20%20%20%20%20%20%20%20%20%7D%29%3B%0A%0A%20%20%20%20%20%20%20%20%20%20%20%20%0A%0A%20%20%20%20%20%20%20%20%20%20%20%20geo_json_41c1bd04f1fd498094a68da58beb02e6.bindPopup%28popup_2b41a1f6eac14fa597371845eccf582b%29%0A%20%20%20%20%20%20%20%20%20%20%20%20%3B%0A%0A%20%20%20%20%20%20%20%20%20%20%20%20%0A%20%20%20%20%20%20%20%20%0A%20%20%20%20%0A%20%20%20%20%20%20%20%20var%20geo_json_bd496123e2244e3b93ea4058cd63475b%20%3D%20L.geoJson%28%0A%20%20%20%20%20%20%20%20%20%20%20%20%7B%22bbox%22%3A%20%5B-100.1377113%2C%2038.4955178%2C%20-100.1377113%2C%2038.4955178%5D%2C%20%22features%22%3A%20%5B%7B%22bbox%22%3A%20%5B-100.1377113%2C%2038.4955178%2C%20-100.1377113%2C%2038.4955178%5D%2C%20%22geometry%22%3A%20%7B%22coordinates%22%3A%20%5B-100.1377113%2C%2038.4955178%5D%2C%20%22type%22%3A%20%22Point%22%7D%2C%20%22id%22%3A%20%220%22%2C%20%22properties%22%3A%20%7B%22highlight%22%3A%20%7B%7D%2C%20%22style%22%3A%20%7B%22fillColor%22%3A%20%22orange%22%7D%7D%2C%20%22type%22%3A%20%22Feature%22%7D%5D%2C%20%22type%22%3A%20%22FeatureCollection%22%7D%2C%0A%20%20%20%20%20%20%20%20%20%20%20%20%7B%0A%20%20%20%20%20%20%20%20%20%20%20%20%7D%0A%20%20%20%20%20%20%20%20%29.addTo%28map_5644af8b248f420382947d8ecbbb4108%20%29%3B%0A%20%20%20%20%20%20%20%20geo_json_bd496123e2244e3b93ea4058cd63475b.setStyle%28function%28feature%29%20%7Breturn%20feature.properties.style%3B%7D%29%3B%0A%20%20%20%20%20%20%20%20%0A%20%20%20%20%0A%20%20%20%20%20%20%20%20%20%20%20%20var%20popup_6c5382dfd3754677ac1a5381143fb255%20%3D%20L.popup%28%7BmaxWidth%3A%20%27100%25%27%0A%20%20%20%20%20%20%20%20%20%20%20%20%0A%20%20%20%20%20%20%20%20%20%20%20%20%7D%29%3B%0A%0A%20%20%20%20%20%20%20%20%20%20%20%20%0A%0A%20%20%20%20%20%20%20%20%20%20%20%20geo_json_bd496123e2244e3b93ea4058cd63475b.bindPopup%28popup_6c5382dfd3754677ac1a5381143fb255%29%0A%20%20%20%20%20%20%20%20%20%20%20%20%3B%0A%0A%20%20%20%20%20%20%20%20%20%20%20%20%0A%20%20%20%20%20%20%20%20%0A%20%20%20%20%0A%20%20%20%20%20%20%20%20var%20geo_json_49eb79cb70c4415f820fc46e20582722%20%3D%20L.geoJson%28%0A%20%20%20%20%20%20%20%20%20%20%20%20%7B%22bbox%22%3A%20%5B-101.1183427%2C%2038.5001523%2C%20-101.1183427%2C%2038.5001523%5D%2C%20%22features%22%3A%20%5B%7B%22bbox%22%3A%20%5B-101.1183427%2C%2038.5001523%2C%20-101.1183427%2C%2038.5001523%5D%2C%20%22geometry%22%3A%20%7B%22coordinates%22%3A%20%5B-101.1183427%2C%2038.5001523%5D%2C%20%22type%22%3A%20%22Point%22%7D%2C%20%22id%22%3A%20%220%22%2C%20%22properties%22%3A%20%7B%22highlight%22%3A%20%7B%7D%2C%20%22style%22%3A%20%7B%22fillColor%22%3A%20%22orange%22%7D%7D%2C%20%22type%22%3A%20%22Feature%22%7D%5D%2C%20%22type%22%3A%20%22FeatureCollection%22%7D%2C%0A%20%20%20%20%20%20%20%20%20%20%20%20%7B%0A%20%20%20%20%20%20%20%20%20%20%20%20%7D%0A%20%20%20%20%20%20%20%20%29.addTo%28map_5644af8b248f420382947d8ecbbb4108%20%29%3B%0A%20%20%20%20%20%20%20%20geo_json_49eb79cb70c4415f820fc46e20582722.setStyle%28function%28feature%29%20%7Breturn%20feature.properties.style%3B%7D%29%3B%0A%20%20%20%20%20%20%20%20%0A%20%20%20%20%0A%20%20%20%20%20%20%20%20%20%20%20%20var%20popup_d04b7f8bf3c341e49a90d3fd30297c83%20%3D%20L.popup%28%7BmaxWidth%3A%20%27100%25%27%0A%20%20%20%20%20%20%20%20%20%20%20%20%0A%20%20%20%20%20%20%20%20%20%20%20%20%7D%29%3B%0A%0A%20%20%20%20%20%20%20%20%20%20%20%20%0A%0A%20%20%20%20%20%20%20%20%20%20%20%20geo_json_49eb79cb70c4415f820fc46e20582722.bindPopup%28popup_d04b7f8bf3c341e49a90d3fd30297c83%29%0A%20%20%20%20%20%20%20%20%20%20%20%20%3B%0A%0A%20%20%20%20%20%20%20%20%20%20%20%20%0A%20%20%20%20%20%20%20%20%0A%20%20%20%20%0A%20%20%20%20%20%20%20%20var%20geo_json_a61b4da5c1214f9ea45a409911da2802%20%3D%20L.geoJson%28%0A%20%20%20%20%20%20%20%20%20%20%20%20%7B%22bbox%22%3A%20%5B-100.9692438%2C%2037.6579455%2C%20-100.9692438%2C%2037.6579455%5D%2C%20%22features%22%3A%20%5B%7B%22bbox%22%3A%20%5B-100.9692438%2C%2037.6579455%2C%20-100.9692438%2C%2037.6579455%5D%2C%20%22geometry%22%3A%20%7B%22coordinates%22%3A%20%5B-100.9692438%2C%2037.6579455%5D%2C%20%22type%22%3A%20%22Point%22%7D%2C%20%22id%22%3A%20%220%22%2C%20%22properties%22%3A%20%7B%22highlight%22%3A%20%7B%7D%2C%20%22style%22%3A%20%7B%22fillColor%22%3A%20%22orange%22%7D%7D%2C%20%22type%22%3A%20%22Feature%22%7D%5D%2C%20%22type%22%3A%20%22FeatureCollection%22%7D%2C%0A%20%20%20%20%20%20%20%20%20%20%20%20%7B%0A%20%20%20%20%20%20%20%20%20%20%20%20%7D%0A%20%20%20%20%20%20%20%20%29.addTo%28map_5644af8b248f420382947d8ecbbb4108%20%29%3B%0A%20%20%20%20%20%20%20%20geo_json_a61b4da5c1214f9ea45a409911da2802.setStyle%28function%28feature%29%20%7Breturn%20feature.properties.style%3B%7D%29%3B%0A%20%20%20%20%20%20%20%20%0A%20%20%20%20%0A%20%20%20%20%20%20%20%20%20%20%20%20var%20popup_44205cfe7fe24f0b8709322da8b42d1e%20%3D%20L.popup%28%7BmaxWidth%3A%20%27100%25%27%0A%20%20%20%20%20%20%20%20%20%20%20%20%0A%20%20%20%20%20%20%20%20%20%20%20%20%7D%29%3B%0A%0A%20%20%20%20%20%20%20%20%20%20%20%20%0A%0A%20%20%20%20%20%20%20%20%20%20%20%20geo_json_a61b4da5c1214f9ea45a409911da2802.bindPopup%28popup_44205cfe7fe24f0b8709322da8b42d1e%29%0A%20%20%20%20%20%20%20%20%20%20%20%20%3B%0A%0A%20%20%20%20%20%20%20%20%20%20%20%20%0A%20%20%20%20%20%20%20%20%0A%20%20%20%20%0A%20%20%20%20%20%20%20%20var%20geo_json_634f581a769d4b1c80f95e47d02ed156%20%3D%20L.geoJson%28%0A%20%20%20%20%20%20%20%20%20%20%20%20%7B%22bbox%22%3A%20%5B-99.5585301%2C%2037.0974916%2C%20-99.5585301%2C%2037.0974916%5D%2C%20%22features%22%3A%20%5B%7B%22bbox%22%3A%20%5B-99.5585301%2C%2037.0974916%2C%20-99.5585301%2C%2037.0974916%5D%2C%20%22geometry%22%3A%20%7B%22coordinates%22%3A%20%5B-99.5585301%2C%2037.0974916%5D%2C%20%22type%22%3A%20%22Point%22%7D%2C%20%22id%22%3A%20%220%22%2C%20%22properties%22%3A%20%7B%22highlight%22%3A%20%7B%7D%2C%20%22style%22%3A%20%7B%22fillColor%22%3A%20%22orange%22%7D%7D%2C%20%22type%22%3A%20%22Feature%22%7D%5D%2C%20%22type%22%3A%20%22FeatureCollection%22%7D%2C%0A%20%20%20%20%20%20%20%20%20%20%20%20%7B%0A%20%20%20%20%20%20%20%20%20%20%20%20%7D%0A%20%20%20%20%20%20%20%20%29.addTo%28map_5644af8b248f420382947d8ecbbb4108%20%29%3B%0A%20%20%20%20%20%20%20%20geo_json_634f581a769d4b1c80f95e47d02ed156.setStyle%28function%28feature%29%20%7Breturn%20feature.properties.style%3B%7D%29%3B%0A%20%20%20%20%20%20%20%20%0A%20%20%20%20%0A%20%20%20%20%20%20%20%20%20%20%20%20var%20popup_8e7e04783f2a4dd7acb65a44177cf211%20%3D%20L.popup%28%7BmaxWidth%3A%20%27100%25%27%0A%20%20%20%20%20%20%20%20%20%20%20%20%0A%20%20%20%20%20%20%20%20%20%20%20%20%7D%29%3B%0A%0A%20%20%20%20%20%20%20%20%20%20%20%20%0A%0A%20%20%20%20%20%20%20%20%20%20%20%20geo_json_634f581a769d4b1c80f95e47d02ed156.bindPopup%28popup_8e7e04783f2a4dd7acb65a44177cf211%29%0A%20%20%20%20%20%20%20%20%20%20%20%20%3B%0A%0A%20%20%20%20%20%20%20%20%20%20%20%20%0A%20%20%20%20%20%20%20%20%0A%20%20%20%20%0A%20%20%20%20%20%20%20%20var%20geo_json_83558e21b09946cf82fdb8a89410cec2%20%3D%20L.geoJson%28%0A%20%20%20%20%20%20%20%20%20%20%20%20%7B%22bbox%22%3A%20%5B-101.010318%2C%2037.7030455%2C%20-101.010318%2C%2037.7030455%5D%2C%20%22features%22%3A%20%5B%7B%22bbox%22%3A%20%5B-101.010318%2C%2037.7030455%2C%20-101.010318%2C%2037.7030455%5D%2C%20%22geometry%22%3A%20%7B%22coordinates%22%3A%20%5B-101.010318%2C%2037.7030455%5D%2C%20%22type%22%3A%20%22Point%22%7D%2C%20%22id%22%3A%20%220%22%2C%20%22properties%22%3A%20%7B%22highlight%22%3A%20%7B%7D%2C%20%22style%22%3A%20%7B%22fillColor%22%3A%20%22orange%22%7D%7D%2C%20%22type%22%3A%20%22Feature%22%7D%5D%2C%20%22type%22%3A%20%22FeatureCollection%22%7D%2C%0A%20%20%20%20%20%20%20%20%20%20%20%20%7B%0A%20%20%20%20%20%20%20%20%20%20%20%20%7D%0A%20%20%20%20%20%20%20%20%29.addTo%28map_5644af8b248f420382947d8ecbbb4108%20%29%3B%0A%20%20%20%20%20%20%20%20geo_json_83558e21b09946cf82fdb8a89410cec2.setStyle%28function%28feature%29%20%7Breturn%20feature.properties.style%3B%7D%29%3B%0A%20%20%20%20%20%20%20%20%0A%20%20%20%20%0A%20%20%20%20%20%20%20%20%20%20%20%20var%20popup_867bbcccb458459eabb0157cb3b6e4cb%20%3D%20L.popup%28%7BmaxWidth%3A%20%27100%25%27%0A%20%20%20%20%20%20%20%20%20%20%20%20%0A%20%20%20%20%20%20%20%20%20%20%20%20%7D%29%3B%0A%0A%20%20%20%20%20%20%20%20%20%20%20%20%0A%0A%20%20%20%20%20%20%20%20%20%20%20%20geo_json_83558e21b09946cf82fdb8a89410cec2.bindPopup%28popup_867bbcccb458459eabb0157cb3b6e4cb%29%0A%20%20%20%20%20%20%20%20%20%20%20%20%3B%0A%0A%20%20%20%20%20%20%20%20%20%20%20%20%0A%20%20%20%20%20%20%20%20%0A%20%20%20%20%0A%20%20%20%20%20%20%20%20var%20geo_json_f9cf773661544ea0bfc6fce7157ce5e2%20%3D%20L.geoJson%28%0A%20%20%20%20%20%20%20%20%20%20%20%20%7B%22bbox%22%3A%20%5B-100.390656%2C%2038.6541411%2C%20-100.390656%2C%2038.6541411%5D%2C%20%22features%22%3A%20%5B%7B%22bbox%22%3A%20%5B-100.390656%2C%2038.6541411%2C%20-100.390656%2C%2038.6541411%5D%2C%20%22geometry%22%3A%20%7B%22coordinates%22%3A%20%5B-100.390656%2C%2038.6541411%5D%2C%20%22type%22%3A%20%22Point%22%7D%2C%20%22id%22%3A%20%220%22%2C%20%22properties%22%3A%20%7B%22highlight%22%3A%20%7B%7D%2C%20%22style%22%3A%20%7B%22fillColor%22%3A%20%22orange%22%7D%7D%2C%20%22type%22%3A%20%22Feature%22%7D%5D%2C%20%22type%22%3A%20%22FeatureCollection%22%7D%2C%0A%20%20%20%20%20%20%20%20%20%20%20%20%7B%0A%20%20%20%20%20%20%20%20%20%20%20%20%7D%0A%20%20%20%20%20%20%20%20%29.addTo%28map_5644af8b248f420382947d8ecbbb4108%20%29%3B%0A%20%20%20%20%20%20%20%20geo_json_f9cf773661544ea0bfc6fce7157ce5e2.setStyle%28function%28feature%29%20%7Breturn%20feature.properties.style%3B%7D%29%3B%0A%20%20%20%20%20%20%20%20%0A%20%20%20%20%0A%20%20%20%20%20%20%20%20%20%20%20%20var%20popup_8d55c90abc2245c78e869531f6bc3e47%20%3D%20L.popup%28%7BmaxWidth%3A%20%27100%25%27%0A%20%20%20%20%20%20%20%20%20%20%20%20%0A%20%20%20%20%20%20%20%20%20%20%20%20%7D%29%3B%0A%0A%20%20%20%20%20%20%20%20%20%20%20%20%0A%0A%20%20%20%20%20%20%20%20%20%20%20%20geo_json_f9cf773661544ea0bfc6fce7157ce5e2.bindPopup%28popup_8d55c90abc2245c78e869531f6bc3e47%29%0A%20%20%20%20%20%20%20%20%20%20%20%20%3B%0A%0A%20%20%20%20%20%20%20%20%20%20%20%20%0A%20%20%20%20%20%20%20%20%0A%20%20%20%20%0A%20%20%20%20%20%20%20%20var%20geo_json_7bd1912ca4e143318d4f76ed3a27c4df%20%3D%20L.geoJson%28%0A%20%20%20%20%20%20%20%20%20%20%20%20%7B%22bbox%22%3A%20%5B-95.9448207%2C%2039.7970144%2C%20-95.9448207%2C%2039.7970144%5D%2C%20%22features%22%3A%20%5B%7B%22bbox%22%3A%20%5B-95.9448207%2C%2039.7970144%2C%20-95.9448207%2C%2039.7970144%5D%2C%20%22geometry%22%3A%20%7B%22coordinates%22%3A%20%5B-95.9448207%2C%2039.7970144%5D%2C%20%22type%22%3A%20%22Point%22%7D%2C%20%22id%22%3A%20%220%22%2C%20%22properties%22%3A%20%7B%22highlight%22%3A%20%7B%7D%2C%20%22style%22%3A%20%7B%22fillColor%22%3A%20%22orange%22%7D%7D%2C%20%22type%22%3A%20%22Feature%22%7D%5D%2C%20%22type%22%3A%20%22FeatureCollection%22%7D%2C%0A%20%20%20%20%20%20%20%20%20%20%20%20%7B%0A%20%20%20%20%20%20%20%20%20%20%20%20%7D%0A%20%20%20%20%20%20%20%20%29.addTo%28map_5644af8b248f420382947d8ecbbb4108%20%29%3B%0A%20%20%20%20%20%20%20%20geo_json_7bd1912ca4e143318d4f76ed3a27c4df.setStyle%28function%28feature%29%20%7Breturn%20feature.properties.style%3B%7D%29%3B%0A%20%20%20%20%20%20%20%20%0A%20%20%20%20%0A%20%20%20%20%20%20%20%20%20%20%20%20var%20popup_e4803ed15c35426ab5788e5976e11e77%20%3D%20L.popup%28%7BmaxWidth%3A%20%27100%25%27%0A%20%20%20%20%20%20%20%20%20%20%20%20%0A%20%20%20%20%20%20%20%20%20%20%20%20%7D%29%3B%0A%0A%20%20%20%20%20%20%20%20%20%20%20%20%0A%0A%20%20%20%20%20%20%20%20%20%20%20%20geo_json_7bd1912ca4e143318d4f76ed3a27c4df.bindPopup%28popup_e4803ed15c35426ab5788e5976e11e77%29%0A%20%20%20%20%20%20%20%20%20%20%20%20%3B%0A%0A%20%20%20%20%20%20%20%20%20%20%20%20%0A%20%20%20%20%20%20%20%20%0A%20%20%20%20%0A%20%20%20%20%20%20%20%20var%20geo_json_f1f38f4e67b3404cac9361d1fd9b7aae%20%3D%20L.geoJson%28%0A%20%20%20%20%20%20%20%20%20%20%20%20%7B%22bbox%22%3A%20%5B-100.9604427%2C%2037.6087605%2C%20-100.9604427%2C%2037.6087605%5D%2C%20%22features%22%3A%20%5B%7B%22bbox%22%3A%20%5B-100.9604427%2C%2037.6087605%2C%20-100.9604427%2C%2037.6087605%5D%2C%20%22geometry%22%3A%20%7B%22coordinates%22%3A%20%5B-100.9604427%2C%2037.6087605%5D%2C%20%22type%22%3A%20%22Point%22%7D%2C%20%22id%22%3A%20%220%22%2C%20%22properties%22%3A%20%7B%22highlight%22%3A%20%7B%7D%2C%20%22style%22%3A%20%7B%22fillColor%22%3A%20%22orange%22%7D%7D%2C%20%22type%22%3A%20%22Feature%22%7D%5D%2C%20%22type%22%3A%20%22FeatureCollection%22%7D%2C%0A%20%20%20%20%20%20%20%20%20%20%20%20%7B%0A%20%20%20%20%20%20%20%20%20%20%20%20%7D%0A%20%20%20%20%20%20%20%20%29.addTo%28map_5644af8b248f420382947d8ecbbb4108%20%29%3B%0A%20%20%20%20%20%20%20%20geo_json_f1f38f4e67b3404cac9361d1fd9b7aae.setStyle%28function%28feature%29%20%7Breturn%20feature.properties.style%3B%7D%29%3B%0A%20%20%20%20%20%20%20%20%0A%20%20%20%20%0A%20%20%20%20%20%20%20%20%20%20%20%20var%20popup_ae376f9ab8f74606ac2474e1ec7bf02e%20%3D%20L.popup%28%7BmaxWidth%3A%20%27100%25%27%0A%20%20%20%20%20%20%20%20%20%20%20%20%0A%20%20%20%20%20%20%20%20%20%20%20%20%7D%29%3B%0A%0A%20%20%20%20%20%20%20%20%20%20%20%20%0A%0A%20%20%20%20%20%20%20%20%20%20%20%20geo_json_f1f38f4e67b3404cac9361d1fd9b7aae.bindPopup%28popup_ae376f9ab8f74606ac2474e1ec7bf02e%29%0A%20%20%20%20%20%20%20%20%20%20%20%20%3B%0A%0A%20%20%20%20%20%20%20%20%20%20%20%20%0A%20%20%20%20%20%20%20%20%0A%20%20%20%20%0A%20%20%20%20%20%20%20%20var%20geo_json_c8db222b414947dd92fa914a1230145f%20%3D%20L.geoJson%28%0A%20%20%20%20%20%20%20%20%20%20%20%20%7B%22bbox%22%3A%20%5B-95.9362942%2C%2039.943543%2C%20-95.9362942%2C%2039.943543%5D%2C%20%22features%22%3A%20%5B%7B%22bbox%22%3A%20%5B-95.9362942%2C%2039.943543%2C%20-95.9362942%2C%2039.943543%5D%2C%20%22geometry%22%3A%20%7B%22coordinates%22%3A%20%5B-95.9362942%2C%2039.943543%5D%2C%20%22type%22%3A%20%22Point%22%7D%2C%20%22id%22%3A%20%220%22%2C%20%22properties%22%3A%20%7B%22highlight%22%3A%20%7B%7D%2C%20%22style%22%3A%20%7B%22fillColor%22%3A%20%22orange%22%7D%7D%2C%20%22type%22%3A%20%22Feature%22%7D%5D%2C%20%22type%22%3A%20%22FeatureCollection%22%7D%2C%0A%20%20%20%20%20%20%20%20%20%20%20%20%7B%0A%20%20%20%20%20%20%20%20%20%20%20%20%7D%0A%20%20%20%20%20%20%20%20%29.addTo%28map_5644af8b248f420382947d8ecbbb4108%20%29%3B%0A%20%20%20%20%20%20%20%20geo_json_c8db222b414947dd92fa914a1230145f.setStyle%28function%28feature%29%20%7Breturn%20feature.properties.style%3B%7D%29%3B%0A%20%20%20%20%20%20%20%20%0A%20%20%20%20%0A%20%20%20%20%20%20%20%20%20%20%20%20var%20popup_c28f62364fba435191c39398c119f82d%20%3D%20L.popup%28%7BmaxWidth%3A%20%27100%25%27%0A%20%20%20%20%20%20%20%20%20%20%20%20%0A%20%20%20%20%20%20%20%20%20%20%20%20%7D%29%3B%0A%0A%20%20%20%20%20%20%20%20%20%20%20%20%0A%0A%20%20%20%20%20%20%20%20%20%20%20%20geo_json_c8db222b414947dd92fa914a1230145f.bindPopup%28popup_c28f62364fba435191c39398c119f82d%29%0A%20%20%20%20%20%20%20%20%20%20%20%20%3B%0A%0A%20%20%20%20%20%20%20%20%20%20%20%20%0A%20%20%20%20%20%20%20%20%0A%20%20%20%20%0A%20%20%20%20%20%20%20%20var%20geo_json_07b01bcb464e455aaeba31d85732fa8b%20%3D%20L.geoJson%28%0A%20%20%20%20%20%20%20%20%20%20%20%20%7B%22bbox%22%3A%20%5B-100.6448832%2C%2037.6435722%2C%20-100.6448832%2C%2037.6435722%5D%2C%20%22features%22%3A%20%5B%7B%22bbox%22%3A%20%5B-100.6448832%2C%2037.6435722%2C%20-100.6448832%2C%2037.6435722%5D%2C%20%22geometry%22%3A%20%7B%22coordinates%22%3A%20%5B-100.6448832%2C%2037.6435722%5D%2C%20%22type%22%3A%20%22Point%22%7D%2C%20%22id%22%3A%20%220%22%2C%20%22properties%22%3A%20%7B%22highlight%22%3A%20%7B%7D%2C%20%22style%22%3A%20%7B%22fillColor%22%3A%20%22orange%22%7D%7D%2C%20%22type%22%3A%20%22Feature%22%7D%5D%2C%20%22type%22%3A%20%22FeatureCollection%22%7D%2C%0A%20%20%20%20%20%20%20%20%20%20%20%20%7B%0A%20%20%20%20%20%20%20%20%20%20%20%20%7D%0A%20%20%20%20%20%20%20%20%29.addTo%28map_5644af8b248f420382947d8ecbbb4108%20%29%3B%0A%20%20%20%20%20%20%20%20geo_json_07b01bcb464e455aaeba31d85732fa8b.setStyle%28function%28feature%29%20%7Breturn%20feature.properties.style%3B%7D%29%3B%0A%20%20%20%20%20%20%20%20%0A%20%20%20%20%0A%20%20%20%20%20%20%20%20%20%20%20%20var%20popup_90b0851c6b774a48b22742abb3647a78%20%3D%20L.popup%28%7BmaxWidth%3A%20%27100%25%27%0A%20%20%20%20%20%20%20%20%20%20%20%20%0A%20%20%20%20%20%20%20%20%20%20%20%20%7D%29%3B%0A%0A%20%20%20%20%20%20%20%20%20%20%20%20%0A%0A%20%20%20%20%20%20%20%20%20%20%20%20geo_json_07b01bcb464e455aaeba31d85732fa8b.bindPopup%28popup_90b0851c6b774a48b22742abb3647a78%29%0A%20%20%20%20%20%20%20%20%20%20%20%20%3B%0A%0A%20%20%20%20%20%20%20%20%20%20%20%20%0A%20%20%20%20%20%20%20%20%0A%20%20%20%20%0A%20%20%20%20%20%20%20%20var%20geo_json_83ca574d603340b2a2d9661d80abb508%20%3D%20L.geoJson%28%0A%20%20%20%20%20%20%20%20%20%20%20%20%7B%22bbox%22%3A%20%5B-98.4740827%2C%2037.0584128%2C%20-98.4740827%2C%2037.0584128%5D%2C%20%22features%22%3A%20%5B%7B%22bbox%22%3A%20%5B-98.4740827%2C%2037.0584128%2C%20-98.4740827%2C%2037.0584128%5D%2C%20%22geometry%22%3A%20%7B%22coordinates%22%3A%20%5B-98.4740827%2C%2037.0584128%5D%2C%20%22type%22%3A%20%22Point%22%7D%2C%20%22id%22%3A%20%220%22%2C%20%22properties%22%3A%20%7B%22highlight%22%3A%20%7B%7D%2C%20%22style%22%3A%20%7B%22fillColor%22%3A%20%22orange%22%7D%7D%2C%20%22type%22%3A%20%22Feature%22%7D%5D%2C%20%22type%22%3A%20%22FeatureCollection%22%7D%2C%0A%20%20%20%20%20%20%20%20%20%20%20%20%7B%0A%20%20%20%20%20%20%20%20%20%20%20%20%7D%0A%20%20%20%20%20%20%20%20%29.addTo%28map_5644af8b248f420382947d8ecbbb4108%20%29%3B%0A%20%20%20%20%20%20%20%20geo_json_83ca574d603340b2a2d9661d80abb508.setStyle%28function%28feature%29%20%7Breturn%20feature.properties.style%3B%7D%29%3B%0A%20%20%20%20%20%20%20%20%0A%20%20%20%20%0A%20%20%20%20%20%20%20%20%20%20%20%20var%20popup_bfd9df3fb1434ae9863e56554e4d483c%20%3D%20L.popup%28%7BmaxWidth%3A%20%27100%25%27%0A%20%20%20%20%20%20%20%20%20%20%20%20%0A%20%20%20%20%20%20%20%20%20%20%20%20%7D%29%3B%0A%0A%20%20%20%20%20%20%20%20%20%20%20%20%0A%0A%20%20%20%20%20%20%20%20%20%20%20%20geo_json_83ca574d603340b2a2d9661d80abb508.bindPopup%28popup_bfd9df3fb1434ae9863e56554e4d483c%29%0A%20%20%20%20%20%20%20%20%20%20%20%20%3B%0A%0A%20%20%20%20%20%20%20%20%20%20%20%20%0A%20%20%20%20%20%20%20%20%0A%20%20%20%20%0A%20%20%20%20%20%20%20%20var%20geo_json_3e7f6f8045214614a500dcabe9b01de7%20%3D%20L.geoJson%28%0A%20%20%20%20%20%20%20%20%20%20%20%20%7B%22bbox%22%3A%20%5B-101.1185357%2C%2038.2223483%2C%20-101.1185357%2C%2038.2223483%5D%2C%20%22features%22%3A%20%5B%7B%22bbox%22%3A%20%5B-101.1185357%2C%2038.2223483%2C%20-101.1185357%2C%2038.2223483%5D%2C%20%22geometry%22%3A%20%7B%22coordinates%22%3A%20%5B-101.1185357%2C%2038.2223483%5D%2C%20%22type%22%3A%20%22Point%22%7D%2C%20%22id%22%3A%20%220%22%2C%20%22properties%22%3A%20%7B%22highlight%22%3A%20%7B%7D%2C%20%22style%22%3A%20%7B%22fillColor%22%3A%20%22orange%22%7D%7D%2C%20%22type%22%3A%20%22Feature%22%7D%5D%2C%20%22type%22%3A%20%22FeatureCollection%22%7D%2C%0A%20%20%20%20%20%20%20%20%20%20%20%20%7B%0A%20%20%20%20%20%20%20%20%20%20%20%20%7D%0A%20%20%20%20%20%20%20%20%29.addTo%28map_5644af8b248f420382947d8ecbbb4108%20%29%3B%0A%20%20%20%20%20%20%20%20geo_json_3e7f6f8045214614a500dcabe9b01de7.setStyle%28function%28feature%29%20%7Breturn%20feature.properties.style%3B%7D%29%3B%0A%20%20%20%20%20%20%20%20%0A%20%20%20%20%0A%20%20%20%20%20%20%20%20%20%20%20%20var%20popup_9ba8a11d22d0416fbd009f2bf50d5a37%20%3D%20L.popup%28%7BmaxWidth%3A%20%27100%25%27%0A%20%20%20%20%20%20%20%20%20%20%20%20%0A%20%20%20%20%20%20%20%20%20%20%20%20%7D%29%3B%0A%0A%20%20%20%20%20%20%20%20%20%20%20%20%0A%0A%20%20%20%20%20%20%20%20%20%20%20%20geo_json_3e7f6f8045214614a500dcabe9b01de7.bindPopup%28popup_9ba8a11d22d0416fbd009f2bf50d5a37%29%0A%20%20%20%20%20%20%20%20%20%20%20%20%3B%0A%0A%20%20%20%20%20%20%20%20%20%20%20%20%0A%20%20%20%20%20%20%20%20%0A%20%20%20%20%0A%20%20%20%20%20%20%20%20var%20geo_json_aaafecf33cb54712ba439ba0f7151f05%20%3D%20L.geoJson%28%0A%20%20%20%20%20%20%20%20%20%20%20%20%7B%22bbox%22%3A%20%5B-101.9073103%2C%2037.1968047%2C%20-101.9073103%2C%2037.1968047%5D%2C%20%22features%22%3A%20%5B%7B%22bbox%22%3A%20%5B-101.9073103%2C%2037.1968047%2C%20-101.9073103%2C%2037.1968047%5D%2C%20%22geometry%22%3A%20%7B%22coordinates%22%3A%20%5B-101.9073103%2C%2037.1968047%5D%2C%20%22type%22%3A%20%22Point%22%7D%2C%20%22id%22%3A%20%220%22%2C%20%22properties%22%3A%20%7B%22highlight%22%3A%20%7B%7D%2C%20%22style%22%3A%20%7B%22fillColor%22%3A%20%22orange%22%7D%7D%2C%20%22type%22%3A%20%22Feature%22%7D%5D%2C%20%22type%22%3A%20%22FeatureCollection%22%7D%2C%0A%20%20%20%20%20%20%20%20%20%20%20%20%7B%0A%20%20%20%20%20%20%20%20%20%20%20%20%7D%0A%20%20%20%20%20%20%20%20%29.addTo%28map_5644af8b248f420382947d8ecbbb4108%20%29%3B%0A%20%20%20%20%20%20%20%20geo_json_aaafecf33cb54712ba439ba0f7151f05.setStyle%28function%28feature%29%20%7Breturn%20feature.properties.style%3B%7D%29%3B%0A%20%20%20%20%20%20%20%20%0A%20%20%20%20%0A%20%20%20%20%20%20%20%20%20%20%20%20var%20popup_16f690ba263242209345f8ac1be6b110%20%3D%20L.popup%28%7BmaxWidth%3A%20%27100%25%27%0A%20%20%20%20%20%20%20%20%20%20%20%20%0A%20%20%20%20%20%20%20%20%20%20%20%20%7D%29%3B%0A%0A%20%20%20%20%20%20%20%20%20%20%20%20%0A%0A%20%20%20%20%20%20%20%20%20%20%20%20geo_json_aaafecf33cb54712ba439ba0f7151f05.bindPopup%28popup_16f690ba263242209345f8ac1be6b110%29%0A%20%20%20%20%20%20%20%20%20%20%20%20%3B%0A%0A%20%20%20%20%20%20%20%20%20%20%20%20%0A%20%20%20%20%20%20%20%20%0A%20%20%20%20%0A%20%20%20%20%20%20%20%20var%20geo_json_97d8af2576414b6fadb948935b31b273%20%3D%20L.geoJson%28%0A%20%20%20%20%20%20%20%20%20%20%20%20%7B%22bbox%22%3A%20%5B-100.7783483%2C%2038.3990605%2C%20-100.7783483%2C%2038.3990605%5D%2C%20%22features%22%3A%20%5B%7B%22bbox%22%3A%20%5B-100.7783483%2C%2038.3990605%2C%20-100.7783483%2C%2038.3990605%5D%2C%20%22geometry%22%3A%20%7B%22coordinates%22%3A%20%5B-100.7783483%2C%2038.3990605%5D%2C%20%22type%22%3A%20%22Point%22%7D%2C%20%22id%22%3A%20%220%22%2C%20%22properties%22%3A%20%7B%22highlight%22%3A%20%7B%7D%2C%20%22style%22%3A%20%7B%22fillColor%22%3A%20%22orange%22%7D%7D%2C%20%22type%22%3A%20%22Feature%22%7D%5D%2C%20%22type%22%3A%20%22FeatureCollection%22%7D%2C%0A%20%20%20%20%20%20%20%20%20%20%20%20%7B%0A%20%20%20%20%20%20%20%20%20%20%20%20%7D%0A%20%20%20%20%20%20%20%20%29.addTo%28map_5644af8b248f420382947d8ecbbb4108%20%29%3B%0A%20%20%20%20%20%20%20%20geo_json_97d8af2576414b6fadb948935b31b273.setStyle%28function%28feature%29%20%7Breturn%20feature.properties.style%3B%7D%29%3B%0A%20%20%20%20%20%20%20%20%0A%20%20%20%20%0A%20%20%20%20%20%20%20%20%20%20%20%20var%20popup_bb989305acad4d5288621ec4b96802f1%20%3D%20L.popup%28%7BmaxWidth%3A%20%27100%25%27%0A%20%20%20%20%20%20%20%20%20%20%20%20%0A%20%20%20%20%20%20%20%20%20%20%20%20%7D%29%3B%0A%0A%20%20%20%20%20%20%20%20%20%20%20%20%0A%0A%20%20%20%20%20%20%20%20%20%20%20%20geo_json_97d8af2576414b6fadb948935b31b273.bindPopup%28popup_bb989305acad4d5288621ec4b96802f1%29%0A%20%20%20%20%20%20%20%20%20%20%20%20%3B%0A%0A%20%20%20%20%20%20%20%20%20%20%20%20%0A%20%20%20%20%20%20%20%20%0A%20%20%20%20%0A%20%20%20%20%20%20%20%20var%20geo_json_d139b10836a5413a872b4ed5cb197490%20%3D%20L.geoJson%28%0A%20%20%20%20%20%20%20%20%20%20%20%20%7B%22bbox%22%3A%20%5B-100.0222266%2C%2039.1054374%2C%20-100.0222266%2C%2039.1054374%5D%2C%20%22features%22%3A%20%5B%7B%22bbox%22%3A%20%5B-100.0222266%2C%2039.1054374%2C%20-100.0222266%2C%2039.1054374%5D%2C%20%22geometry%22%3A%20%7B%22coordinates%22%3A%20%5B-100.0222266%2C%2039.1054374%5D%2C%20%22type%22%3A%20%22Point%22%7D%2C%20%22id%22%3A%20%220%22%2C%20%22properties%22%3A%20%7B%22highlight%22%3A%20%7B%7D%2C%20%22style%22%3A%20%7B%22fillColor%22%3A%20%22orange%22%7D%7D%2C%20%22type%22%3A%20%22Feature%22%7D%5D%2C%20%22type%22%3A%20%22FeatureCollection%22%7D%2C%0A%20%20%20%20%20%20%20%20%20%20%20%20%7B%0A%20%20%20%20%20%20%20%20%20%20%20%20%7D%0A%20%20%20%20%20%20%20%20%29.addTo%28map_5644af8b248f420382947d8ecbbb4108%20%29%3B%0A%20%20%20%20%20%20%20%20geo_json_d139b10836a5413a872b4ed5cb197490.setStyle%28function%28feature%29%20%7Breturn%20feature.properties.style%3B%7D%29%3B%0A%20%20%20%20%20%20%20%20%0A%20%20%20%20%0A%20%20%20%20%20%20%20%20%20%20%20%20var%20popup_cbc46148f0ae4a9ab1ea7a627b788eef%20%3D%20L.popup%28%7BmaxWidth%3A%20%27100%25%27%0A%20%20%20%20%20%20%20%20%20%20%20%20%0A%20%20%20%20%20%20%20%20%20%20%20%20%7D%29%3B%0A%0A%20%20%20%20%20%20%20%20%20%20%20%20%0A%0A%20%20%20%20%20%20%20%20%20%20%20%20geo_json_d139b10836a5413a872b4ed5cb197490.bindPopup%28popup_cbc46148f0ae4a9ab1ea7a627b788eef%29%0A%20%20%20%20%20%20%20%20%20%20%20%20%3B%0A%0A%20%20%20%20%20%20%20%20%20%20%20%20%0A%20%20%20%20%20%20%20%20%0A%20%20%20%20%0A%20%20%20%20%20%20%20%20var%20marker_73dc7914d2794a289223be79c164f145%20%3D%20L.marker%28%0A%20%20%20%20%20%20%20%20%20%20%20%20%5B38.2545369%2C%20-98.7141071%5D%2C%0A%20%20%20%20%20%20%20%20%20%20%20%20%7B%0A%20%20%20%20%20%20%20%20%20%20%20%20%20%20%20%20icon%3A%20new%20L.Icon.Default%28%29%2C%0A%20%20%20%20%20%20%20%20%20%20%20%20%20%20%20%20%7D%0A%20%20%20%20%20%20%20%20%20%20%20%20%29.addTo%28map_5644af8b248f420382947d8ecbbb4108%29%3B%0A%20%20%20%20%20%20%20%20%0A%20%20%20%20%0A%0A%20%20%20%20%20%20%20%20%20%20%20%20%20%20%20%20var%20icon_1471a3822fea4bf394aeae2210f9ce8f%20%3D%20L.AwesomeMarkers.icon%28%7B%0A%20%20%20%20%20%20%20%20%20%20%20%20%20%20%20%20%20%20%20%20icon%3A%20%27star%27%2C%0A%20%20%20%20%20%20%20%20%20%20%20%20%20%20%20%20%20%20%20%20iconColor%3A%20%27white%27%2C%0A%20%20%20%20%20%20%20%20%20%20%20%20%20%20%20%20%20%20%20%20markerColor%3A%20%27blue%27%2C%0A%20%20%20%20%20%20%20%20%20%20%20%20%20%20%20%20%20%20%20%20prefix%3A%20%27glyphicon%27%2C%0A%20%20%20%20%20%20%20%20%20%20%20%20%20%20%20%20%20%20%20%20extraClasses%3A%20%27fa-rotate-0%27%0A%20%20%20%20%20%20%20%20%20%20%20%20%20%20%20%20%20%20%20%20%7D%29%3B%0A%20%20%20%20%20%20%20%20%20%20%20%20%20%20%20%20marker_73dc7914d2794a289223be79c164f145.setIcon%28icon_1471a3822fea4bf394aeae2210f9ce8f%29%3B%0A%20%20%20%20%20%20%20%20%20%20%20%20%0A%20%20%20%20%0A%20%20%20%20%20%20%20%20%20%20%20%20var%20popup_4bc38118e03f4fd38ce7664b9afd6874%20%3D%20L.popup%28%7BmaxWidth%3A%20%27100%25%27%0A%20%20%20%20%20%20%20%20%20%20%20%20%0A%20%20%20%20%20%20%20%20%20%20%20%20%7D%29%3B%0A%0A%20%20%20%20%20%20%20%20%20%20%20%20%0A%20%20%20%20%20%20%20%20%20%20%20%20%20%20%20%20var%20html_3ca1a9533ff1403ebd3c71db0c0fa67a%20%3D%20%24%28%60%3Cdiv%20id%3D%22html_3ca1a9533ff1403ebd3c71db0c0fa67a%22%20style%3D%22width%3A%20100.0%25%3B%20height%3A%20100.0%25%3B%22%3EAndress%20%27B%27%201-2%2058.0933%20gamma%20API%20at%201002%20ft.%3C/div%3E%60%29%5B0%5D%3B%0A%20%20%20%20%20%20%20%20%20%20%20%20%20%20%20%20popup_4bc38118e03f4fd38ce7664b9afd6874.setContent%28html_3ca1a9533ff1403ebd3c71db0c0fa67a%29%3B%0A%20%20%20%20%20%20%20%20%20%20%20%20%0A%0A%20%20%20%20%20%20%20%20%20%20%20%20marker_73dc7914d2794a289223be79c164f145.bindPopup%28popup_4bc38118e03f4fd38ce7664b9afd6874%29%0A%20%20%20%20%20%20%20%20%20%20%20%20%3B%0A%0A%20%20%20%20%20%20%20%20%20%20%20%20%0A%20%20%20%20%20%20%20%20%0A%20%20%20%20%0A%20%20%20%20%20%20%20%20var%20marker_d5c46b31d92c4b93bd5a682ae156eeec%20%3D%20L.marker%28%0A%20%20%20%20%20%20%20%20%20%20%20%20%5B38.4591092%2C%20-100.09274%5D%2C%0A%20%20%20%20%20%20%20%20%20%20%20%20%7B%0A%20%20%20%20%20%20%20%20%20%20%20%20%20%20%20%20icon%3A%20new%20L.Icon.Default%28%29%2C%0A%20%20%20%20%20%20%20%20%20%20%20%20%20%20%20%20%7D%0A%20%20%20%20%20%20%20%20%20%20%20%20%29.addTo%28map_5644af8b248f420382947d8ecbbb4108%29%3B%0A%20%20%20%20%20%20%20%20%0A%20%20%20%20%0A%0A%20%20%20%20%20%20%20%20%20%20%20%20%20%20%20%20var%20icon_0e8da122b04643a59c5bb09cab881c00%20%3D%20L.AwesomeMarkers.icon%28%7B%0A%20%20%20%20%20%20%20%20%20%20%20%20%20%20%20%20%20%20%20%20icon%3A%20%27star%27%2C%0A%20%20%20%20%20%20%20%20%20%20%20%20%20%20%20%20%20%20%20%20iconColor%3A%20%27white%27%2C%0A%20%20%20%20%20%20%20%20%20%20%20%20%20%20%20%20%20%20%20%20markerColor%3A%20%27blue%27%2C%0A%20%20%20%20%20%20%20%20%20%20%20%20%20%20%20%20%20%20%20%20prefix%3A%20%27glyphicon%27%2C%0A%20%20%20%20%20%20%20%20%20%20%20%20%20%20%20%20%20%20%20%20extraClasses%3A%20%27fa-rotate-0%27%0A%20%20%20%20%20%20%20%20%20%20%20%20%20%20%20%20%20%20%20%20%7D%29%3B%0A%20%20%20%20%20%20%20%20%20%20%20%20%20%20%20%20marker_d5c46b31d92c4b93bd5a682ae156eeec.setIcon%28icon_0e8da122b04643a59c5bb09cab881c00%29%3B%0A%20%20%20%20%20%20%20%20%20%20%20%20%0A%20%20%20%20%0A%20%20%20%20%20%20%20%20%20%20%20%20var%20popup_33c3838d5a3d4d93b9e242436c59d2f1%20%3D%20L.popup%28%7BmaxWidth%3A%20%27100%25%27%0A%20%20%20%20%20%20%20%20%20%20%20%20%0A%20%20%20%20%20%20%20%20%20%20%20%20%7D%29%3B%0A%0A%20%20%20%20%20%20%20%20%20%20%20%20%0A%20%20%20%20%20%20%20%20%20%20%20%20%20%20%20%20var%20html_4d34825e56214961b4bf3e94a4e0ef83%20%3D%20%24%28%60%3Cdiv%20id%3D%22html_4d34825e56214961b4bf3e94a4e0ef83%22%20style%3D%22width%3A%20100.0%25%3B%20height%3A%20100.0%25%3B%22%3EBetty-Marilyn%201%2078.051%20gamma%20API%20at%201002%20ft.%3C/div%3E%60%29%5B0%5D%3B%0A%20%20%20%20%20%20%20%20%20%20%20%20%20%20%20%20popup_33c3838d5a3d4d93b9e242436c59d2f1.setContent%28html_4d34825e56214961b4bf3e94a4e0ef83%29%3B%0A%20%20%20%20%20%20%20%20%20%20%20%20%0A%0A%20%20%20%20%20%20%20%20%20%20%20%20marker_d5c46b31d92c4b93bd5a682ae156eeec.bindPopup%28popup_33c3838d5a3d4d93b9e242436c59d2f1%29%0A%20%20%20%20%20%20%20%20%20%20%20%20%3B%0A%0A%20%20%20%20%20%20%20%20%20%20%20%20%0A%20%20%20%20%20%20%20%20%0A%20%20%20%20%0A%20%20%20%20%20%20%20%20var%20marker_2d02022e344444d4a8ec120af8dbb259%20%3D%20L.marker%28%0A%20%20%20%20%20%20%20%20%20%20%20%20%5B38.5154462%2C%20-100.1421844%5D%2C%0A%20%20%20%20%20%20%20%20%20%20%20%20%7B%0A%20%20%20%20%20%20%20%20%20%20%20%20%20%20%20%20icon%3A%20new%20L.Icon.Default%28%29%2C%0A%20%20%20%20%20%20%20%20%20%20%20%20%20%20%20%20%7D%0A%20%20%20%20%20%20%20%20%20%20%20%20%29.addTo%28map_5644af8b248f420382947d8ecbbb4108%29%3B%0A%20%20%20%20%20%20%20%20%0A%20%20%20%20%0A%0A%20%20%20%20%20%20%20%20%20%20%20%20%20%20%20%20var%20icon_93b64deb16d54cb3a0e701f1c43a43ee%20%3D%20L.AwesomeMarkers.icon%28%7B%0A%20%20%20%20%20%20%20%20%20%20%20%20%20%20%20%20%20%20%20%20icon%3A%20%27star%27%2C%0A%20%20%20%20%20%20%20%20%20%20%20%20%20%20%20%20%20%20%20%20iconColor%3A%20%27white%27%2C%0A%20%20%20%20%20%20%20%20%20%20%20%20%20%20%20%20%20%20%20%20markerColor%3A%20%27blue%27%2C%0A%20%20%20%20%20%20%20%20%20%20%20%20%20%20%20%20%20%20%20%20prefix%3A%20%27glyphicon%27%2C%0A%20%20%20%20%20%20%20%20%20%20%20%20%20%20%20%20%20%20%20%20extraClasses%3A%20%27fa-rotate-0%27%0A%20%20%20%20%20%20%20%20%20%20%20%20%20%20%20%20%20%20%20%20%7D%29%3B%0A%20%20%20%20%20%20%20%20%20%20%20%20%20%20%20%20marker_2d02022e344444d4a8ec120af8dbb259.setIcon%28icon_93b64deb16d54cb3a0e701f1c43a43ee%29%3B%0A%20%20%20%20%20%20%20%20%20%20%20%20%0A%20%20%20%20%0A%20%20%20%20%20%20%20%20%20%20%20%20var%20popup_8902922ddec749c0a32a35cfd051a4a8%20%3D%20L.popup%28%7BmaxWidth%3A%20%27100%25%27%0A%20%20%20%20%20%20%20%20%20%20%20%20%0A%20%20%20%20%20%20%20%20%20%20%20%20%7D%29%3B%0A%0A%20%20%20%20%20%20%20%20%20%20%20%20%0A%20%20%20%20%20%20%20%20%20%20%20%20%20%20%20%20var%20html_5726ccb6da764ae6aa2fff0adbb22764%20%3D%20%24%28%60%3Cdiv%20id%3D%22html_5726ccb6da764ae6aa2fff0adbb22764%22%20style%3D%22width%3A%20100.0%25%3B%20height%3A%20100.0%25%3B%22%3EKU-Dinges%201%2042.0071%20gamma%20API%20at%201002%20ft.%3C/div%3E%60%29%5B0%5D%3B%0A%20%20%20%20%20%20%20%20%20%20%20%20%20%20%20%20popup_8902922ddec749c0a32a35cfd051a4a8.setContent%28html_5726ccb6da764ae6aa2fff0adbb22764%29%3B%0A%20%20%20%20%20%20%20%20%20%20%20%20%0A%0A%20%20%20%20%20%20%20%20%20%20%20%20marker_2d02022e344444d4a8ec120af8dbb259.bindPopup%28popup_8902922ddec749c0a32a35cfd051a4a8%29%0A%20%20%20%20%20%20%20%20%20%20%20%20%3B%0A%0A%20%20%20%20%20%20%20%20%20%20%20%20%0A%20%20%20%20%20%20%20%20%0A%20%20%20%20%0A%20%20%20%20%20%20%20%20var%20marker_b8f1babf027a44c5b2f19ff22607d94b%20%3D%20L.marker%28%0A%20%20%20%20%20%20%20%20%20%20%20%20%5B39.2020352%2C%20-100.2534487%5D%2C%0A%20%20%20%20%20%20%20%20%20%20%20%20%7B%0A%20%20%20%20%20%20%20%20%20%20%20%20%20%20%20%20icon%3A%20new%20L.Icon.Default%28%29%2C%0A%20%20%20%20%20%20%20%20%20%20%20%20%20%20%20%20%7D%0A%20%20%20%20%20%20%20%20%20%20%20%20%29.addTo%28map_5644af8b248f420382947d8ecbbb4108%29%3B%0A%20%20%20%20%20%20%20%20%0A%20%20%20%20%0A%0A%20%20%20%20%20%20%20%20%20%20%20%20%20%20%20%20var%20icon_1da497bd7c434c2dbf127b4fab2dbe3d%20%3D%20L.AwesomeMarkers.icon%28%7B%0A%20%20%20%20%20%20%20%20%20%20%20%20%20%20%20%20%20%20%20%20icon%3A%20%27star%27%2C%0A%20%20%20%20%20%20%20%20%20%20%20%20%20%20%20%20%20%20%20%20iconColor%3A%20%27white%27%2C%0A%20%20%20%20%20%20%20%20%20%20%20%20%20%20%20%20%20%20%20%20markerColor%3A%20%27blue%27%2C%0A%20%20%20%20%20%20%20%20%20%20%20%20%20%20%20%20%20%20%20%20prefix%3A%20%27glyphicon%27%2C%0A%20%20%20%20%20%20%20%20%20%20%20%20%20%20%20%20%20%20%20%20extraClasses%3A%20%27fa-rotate-0%27%0A%20%20%20%20%20%20%20%20%20%20%20%20%20%20%20%20%20%20%20%20%7D%29%3B%0A%20%20%20%20%20%20%20%20%20%20%20%20%20%20%20%20marker_b8f1babf027a44c5b2f19ff22607d94b.setIcon%28icon_1da497bd7c434c2dbf127b4fab2dbe3d%29%3B%0A%20%20%20%20%20%20%20%20%20%20%20%20%0A%20%20%20%20%0A%20%20%20%20%20%20%20%20%20%20%20%20var%20popup_bf94bbd328f14b7ca8952dc48232f6af%20%3D%20L.popup%28%7BmaxWidth%3A%20%27100%25%27%0A%20%20%20%20%20%20%20%20%20%20%20%20%0A%20%20%20%20%20%20%20%20%20%20%20%20%7D%29%3B%0A%0A%20%20%20%20%20%20%20%20%20%20%20%20%0A%20%20%20%20%20%20%20%20%20%20%20%20%20%20%20%20var%20html_6248a436ed20413b8d1336e69f758eca%20%3D%20%24%28%60%3Cdiv%20id%3D%22html_6248a436ed20413b8d1336e69f758eca%22%20style%3D%22width%3A%20100.0%25%3B%20height%3A%20100.0%25%3B%22%3ECoburn%204-8%20121.3674%20gamma%20API%20at%201002%20ft.%3C/div%3E%60%29%5B0%5D%3B%0A%20%20%20%20%20%20%20%20%20%20%20%20%20%20%20%20popup_bf94bbd328f14b7ca8952dc48232f6af.setContent%28html_6248a436ed20413b8d1336e69f758eca%29%3B%0A%20%20%20%20%20%20%20%20%20%20%20%20%0A%0A%20%20%20%20%20%20%20%20%20%20%20%20marker_b8f1babf027a44c5b2f19ff22607d94b.bindPopup%28popup_bf94bbd328f14b7ca8952dc48232f6af%29%0A%20%20%20%20%20%20%20%20%20%20%20%20%3B%0A%0A%20%20%20%20%20%20%20%20%20%20%20%20%0A%20%20%20%20%20%20%20%20%0A%20%20%20%20%0A%20%20%20%20%20%20%20%20var%20marker_a3e770a8fe224ae89b6cc8f7eeeaa53a%20%3D%20L.marker%28%0A%20%20%20%20%20%20%20%20%20%20%20%20%5B38.3215841%2C%20-99.6510522%5D%2C%0A%20%20%20%20%20%20%20%20%20%20%20%20%7B%0A%20%20%20%20%20%20%20%20%20%20%20%20%20%20%20%20icon%3A%20new%20L.Icon.Default%28%29%2C%0A%20%20%20%20%20%20%20%20%20%20%20%20%20%20%20%20%7D%0A%20%20%20%20%20%20%20%20%20%20%20%20%29.addTo%28map_5644af8b248f420382947d8ecbbb4108%29%3B%0A%20%20%20%20%20%20%20%20%0A%20%20%20%20%0A%0A%20%20%20%20%20%20%20%20%20%20%20%20%20%20%20%20var%20icon_cf9708310017427986e7f87e00e21245%20%3D%20L.AwesomeMarkers.icon%28%7B%0A%20%20%20%20%20%20%20%20%20%20%20%20%20%20%20%20%20%20%20%20icon%3A%20%27star%27%2C%0A%20%20%20%20%20%20%20%20%20%20%20%20%20%20%20%20%20%20%20%20iconColor%3A%20%27white%27%2C%0A%20%20%20%20%20%20%20%20%20%20%20%20%20%20%20%20%20%20%20%20markerColor%3A%20%27blue%27%2C%0A%20%20%20%20%20%20%20%20%20%20%20%20%20%20%20%20%20%20%20%20prefix%3A%20%27glyphicon%27%2C%0A%20%20%20%20%20%20%20%20%20%20%20%20%20%20%20%20%20%20%20%20extraClasses%3A%20%27fa-rotate-0%27%0A%20%20%20%20%20%20%20%20%20%20%20%20%20%20%20%20%20%20%20%20%7D%29%3B%0A%20%20%20%20%20%20%20%20%20%20%20%20%20%20%20%20marker_a3e770a8fe224ae89b6cc8f7eeeaa53a.setIcon%28icon_cf9708310017427986e7f87e00e21245%29%3B%0A%20%20%20%20%20%20%20%20%20%20%20%20%0A%20%20%20%20%0A%20%20%20%20%20%20%20%20%20%20%20%20var%20popup_a5abed7cc54246f89f193f3c8ec59726%20%3D%20L.popup%28%7BmaxWidth%3A%20%27100%25%27%0A%20%20%20%20%20%20%20%20%20%20%20%20%0A%20%20%20%20%20%20%20%20%20%20%20%20%7D%29%3B%0A%0A%20%20%20%20%20%20%20%20%20%20%20%20%0A%20%20%20%20%20%20%20%20%20%20%20%20%20%20%20%20var%20html_60d55d82a86947a9b0914f8c3e33562a%20%3D%20%24%28%60%3Cdiv%20id%3D%22html_60d55d82a86947a9b0914f8c3e33562a%22%20style%3D%22width%3A%20100.0%25%3B%20height%3A%20100.0%25%3B%22%3ELinn%201-9%2029.3743%20gamma%20API%20at%201002%20ft.%3C/div%3E%60%29%5B0%5D%3B%0A%20%20%20%20%20%20%20%20%20%20%20%20%20%20%20%20popup_a5abed7cc54246f89f193f3c8ec59726.setContent%28html_60d55d82a86947a9b0914f8c3e33562a%29%3B%0A%20%20%20%20%20%20%20%20%20%20%20%20%0A%0A%20%20%20%20%20%20%20%20%20%20%20%20marker_a3e770a8fe224ae89b6cc8f7eeeaa53a.bindPopup%28popup_a5abed7cc54246f89f193f3c8ec59726%29%0A%20%20%20%20%20%20%20%20%20%20%20%20%3B%0A%0A%20%20%20%20%20%20%20%20%20%20%20%20%0A%20%20%20%20%20%20%20%20%0A%20%20%20%20%0A%20%20%20%20%20%20%20%20var%20marker_255c7e877f094dccbf7ddc259ddaa151%20%3D%20L.marker%28%0A%20%20%20%20%20%20%20%20%20%20%20%20%5B38.6514351%2C%20-98.6787026%5D%2C%0A%20%20%20%20%20%20%20%20%20%20%20%20%7B%0A%20%20%20%20%20%20%20%20%20%20%20%20%20%20%20%20icon%3A%20new%20L.Icon.Default%28%29%2C%0A%20%20%20%20%20%20%20%20%20%20%20%20%20%20%20%20%7D%0A%20%20%20%20%20%20%20%20%20%20%20%20%29.addTo%28map_5644af8b248f420382947d8ecbbb4108%29%3B%0A%20%20%20%20%20%20%20%20%0A%20%20%20%20%0A%0A%20%20%20%20%20%20%20%20%20%20%20%20%20%20%20%20var%20icon_8663506719014aadaaa7644c8760f029%20%3D%20L.AwesomeMarkers.icon%28%7B%0A%20%20%20%20%20%20%20%20%20%20%20%20%20%20%20%20%20%20%20%20icon%3A%20%27star%27%2C%0A%20%20%20%20%20%20%20%20%20%20%20%20%20%20%20%20%20%20%20%20iconColor%3A%20%27white%27%2C%0A%20%20%20%20%20%20%20%20%20%20%20%20%20%20%20%20%20%20%20%20markerColor%3A%20%27blue%27%2C%0A%20%20%20%20%20%20%20%20%20%20%20%20%20%20%20%20%20%20%20%20prefix%3A%20%27glyphicon%27%2C%0A%20%20%20%20%20%20%20%20%20%20%20%20%20%20%20%20%20%20%20%20extraClasses%3A%20%27fa-rotate-0%27%0A%20%20%20%20%20%20%20%20%20%20%20%20%20%20%20%20%20%20%20%20%7D%29%3B%0A%20%20%20%20%20%20%20%20%20%20%20%20%20%20%20%20marker_255c7e877f094dccbf7ddc259ddaa151.setIcon%28icon_8663506719014aadaaa7644c8760f029%29%3B%0A%20%20%20%20%20%20%20%20%20%20%20%20%0A%20%20%20%20%0A%20%20%20%20%20%20%20%20%20%20%20%20var%20popup_c93288391c1f4deaacd6864045f8c61b%20%3D%20L.popup%28%7BmaxWidth%3A%20%27100%25%27%0A%20%20%20%20%20%20%20%20%20%20%20%20%0A%20%20%20%20%20%20%20%20%20%20%20%20%7D%29%3B%0A%0A%20%20%20%20%20%20%20%20%20%20%20%20%0A%20%20%20%20%20%20%20%20%20%20%20%20%20%20%20%20var%20html_cf042ad6e0024625bb22a7c966d86e7e%20%3D%20%24%28%60%3Cdiv%20id%3D%22html_cf042ad6e0024625bb22a7c966d86e7e%22%20style%3D%22width%3A%20100.0%25%3B%20height%3A%20100.0%25%3B%22%3EStaudinger%203%2089.4185%20gamma%20API%20at%201002%20ft.%3C/div%3E%60%29%5B0%5D%3B%0A%20%20%20%20%20%20%20%20%20%20%20%20%20%20%20%20popup_c93288391c1f4deaacd6864045f8c61b.setContent%28html_cf042ad6e0024625bb22a7c966d86e7e%29%3B%0A%20%20%20%20%20%20%20%20%20%20%20%20%0A%0A%20%20%20%20%20%20%20%20%20%20%20%20marker_255c7e877f094dccbf7ddc259ddaa151.bindPopup%28popup_c93288391c1f4deaacd6864045f8c61b%29%0A%20%20%20%20%20%20%20%20%20%20%20%20%3B%0A%0A%20%20%20%20%20%20%20%20%20%20%20%20%0A%20%20%20%20%20%20%20%20%0A%20%20%20%20%0A%20%20%20%20%20%20%20%20var%20marker_2226c0ad70154b09ba619eb4b1ce8368%20%3D%20L.marker%28%0A%20%20%20%20%20%20%20%20%20%20%20%20%5B38.9522979%2C%20-100.7708079%5D%2C%0A%20%20%20%20%20%20%20%20%20%20%20%20%7B%0A%20%20%20%20%20%20%20%20%20%20%20%20%20%20%20%20icon%3A%20new%20L.Icon.Default%28%29%2C%0A%20%20%20%20%20%20%20%20%20%20%20%20%20%20%20%20%7D%0A%20%20%20%20%20%20%20%20%20%20%20%20%29.addTo%28map_5644af8b248f420382947d8ecbbb4108%29%3B%0A%20%20%20%20%20%20%20%20%0A%20%20%20%20%0A%0A%20%20%20%20%20%20%20%20%20%20%20%20%20%20%20%20var%20icon_ac15a4a434da459aa0f480df2e0ff00d%20%3D%20L.AwesomeMarkers.icon%28%7B%0A%20%20%20%20%20%20%20%20%20%20%20%20%20%20%20%20%20%20%20%20icon%3A%20%27star%27%2C%0A%20%20%20%20%20%20%20%20%20%20%20%20%20%20%20%20%20%20%20%20iconColor%3A%20%27white%27%2C%0A%20%20%20%20%20%20%20%20%20%20%20%20%20%20%20%20%20%20%20%20markerColor%3A%20%27blue%27%2C%0A%20%20%20%20%20%20%20%20%20%20%20%20%20%20%20%20%20%20%20%20prefix%3A%20%27glyphicon%27%2C%0A%20%20%20%20%20%20%20%20%20%20%20%20%20%20%20%20%20%20%20%20extraClasses%3A%20%27fa-rotate-0%27%0A%20%20%20%20%20%20%20%20%20%20%20%20%20%20%20%20%20%20%20%20%7D%29%3B%0A%20%20%20%20%20%20%20%20%20%20%20%20%20%20%20%20marker_2226c0ad70154b09ba619eb4b1ce8368.setIcon%28icon_ac15a4a434da459aa0f480df2e0ff00d%29%3B%0A%20%20%20%20%20%20%20%20%20%20%20%20%0A%20%20%20%20%0A%20%20%20%20%20%20%20%20%20%20%20%20var%20popup_da66e0024df546049d11388ccd5a73b4%20%3D%20L.popup%28%7BmaxWidth%3A%20%27100%25%27%0A%20%20%20%20%20%20%20%20%20%20%20%20%0A%20%20%20%20%20%20%20%20%20%20%20%20%7D%29%3B%0A%0A%20%20%20%20%20%20%20%20%20%20%20%20%0A%20%20%20%20%20%20%20%20%20%20%20%20%20%20%20%20var%20html_4501520b5b1648f9ba07ec4cfb6684b9%20%3D%20%24%28%60%3Cdiv%20id%3D%22html_4501520b5b1648f9ba07ec4cfb6684b9%22%20style%3D%22width%3A%20100.0%25%3B%20height%3A%20100.0%25%3B%22%3EParsons%20%27B%27%201-4%20140.2271%20gamma%20API%20at%201002%20ft.%3C/div%3E%60%29%5B0%5D%3B%0A%20%20%20%20%20%20%20%20%20%20%20%20%20%20%20%20popup_da66e0024df546049d11388ccd5a73b4.setContent%28html_4501520b5b1648f9ba07ec4cfb6684b9%29%3B%0A%20%20%20%20%20%20%20%20%20%20%20%20%0A%0A%20%20%20%20%20%20%20%20%20%20%20%20marker_2226c0ad70154b09ba619eb4b1ce8368.bindPopup%28popup_da66e0024df546049d11388ccd5a73b4%29%0A%20%20%20%20%20%20%20%20%20%20%20%20%3B%0A%0A%20%20%20%20%20%20%20%20%20%20%20%20%0A%20%20%20%20%20%20%20%20%0A%20%20%20%20%0A%20%20%20%20%20%20%20%20var%20marker_68bad4428b05435b9668be12e86f02af%20%3D%20L.marker%28%0A%20%20%20%20%20%20%20%20%20%20%20%20%5B38.8993406%2C%20-100.9237988%5D%2C%0A%20%20%20%20%20%20%20%20%20%20%20%20%7B%0A%20%20%20%20%20%20%20%20%20%20%20%20%20%20%20%20icon%3A%20new%20L.Icon.Default%28%29%2C%0A%20%20%20%20%20%20%20%20%20%20%20%20%20%20%20%20%7D%0A%20%20%20%20%20%20%20%20%20%20%20%20%29.addTo%28map_5644af8b248f420382947d8ecbbb4108%29%3B%0A%20%20%20%20%20%20%20%20%0A%20%20%20%20%0A%0A%20%20%20%20%20%20%20%20%20%20%20%20%20%20%20%20var%20icon_7cdfdab32e944383a26308c910be623b%20%3D%20L.AwesomeMarkers.icon%28%7B%0A%20%20%20%20%20%20%20%20%20%20%20%20%20%20%20%20%20%20%20%20icon%3A%20%27star%27%2C%0A%20%20%20%20%20%20%20%20%20%20%20%20%20%20%20%20%20%20%20%20iconColor%3A%20%27white%27%2C%0A%20%20%20%20%20%20%20%20%20%20%20%20%20%20%20%20%20%20%20%20markerColor%3A%20%27blue%27%2C%0A%20%20%20%20%20%20%20%20%20%20%20%20%20%20%20%20%20%20%20%20prefix%3A%20%27glyphicon%27%2C%0A%20%20%20%20%20%20%20%20%20%20%20%20%20%20%20%20%20%20%20%20extraClasses%3A%20%27fa-rotate-0%27%0A%20%20%20%20%20%20%20%20%20%20%20%20%20%20%20%20%20%20%20%20%7D%29%3B%0A%20%20%20%20%20%20%20%20%20%20%20%20%20%20%20%20marker_68bad4428b05435b9668be12e86f02af.setIcon%28icon_7cdfdab32e944383a26308c910be623b%29%3B%0A%20%20%20%20%20%20%20%20%20%20%20%20%0A%20%20%20%20%0A%20%20%20%20%20%20%20%20%20%20%20%20var%20popup_8993ce2c33154b33ab3f08d151a91323%20%3D%20L.popup%28%7BmaxWidth%3A%20%27100%25%27%0A%20%20%20%20%20%20%20%20%20%20%20%20%0A%20%20%20%20%20%20%20%20%20%20%20%20%7D%29%3B%0A%0A%20%20%20%20%20%20%20%20%20%20%20%20%0A%20%20%20%20%20%20%20%20%20%20%20%20%20%20%20%20var%20html_10e94abc06784a648d22ace424f84ff3%20%3D%20%24%28%60%3Cdiv%20id%3D%22html_10e94abc06784a648d22ace424f84ff3%22%20style%3D%22width%3A%20100.0%25%3B%20height%3A%20100.0%25%3B%22%3EDavid%201%2096.8745%20gamma%20API%20at%201002%20ft.%3C/div%3E%60%29%5B0%5D%3B%0A%20%20%20%20%20%20%20%20%20%20%20%20%20%20%20%20popup_8993ce2c33154b33ab3f08d151a91323.setContent%28html_10e94abc06784a648d22ace424f84ff3%29%3B%0A%20%20%20%20%20%20%20%20%20%20%20%20%0A%0A%20%20%20%20%20%20%20%20%20%20%20%20marker_68bad4428b05435b9668be12e86f02af.bindPopup%28popup_8993ce2c33154b33ab3f08d151a91323%29%0A%20%20%20%20%20%20%20%20%20%20%20%20%3B%0A%0A%20%20%20%20%20%20%20%20%20%20%20%20%0A%20%20%20%20%20%20%20%20%0A%20%20%20%20%0A%20%20%20%20%20%20%20%20var%20marker_de6d6c534cb94c3a882aed6ba2ef4459%20%3D%20L.marker%28%0A%20%20%20%20%20%20%20%20%20%20%20%20%5B38.9554708%2C%20-100.8199877%5D%2C%0A%20%20%20%20%20%20%20%20%20%20%20%20%7B%0A%20%20%20%20%20%20%20%20%20%20%20%20%20%20%20%20icon%3A%20new%20L.Icon.Default%28%29%2C%0A%20%20%20%20%20%20%20%20%20%20%20%20%20%20%20%20%7D%0A%20%20%20%20%20%20%20%20%20%20%20%20%29.addTo%28map_5644af8b248f420382947d8ecbbb4108%29%3B%0A%20%20%20%20%20%20%20%20%0A%20%20%20%20%0A%0A%20%20%20%20%20%20%20%20%20%20%20%20%20%20%20%20var%20icon_054182d062d14370b9ba7820334c78a0%20%3D%20L.AwesomeMarkers.icon%28%7B%0A%20%20%20%20%20%20%20%20%20%20%20%20%20%20%20%20%20%20%20%20icon%3A%20%27star%27%2C%0A%20%20%20%20%20%20%20%20%20%20%20%20%20%20%20%20%20%20%20%20iconColor%3A%20%27white%27%2C%0A%20%20%20%20%20%20%20%20%20%20%20%20%20%20%20%20%20%20%20%20markerColor%3A%20%27blue%27%2C%0A%20%20%20%20%20%20%20%20%20%20%20%20%20%20%20%20%20%20%20%20prefix%3A%20%27glyphicon%27%2C%0A%20%20%20%20%20%20%20%20%20%20%20%20%20%20%20%20%20%20%20%20extraClasses%3A%20%27fa-rotate-0%27%0A%20%20%20%20%20%20%20%20%20%20%20%20%20%20%20%20%20%20%20%20%7D%29%3B%0A%20%20%20%20%20%20%20%20%20%20%20%20%20%20%20%20marker_de6d6c534cb94c3a882aed6ba2ef4459.setIcon%28icon_054182d062d14370b9ba7820334c78a0%29%3B%0A%20%20%20%20%20%20%20%20%20%20%20%20%0A%20%20%20%20%0A%20%20%20%20%20%20%20%20%20%20%20%20var%20popup_a56795b118a24898a69bc11548e5ab05%20%3D%20L.popup%28%7BmaxWidth%3A%20%27100%25%27%0A%20%20%20%20%20%20%20%20%20%20%20%20%0A%20%20%20%20%20%20%20%20%20%20%20%20%7D%29%3B%0A%0A%20%20%20%20%20%20%20%20%20%20%20%20%0A%20%20%20%20%20%20%20%20%20%20%20%20%20%20%20%20var%20html_c9d69793c5554b5ea38c401a952f24d0%20%3D%20%24%28%60%3Cdiv%20id%3D%22html_c9d69793c5554b5ea38c401a952f24d0%22%20style%3D%22width%3A%20100.0%25%3B%20height%3A%20100.0%25%3B%22%3ECook%20Trust%202-1%2099.4723%20gamma%20API%20at%201002%20ft.%3C/div%3E%60%29%5B0%5D%3B%0A%20%20%20%20%20%20%20%20%20%20%20%20%20%20%20%20popup_a56795b118a24898a69bc11548e5ab05.setContent%28html_c9d69793c5554b5ea38c401a952f24d0%29%3B%0A%20%20%20%20%20%20%20%20%20%20%20%20%0A%0A%20%20%20%20%20%20%20%20%20%20%20%20marker_de6d6c534cb94c3a882aed6ba2ef4459.bindPopup%28popup_a56795b118a24898a69bc11548e5ab05%29%0A%20%20%20%20%20%20%20%20%20%20%20%20%3B%0A%0A%20%20%20%20%20%20%20%20%20%20%20%20%0A%20%20%20%20%20%20%20%20%0A%20%20%20%20%0A%20%20%20%20%20%20%20%20var%20marker_f6da5bff801245189034f3d380ef0506%20%3D%20L.marker%28%0A%20%20%20%20%20%20%20%20%20%20%20%20%5B38.2380783%2C%20-95.9385689%5D%2C%0A%20%20%20%20%20%20%20%20%20%20%20%20%7B%0A%20%20%20%20%20%20%20%20%20%20%20%20%20%20%20%20icon%3A%20new%20L.Icon.Default%28%29%2C%0A%20%20%20%20%20%20%20%20%20%20%20%20%20%20%20%20%7D%0A%20%20%20%20%20%20%20%20%20%20%20%20%29.addTo%28map_5644af8b248f420382947d8ecbbb4108%29%3B%0A%20%20%20%20%20%20%20%20%0A%20%20%20%20%0A%0A%20%20%20%20%20%20%20%20%20%20%20%20%20%20%20%20var%20icon_6b943795914846bfa2cd870148ec01c0%20%3D%20L.AwesomeMarkers.icon%28%7B%0A%20%20%20%20%20%20%20%20%20%20%20%20%20%20%20%20%20%20%20%20icon%3A%20%27star%27%2C%0A%20%20%20%20%20%20%20%20%20%20%20%20%20%20%20%20%20%20%20%20iconColor%3A%20%27white%27%2C%0A%20%20%20%20%20%20%20%20%20%20%20%20%20%20%20%20%20%20%20%20markerColor%3A%20%27blue%27%2C%0A%20%20%20%20%20%20%20%20%20%20%20%20%20%20%20%20%20%20%20%20prefix%3A%20%27glyphicon%27%2C%0A%20%20%20%20%20%20%20%20%20%20%20%20%20%20%20%20%20%20%20%20extraClasses%3A%20%27fa-rotate-0%27%0A%20%20%20%20%20%20%20%20%20%20%20%20%20%20%20%20%20%20%20%20%7D%29%3B%0A%20%20%20%20%20%20%20%20%20%20%20%20%20%20%20%20marker_f6da5bff801245189034f3d380ef0506.setIcon%28icon_6b943795914846bfa2cd870148ec01c0%29%3B%0A%20%20%20%20%20%20%20%20%20%20%20%20%0A%20%20%20%20%0A%20%20%20%20%20%20%20%20%20%20%20%20var%20popup_572d86efd8004705abe2529975764dd9%20%3D%20L.popup%28%7BmaxWidth%3A%20%27100%25%27%0A%20%20%20%20%20%20%20%20%20%20%20%20%0A%20%20%20%20%20%20%20%20%20%20%20%20%7D%29%3B%0A%0A%20%20%20%20%20%20%20%20%20%20%20%20%0A%20%20%20%20%20%20%20%20%20%20%20%20%20%20%20%20var%20html_cdc0bfc280c04bb3ba80b27beeaea238%20%3D%20%24%28%60%3Cdiv%20id%3D%22html_cdc0bfc280c04bb3ba80b27beeaea238%22%20style%3D%22width%3A%20100.0%25%3B%20height%3A%20100.0%25%3B%22%3EHodges%204%2036.5220000000001%20gamma%20API%20at%201002%20ft.%3C/div%3E%60%29%5B0%5D%3B%0A%20%20%20%20%20%20%20%20%20%20%20%20%20%20%20%20popup_572d86efd8004705abe2529975764dd9.setContent%28html_cdc0bfc280c04bb3ba80b27beeaea238%29%3B%0A%20%20%20%20%20%20%20%20%20%20%20%20%0A%0A%20%20%20%20%20%20%20%20%20%20%20%20marker_f6da5bff801245189034f3d380ef0506.bindPopup%28popup_572d86efd8004705abe2529975764dd9%29%0A%20%20%20%20%20%20%20%20%20%20%20%20%3B%0A%0A%20%20%20%20%20%20%20%20%20%20%20%20%0A%20%20%20%20%20%20%20%20%0A%20%20%20%20%0A%20%20%20%20%20%20%20%20var%20marker_aaad5097e5bd4cfeb6e54e8dcf132d0c%20%3D%20L.marker%28%0A%20%20%20%20%20%20%20%20%20%20%20%20%5B38.9586294%2C%20-100.8127723%5D%2C%0A%20%20%20%20%20%20%20%20%20%20%20%20%7B%0A%20%20%20%20%20%20%20%20%20%20%20%20%20%20%20%20icon%3A%20new%20L.Icon.Default%28%29%2C%0A%20%20%20%20%20%20%20%20%20%20%20%20%20%20%20%20%7D%0A%20%20%20%20%20%20%20%20%20%20%20%20%29.addTo%28map_5644af8b248f420382947d8ecbbb4108%29%3B%0A%20%20%20%20%20%20%20%20%0A%20%20%20%20%0A%0A%20%20%20%20%20%20%20%20%20%20%20%20%20%20%20%20var%20icon_88e93f9cc4c747e9b83e678743e602d3%20%3D%20L.AwesomeMarkers.icon%28%7B%0A%20%20%20%20%20%20%20%20%20%20%20%20%20%20%20%20%20%20%20%20icon%3A%20%27star%27%2C%0A%20%20%20%20%20%20%20%20%20%20%20%20%20%20%20%20%20%20%20%20iconColor%3A%20%27white%27%2C%0A%20%20%20%20%20%20%20%20%20%20%20%20%20%20%20%20%20%20%20%20markerColor%3A%20%27blue%27%2C%0A%20%20%20%20%20%20%20%20%20%20%20%20%20%20%20%20%20%20%20%20prefix%3A%20%27glyphicon%27%2C%0A%20%20%20%20%20%20%20%20%20%20%20%20%20%20%20%20%20%20%20%20extraClasses%3A%20%27fa-rotate-0%27%0A%20%20%20%20%20%20%20%20%20%20%20%20%20%20%20%20%20%20%20%20%7D%29%3B%0A%20%20%20%20%20%20%20%20%20%20%20%20%20%20%20%20marker_aaad5097e5bd4cfeb6e54e8dcf132d0c.setIcon%28icon_88e93f9cc4c747e9b83e678743e602d3%29%3B%0A%20%20%20%20%20%20%20%20%20%20%20%20%0A%20%20%20%20%0A%20%20%20%20%20%20%20%20%20%20%20%20var%20popup_936b28e1cd05438ab6fba111cc426bd8%20%3D%20L.popup%28%7BmaxWidth%3A%20%27100%25%27%0A%20%20%20%20%20%20%20%20%20%20%20%20%0A%20%20%20%20%20%20%20%20%20%20%20%20%7D%29%3B%0A%0A%20%20%20%20%20%20%20%20%20%20%20%20%0A%20%20%20%20%20%20%20%20%20%20%20%20%20%20%20%20var%20html_75db0064889a4383be666701abfad812%20%3D%20%24%28%60%3Cdiv%20id%3D%22html_75db0064889a4383be666701abfad812%22%20style%3D%22width%3A%20100.0%25%3B%20height%3A%20100.0%25%3B%22%3EHullet%20%27A%27%201-6%2093.6178%20gamma%20API%20at%201002%20ft.%3C/div%3E%60%29%5B0%5D%3B%0A%20%20%20%20%20%20%20%20%20%20%20%20%20%20%20%20popup_936b28e1cd05438ab6fba111cc426bd8.setContent%28html_75db0064889a4383be666701abfad812%29%3B%0A%20%20%20%20%20%20%20%20%20%20%20%20%0A%0A%20%20%20%20%20%20%20%20%20%20%20%20marker_aaad5097e5bd4cfeb6e54e8dcf132d0c.bindPopup%28popup_936b28e1cd05438ab6fba111cc426bd8%29%0A%20%20%20%20%20%20%20%20%20%20%20%20%3B%0A%0A%20%20%20%20%20%20%20%20%20%20%20%20%0A%20%20%20%20%20%20%20%20%0A%20%20%20%20%0A%20%20%20%20%20%20%20%20var%20marker_4b3cfd00fe954d9aa9191fc3908a5340%20%3D%20L.marker%28%0A%20%20%20%20%20%20%20%20%20%20%20%20%5B38.1313857%2C%20-98.2180545%5D%2C%0A%20%20%20%20%20%20%20%20%20%20%20%20%7B%0A%20%20%20%20%20%20%20%20%20%20%20%20%20%20%20%20icon%3A%20new%20L.Icon.Default%28%29%2C%0A%20%20%20%20%20%20%20%20%20%20%20%20%20%20%20%20%7D%0A%20%20%20%20%20%20%20%20%20%20%20%20%29.addTo%28map_5644af8b248f420382947d8ecbbb4108%29%3B%0A%20%20%20%20%20%20%20%20%0A%20%20%20%20%0A%0A%20%20%20%20%20%20%20%20%20%20%20%20%20%20%20%20var%20icon_902476b8086c42e486468aafc346c7c3%20%3D%20L.AwesomeMarkers.icon%28%7B%0A%20%20%20%20%20%20%20%20%20%20%20%20%20%20%20%20%20%20%20%20icon%3A%20%27star%27%2C%0A%20%20%20%20%20%20%20%20%20%20%20%20%20%20%20%20%20%20%20%20iconColor%3A%20%27white%27%2C%0A%20%20%20%20%20%20%20%20%20%20%20%20%20%20%20%20%20%20%20%20markerColor%3A%20%27blue%27%2C%0A%20%20%20%20%20%20%20%20%20%20%20%20%20%20%20%20%20%20%20%20prefix%3A%20%27glyphicon%27%2C%0A%20%20%20%20%20%20%20%20%20%20%20%20%20%20%20%20%20%20%20%20extraClasses%3A%20%27fa-rotate-0%27%0A%20%20%20%20%20%20%20%20%20%20%20%20%20%20%20%20%20%20%20%20%7D%29%3B%0A%20%20%20%20%20%20%20%20%20%20%20%20%20%20%20%20marker_4b3cfd00fe954d9aa9191fc3908a5340.setIcon%28icon_902476b8086c42e486468aafc346c7c3%29%3B%0A%20%20%20%20%20%20%20%20%20%20%20%20%0A%20%20%20%20%0A%20%20%20%20%20%20%20%20%20%20%20%20var%20popup_73ad122b852b497084ed4bade3be7c37%20%3D%20L.popup%28%7BmaxWidth%3A%20%27100%25%27%0A%20%20%20%20%20%20%20%20%20%20%20%20%0A%20%20%20%20%20%20%20%20%20%20%20%20%7D%29%3B%0A%0A%20%20%20%20%20%20%20%20%20%20%20%20%0A%20%20%20%20%20%20%20%20%20%20%20%20%20%20%20%20var%20html_141f88fdb42b45d3932c2a3ec94f3471%20%3D%20%24%28%60%3Cdiv%20id%3D%22html_141f88fdb42b45d3932c2a3ec94f3471%22%20style%3D%22width%3A%20100.0%25%3B%20height%3A%20100.0%25%3B%22%3EZwick%201%2024.1786%20gamma%20API%20at%201002%20ft.%3C/div%3E%60%29%5B0%5D%3B%0A%20%20%20%20%20%20%20%20%20%20%20%20%20%20%20%20popup_73ad122b852b497084ed4bade3be7c37.setContent%28html_141f88fdb42b45d3932c2a3ec94f3471%29%3B%0A%20%20%20%20%20%20%20%20%20%20%20%20%0A%0A%20%20%20%20%20%20%20%20%20%20%20%20marker_4b3cfd00fe954d9aa9191fc3908a5340.bindPopup%28popup_73ad122b852b497084ed4bade3be7c37%29%0A%20%20%20%20%20%20%20%20%20%20%20%20%3B%0A%0A%20%20%20%20%20%20%20%20%20%20%20%20%0A%20%20%20%20%20%20%20%20%0A%20%20%20%20%0A%20%20%20%20%20%20%20%20var%20marker_fccc06e1f7774c8ca6e5c94a549e76f9%20%3D%20L.marker%28%0A%20%20%20%20%20%20%20%20%20%20%20%20%5B38.7733005%2C%20-98.8761944%5D%2C%0A%20%20%20%20%20%20%20%20%20%20%20%20%7B%0A%20%20%20%20%20%20%20%20%20%20%20%20%20%20%20%20icon%3A%20new%20L.Icon.Default%28%29%2C%0A%20%20%20%20%20%20%20%20%20%20%20%20%20%20%20%20%7D%0A%20%20%20%20%20%20%20%20%20%20%20%20%29.addTo%28map_5644af8b248f420382947d8ecbbb4108%29%3B%0A%20%20%20%20%20%20%20%20%0A%20%20%20%20%0A%0A%20%20%20%20%20%20%20%20%20%20%20%20%20%20%20%20var%20icon_12faf613476944458334f4d5df3e08c6%20%3D%20L.AwesomeMarkers.icon%28%7B%0A%20%20%20%20%20%20%20%20%20%20%20%20%20%20%20%20%20%20%20%20icon%3A%20%27star%27%2C%0A%20%20%20%20%20%20%20%20%20%20%20%20%20%20%20%20%20%20%20%20iconColor%3A%20%27white%27%2C%0A%20%20%20%20%20%20%20%20%20%20%20%20%20%20%20%20%20%20%20%20markerColor%3A%20%27blue%27%2C%0A%20%20%20%20%20%20%20%20%20%20%20%20%20%20%20%20%20%20%20%20prefix%3A%20%27glyphicon%27%2C%0A%20%20%20%20%20%20%20%20%20%20%20%20%20%20%20%20%20%20%20%20extraClasses%3A%20%27fa-rotate-0%27%0A%20%20%20%20%20%20%20%20%20%20%20%20%20%20%20%20%20%20%20%20%7D%29%3B%0A%20%20%20%20%20%20%20%20%20%20%20%20%20%20%20%20marker_fccc06e1f7774c8ca6e5c94a549e76f9.setIcon%28icon_12faf613476944458334f4d5df3e08c6%29%3B%0A%20%20%20%20%20%20%20%20%20%20%20%20%0A%20%20%20%20%0A%20%20%20%20%20%20%20%20%20%20%20%20var%20popup_4d318500ba0d4fa59f629845af0cc381%20%3D%20L.popup%28%7BmaxWidth%3A%20%27100%25%27%0A%20%20%20%20%20%20%20%20%20%20%20%20%0A%20%20%20%20%20%20%20%20%20%20%20%20%7D%29%3B%0A%0A%20%20%20%20%20%20%20%20%20%20%20%20%0A%20%20%20%20%20%20%20%20%20%20%20%20%20%20%20%20var%20html_528463af93cc4824b796ba769fbf9611%20%3D%20%24%28%60%3Cdiv%20id%3D%22html_528463af93cc4824b796ba769fbf9611%22%20style%3D%22width%3A%20100.0%25%3B%20height%3A%20100.0%25%3B%22%3ESchmitt%204%2091.4782%20gamma%20API%20at%201002%20ft.%3C/div%3E%60%29%5B0%5D%3B%0A%20%20%20%20%20%20%20%20%20%20%20%20%20%20%20%20popup_4d318500ba0d4fa59f629845af0cc381.setContent%28html_528463af93cc4824b796ba769fbf9611%29%3B%0A%20%20%20%20%20%20%20%20%20%20%20%20%0A%0A%20%20%20%20%20%20%20%20%20%20%20%20marker_fccc06e1f7774c8ca6e5c94a549e76f9.bindPopup%28popup_4d318500ba0d4fa59f629845af0cc381%29%0A%20%20%20%20%20%20%20%20%20%20%20%20%3B%0A%0A%20%20%20%20%20%20%20%20%20%20%20%20%0A%20%20%20%20%20%20%20%20%0A%20%20%20%20%0A%20%20%20%20%20%20%20%20var%20marker_46408804e9584f839e087e1d985af2d2%20%3D%20L.marker%28%0A%20%20%20%20%20%20%20%20%20%20%20%20%5B37.4050005%2C%20-98.1409192%5D%2C%0A%20%20%20%20%20%20%20%20%20%20%20%20%7B%0A%20%20%20%20%20%20%20%20%20%20%20%20%20%20%20%20icon%3A%20new%20L.Icon.Default%28%29%2C%0A%20%20%20%20%20%20%20%20%20%20%20%20%20%20%20%20%7D%0A%20%20%20%20%20%20%20%20%20%20%20%20%29.addTo%28map_5644af8b248f420382947d8ecbbb4108%29%3B%0A%20%20%20%20%20%20%20%20%0A%20%20%20%20%0A%0A%20%20%20%20%20%20%20%20%20%20%20%20%20%20%20%20var%20icon_d871622c071f4eff8f1fddf07ab0469e%20%3D%20L.AwesomeMarkers.icon%28%7B%0A%20%20%20%20%20%20%20%20%20%20%20%20%20%20%20%20%20%20%20%20icon%3A%20%27star%27%2C%0A%20%20%20%20%20%20%20%20%20%20%20%20%20%20%20%20%20%20%20%20iconColor%3A%20%27white%27%2C%0A%20%20%20%20%20%20%20%20%20%20%20%20%20%20%20%20%20%20%20%20markerColor%3A%20%27blue%27%2C%0A%20%20%20%20%20%20%20%20%20%20%20%20%20%20%20%20%20%20%20%20prefix%3A%20%27glyphicon%27%2C%0A%20%20%20%20%20%20%20%20%20%20%20%20%20%20%20%20%20%20%20%20extraClasses%3A%20%27fa-rotate-0%27%0A%20%20%20%20%20%20%20%20%20%20%20%20%20%20%20%20%20%20%20%20%7D%29%3B%0A%20%20%20%20%20%20%20%20%20%20%20%20%20%20%20%20marker_46408804e9584f839e087e1d985af2d2.setIcon%28icon_d871622c071f4eff8f1fddf07ab0469e%29%3B%0A%20%20%20%20%20%20%20%20%20%20%20%20%0A%20%20%20%20%0A%20%20%20%20%20%20%20%20%20%20%20%20var%20popup_8e9d831e577845f781dbe56c36428e88%20%3D%20L.popup%28%7BmaxWidth%3A%20%27100%25%27%0A%20%20%20%20%20%20%20%20%20%20%20%20%0A%20%20%20%20%20%20%20%20%20%20%20%20%7D%29%3B%0A%0A%20%20%20%20%20%20%20%20%20%20%20%20%0A%20%20%20%20%20%20%20%20%20%20%20%20%20%20%20%20var%20html_85b642bb684f493592457d8e7e4aca3e%20%3D%20%24%28%60%3Cdiv%20id%3D%22html_85b642bb684f493592457d8e7e4aca3e%22%20style%3D%22width%3A%20100.0%25%3B%20height%3A%20100.0%25%3B%22%3EAldrich%204%2012.7858%20gamma%20API%20at%201002%20ft.%3C/div%3E%60%29%5B0%5D%3B%0A%20%20%20%20%20%20%20%20%20%20%20%20%20%20%20%20popup_8e9d831e577845f781dbe56c36428e88.setContent%28html_85b642bb684f493592457d8e7e4aca3e%29%3B%0A%20%20%20%20%20%20%20%20%20%20%20%20%0A%0A%20%20%20%20%20%20%20%20%20%20%20%20marker_46408804e9584f839e087e1d985af2d2.bindPopup%28popup_8e9d831e577845f781dbe56c36428e88%29%0A%20%20%20%20%20%20%20%20%20%20%20%20%3B%0A%0A%20%20%20%20%20%20%20%20%20%20%20%20%0A%20%20%20%20%20%20%20%20%0A%20%20%20%20%0A%20%20%20%20%20%20%20%20var%20marker_2b7c2747359348459f36ecdc4b2e88d6%20%3D%20L.marker%28%0A%20%20%20%20%20%20%20%20%20%20%20%20%5B38.2403627%2C%20-95.9391761%5D%2C%0A%20%20%20%20%20%20%20%20%20%20%20%20%7B%0A%20%20%20%20%20%20%20%20%20%20%20%20%20%20%20%20icon%3A%20new%20L.Icon.Default%28%29%2C%0A%20%20%20%20%20%20%20%20%20%20%20%20%20%20%20%20%7D%0A%20%20%20%20%20%20%20%20%20%20%20%20%29.addTo%28map_5644af8b248f420382947d8ecbbb4108%29%3B%0A%20%20%20%20%20%20%20%20%0A%20%20%20%20%0A%0A%20%20%20%20%20%20%20%20%20%20%20%20%20%20%20%20var%20icon_c7c51c534b8143319b1c367fb05df969%20%3D%20L.AwesomeMarkers.icon%28%7B%0A%20%20%20%20%20%20%20%20%20%20%20%20%20%20%20%20%20%20%20%20icon%3A%20%27star%27%2C%0A%20%20%20%20%20%20%20%20%20%20%20%20%20%20%20%20%20%20%20%20iconColor%3A%20%27white%27%2C%0A%20%20%20%20%20%20%20%20%20%20%20%20%20%20%20%20%20%20%20%20markerColor%3A%20%27blue%27%2C%0A%20%20%20%20%20%20%20%20%20%20%20%20%20%20%20%20%20%20%20%20prefix%3A%20%27glyphicon%27%2C%0A%20%20%20%20%20%20%20%20%20%20%20%20%20%20%20%20%20%20%20%20extraClasses%3A%20%27fa-rotate-0%27%0A%20%20%20%20%20%20%20%20%20%20%20%20%20%20%20%20%20%20%20%20%7D%29%3B%0A%20%20%20%20%20%20%20%20%20%20%20%20%20%20%20%20marker_2b7c2747359348459f36ecdc4b2e88d6.setIcon%28icon_c7c51c534b8143319b1c367fb05df969%29%3B%0A%20%20%20%20%20%20%20%20%20%20%20%20%0A%20%20%20%20%0A%20%20%20%20%20%20%20%20%20%20%20%20var%20popup_bb07008ecf2a4057b759e4a1614bdac6%20%3D%20L.popup%28%7BmaxWidth%3A%20%27100%25%27%0A%20%20%20%20%20%20%20%20%20%20%20%20%0A%20%20%20%20%20%20%20%20%20%20%20%20%7D%29%3B%0A%0A%20%20%20%20%20%20%20%20%20%20%20%20%0A%20%20%20%20%20%20%20%20%20%20%20%20%20%20%20%20var%20html_b83b6641b0b04984b2a068e03b5707f7%20%3D%20%24%28%60%3Cdiv%20id%3D%22html_b83b6641b0b04984b2a068e03b5707f7%22%20style%3D%22width%3A%20100.0%25%3B%20height%3A%20100.0%25%3B%22%3EHodges%206%2040.46%20gamma%20API%20at%201002%20ft.%3C/div%3E%60%29%5B0%5D%3B%0A%20%20%20%20%20%20%20%20%20%20%20%20%20%20%20%20popup_bb07008ecf2a4057b759e4a1614bdac6.setContent%28html_b83b6641b0b04984b2a068e03b5707f7%29%3B%0A%20%20%20%20%20%20%20%20%20%20%20%20%0A%0A%20%20%20%20%20%20%20%20%20%20%20%20marker_2b7c2747359348459f36ecdc4b2e88d6.bindPopup%28popup_bb07008ecf2a4057b759e4a1614bdac6%29%0A%20%20%20%20%20%20%20%20%20%20%20%20%3B%0A%0A%20%20%20%20%20%20%20%20%20%20%20%20%0A%20%20%20%20%20%20%20%20%0A%20%20%20%20%0A%20%20%20%20%20%20%20%20var%20marker_7b9ab5a8bab34b3b965a0af6927455d9%20%3D%20L.marker%28%0A%20%20%20%20%20%20%20%20%20%20%20%20%5B37.2149801%2C%20-101.0161643%5D%2C%0A%20%20%20%20%20%20%20%20%20%20%20%20%7B%0A%20%20%20%20%20%20%20%20%20%20%20%20%20%20%20%20icon%3A%20new%20L.Icon.Default%28%29%2C%0A%20%20%20%20%20%20%20%20%20%20%20%20%20%20%20%20%7D%0A%20%20%20%20%20%20%20%20%20%20%20%20%29.addTo%28map_5644af8b248f420382947d8ecbbb4108%29%3B%0A%20%20%20%20%20%20%20%20%0A%20%20%20%20%0A%0A%20%20%20%20%20%20%20%20%20%20%20%20%20%20%20%20var%20icon_7994f8e15ca94d3089b227566f093f1c%20%3D%20L.AwesomeMarkers.icon%28%7B%0A%20%20%20%20%20%20%20%20%20%20%20%20%20%20%20%20%20%20%20%20icon%3A%20%27star%27%2C%0A%20%20%20%20%20%20%20%20%20%20%20%20%20%20%20%20%20%20%20%20iconColor%3A%20%27white%27%2C%0A%20%20%20%20%20%20%20%20%20%20%20%20%20%20%20%20%20%20%20%20markerColor%3A%20%27blue%27%2C%0A%20%20%20%20%20%20%20%20%20%20%20%20%20%20%20%20%20%20%20%20prefix%3A%20%27glyphicon%27%2C%0A%20%20%20%20%20%20%20%20%20%20%20%20%20%20%20%20%20%20%20%20extraClasses%3A%20%27fa-rotate-0%27%0A%20%20%20%20%20%20%20%20%20%20%20%20%20%20%20%20%20%20%20%20%7D%29%3B%0A%20%20%20%20%20%20%20%20%20%20%20%20%20%20%20%20marker_7b9ab5a8bab34b3b965a0af6927455d9.setIcon%28icon_7994f8e15ca94d3089b227566f093f1c%29%3B%0A%20%20%20%20%20%20%20%20%20%20%20%20%0A%20%20%20%20%0A%20%20%20%20%20%20%20%20%20%20%20%20var%20popup_876ba605244c4b35acf5b9adf1cc7bda%20%3D%20L.popup%28%7BmaxWidth%3A%20%27100%25%27%0A%20%20%20%20%20%20%20%20%20%20%20%20%0A%20%20%20%20%20%20%20%20%20%20%20%20%7D%29%3B%0A%0A%20%20%20%20%20%20%20%20%20%20%20%20%0A%20%20%20%20%20%20%20%20%20%20%20%20%20%20%20%20var%20html_64f3405158824ab4aa0c1fd6fe7eb75a%20%3D%20%24%28%60%3Cdiv%20id%3D%22html_64f3405158824ab4aa0c1fd6fe7eb75a%22%20style%3D%22width%3A%20100.0%25%3B%20height%3A%20100.0%25%3B%22%3EHitch%20%27G%27%205%2054.9735%20gamma%20API%20at%201002%20ft.%3C/div%3E%60%29%5B0%5D%3B%0A%20%20%20%20%20%20%20%20%20%20%20%20%20%20%20%20popup_876ba605244c4b35acf5b9adf1cc7bda.setContent%28html_64f3405158824ab4aa0c1fd6fe7eb75a%29%3B%0A%20%20%20%20%20%20%20%20%20%20%20%20%0A%0A%20%20%20%20%20%20%20%20%20%20%20%20marker_7b9ab5a8bab34b3b965a0af6927455d9.bindPopup%28popup_876ba605244c4b35acf5b9adf1cc7bda%29%0A%20%20%20%20%20%20%20%20%20%20%20%20%3B%0A%0A%20%20%20%20%20%20%20%20%20%20%20%20%0A%20%20%20%20%20%20%20%20%0A%20%20%20%20%0A%20%20%20%20%20%20%20%20var%20marker_74354b23979647af9e8a47d573d8d769%20%3D%20L.marker%28%0A%20%20%20%20%20%20%20%20%20%20%20%20%5B38.8168761%2C%20-99.1660625%5D%2C%0A%20%20%20%20%20%20%20%20%20%20%20%20%7B%0A%20%20%20%20%20%20%20%20%20%20%20%20%20%20%20%20icon%3A%20new%20L.Icon.Default%28%29%2C%0A%20%20%20%20%20%20%20%20%20%20%20%20%20%20%20%20%7D%0A%20%20%20%20%20%20%20%20%20%20%20%20%29.addTo%28map_5644af8b248f420382947d8ecbbb4108%29%3B%0A%20%20%20%20%20%20%20%20%0A%20%20%20%20%0A%0A%20%20%20%20%20%20%20%20%20%20%20%20%20%20%20%20var%20icon_a01f76b3401d4f0e8f886543081117c5%20%3D%20L.AwesomeMarkers.icon%28%7B%0A%20%20%20%20%20%20%20%20%20%20%20%20%20%20%20%20%20%20%20%20icon%3A%20%27star%27%2C%0A%20%20%20%20%20%20%20%20%20%20%20%20%20%20%20%20%20%20%20%20iconColor%3A%20%27white%27%2C%0A%20%20%20%20%20%20%20%20%20%20%20%20%20%20%20%20%20%20%20%20markerColor%3A%20%27blue%27%2C%0A%20%20%20%20%20%20%20%20%20%20%20%20%20%20%20%20%20%20%20%20prefix%3A%20%27glyphicon%27%2C%0A%20%20%20%20%20%20%20%20%20%20%20%20%20%20%20%20%20%20%20%20extraClasses%3A%20%27fa-rotate-0%27%0A%20%20%20%20%20%20%20%20%20%20%20%20%20%20%20%20%20%20%20%20%7D%29%3B%0A%20%20%20%20%20%20%20%20%20%20%20%20%20%20%20%20marker_74354b23979647af9e8a47d573d8d769.setIcon%28icon_a01f76b3401d4f0e8f886543081117c5%29%3B%0A%20%20%20%20%20%20%20%20%20%20%20%20%0A%20%20%20%20%0A%20%20%20%20%20%20%20%20%20%20%20%20var%20popup_0838ae860b324af8bf47e81371c6f001%20%3D%20L.popup%28%7BmaxWidth%3A%20%27100%25%27%0A%20%20%20%20%20%20%20%20%20%20%20%20%0A%20%20%20%20%20%20%20%20%20%20%20%20%7D%29%3B%0A%0A%20%20%20%20%20%20%20%20%20%20%20%20%0A%20%20%20%20%20%20%20%20%20%20%20%20%20%20%20%20var%20html_595f9e8ee9454ac3ac9debe077d8f75a%20%3D%20%24%28%60%3Cdiv%20id%3D%22html_595f9e8ee9454ac3ac9debe077d8f75a%22%20style%3D%22width%3A%20100.0%25%3B%20height%3A%20100.0%25%3B%22%3EWerth/Gerstner%201%2050.4963%20gamma%20API%20at%201002%20ft.%3C/div%3E%60%29%5B0%5D%3B%0A%20%20%20%20%20%20%20%20%20%20%20%20%20%20%20%20popup_0838ae860b324af8bf47e81371c6f001.setContent%28html_595f9e8ee9454ac3ac9debe077d8f75a%29%3B%0A%20%20%20%20%20%20%20%20%20%20%20%20%0A%0A%20%20%20%20%20%20%20%20%20%20%20%20marker_74354b23979647af9e8a47d573d8d769.bindPopup%28popup_0838ae860b324af8bf47e81371c6f001%29%0A%20%20%20%20%20%20%20%20%20%20%20%20%3B%0A%0A%20%20%20%20%20%20%20%20%20%20%20%20%0A%20%20%20%20%20%20%20%20%0A%20%20%20%20%0A%20%20%20%20%20%20%20%20var%20marker_b8c769a498bf452ab3bcabe8536cf383%20%3D%20L.marker%28%0A%20%20%20%20%20%20%20%20%20%20%20%20%5B39.3362134%2C%20-98.8337755%5D%2C%0A%20%20%20%20%20%20%20%20%20%20%20%20%7B%0A%20%20%20%20%20%20%20%20%20%20%20%20%20%20%20%20icon%3A%20new%20L.Icon.Default%28%29%2C%0A%20%20%20%20%20%20%20%20%20%20%20%20%20%20%20%20%7D%0A%20%20%20%20%20%20%20%20%20%20%20%20%29.addTo%28map_5644af8b248f420382947d8ecbbb4108%29%3B%0A%20%20%20%20%20%20%20%20%0A%20%20%20%20%0A%0A%20%20%20%20%20%20%20%20%20%20%20%20%20%20%20%20var%20icon_a9d436d150124c538629bfb689e9f4f8%20%3D%20L.AwesomeMarkers.icon%28%7B%0A%20%20%20%20%20%20%20%20%20%20%20%20%20%20%20%20%20%20%20%20icon%3A%20%27star%27%2C%0A%20%20%20%20%20%20%20%20%20%20%20%20%20%20%20%20%20%20%20%20iconColor%3A%20%27white%27%2C%0A%20%20%20%20%20%20%20%20%20%20%20%20%20%20%20%20%20%20%20%20markerColor%3A%20%27blue%27%2C%0A%20%20%20%20%20%20%20%20%20%20%20%20%20%20%20%20%20%20%20%20prefix%3A%20%27glyphicon%27%2C%0A%20%20%20%20%20%20%20%20%20%20%20%20%20%20%20%20%20%20%20%20extraClasses%3A%20%27fa-rotate-0%27%0A%20%20%20%20%20%20%20%20%20%20%20%20%20%20%20%20%20%20%20%20%7D%29%3B%0A%20%20%20%20%20%20%20%20%20%20%20%20%20%20%20%20marker_b8c769a498bf452ab3bcabe8536cf383.setIcon%28icon_a9d436d150124c538629bfb689e9f4f8%29%3B%0A%20%20%20%20%20%20%20%20%20%20%20%20%0A%20%20%20%20%0A%20%20%20%20%20%20%20%20%20%20%20%20var%20popup_0e12dfc3a53e4737a6c6189c6d8fd15d%20%3D%20L.popup%28%7BmaxWidth%3A%20%27100%25%27%0A%20%20%20%20%20%20%20%20%20%20%20%20%0A%20%20%20%20%20%20%20%20%20%20%20%20%7D%29%3B%0A%0A%20%20%20%20%20%20%20%20%20%20%20%20%0A%20%20%20%20%20%20%20%20%20%20%20%20%20%20%20%20var%20html_493fb39ae1c144358d25ef70c29ebbb1%20%3D%20%24%28%60%3Cdiv%20id%3D%22html_493fb39ae1c144358d25ef70c29ebbb1%22%20style%3D%22width%3A%20100.0%25%3B%20height%3A%20100.0%25%3B%22%3ELS%20Unit%201%2091.3172%20gamma%20API%20at%201002%20ft.%3C/div%3E%60%29%5B0%5D%3B%0A%20%20%20%20%20%20%20%20%20%20%20%20%20%20%20%20popup_0e12dfc3a53e4737a6c6189c6d8fd15d.setContent%28html_493fb39ae1c144358d25ef70c29ebbb1%29%3B%0A%20%20%20%20%20%20%20%20%20%20%20%20%0A%0A%20%20%20%20%20%20%20%20%20%20%20%20marker_b8c769a498bf452ab3bcabe8536cf383.bindPopup%28popup_0e12dfc3a53e4737a6c6189c6d8fd15d%29%0A%20%20%20%20%20%20%20%20%20%20%20%20%3B%0A%0A%20%20%20%20%20%20%20%20%20%20%20%20%0A%20%20%20%20%20%20%20%20%0A%20%20%20%20%0A%20%20%20%20%20%20%20%20var%20marker_f0c0ab47c1654effbce0ca0e0611e10d%20%3D%20L.marker%28%0A%20%20%20%20%20%20%20%20%20%20%20%20%5B37.9441308%2C%20-96.9122909%5D%2C%0A%20%20%20%20%20%20%20%20%20%20%20%20%7B%0A%20%20%20%20%20%20%20%20%20%20%20%20%20%20%20%20icon%3A%20new%20L.Icon.Default%28%29%2C%0A%20%20%20%20%20%20%20%20%20%20%20%20%20%20%20%20%7D%0A%20%20%20%20%20%20%20%20%20%20%20%20%29.addTo%28map_5644af8b248f420382947d8ecbbb4108%29%3B%0A%20%20%20%20%20%20%20%20%0A%20%20%20%20%0A%0A%20%20%20%20%20%20%20%20%20%20%20%20%20%20%20%20var%20icon_739ff41dd5d9407d875d0fad387753aa%20%3D%20L.AwesomeMarkers.icon%28%7B%0A%20%20%20%20%20%20%20%20%20%20%20%20%20%20%20%20%20%20%20%20icon%3A%20%27star%27%2C%0A%20%20%20%20%20%20%20%20%20%20%20%20%20%20%20%20%20%20%20%20iconColor%3A%20%27white%27%2C%0A%20%20%20%20%20%20%20%20%20%20%20%20%20%20%20%20%20%20%20%20markerColor%3A%20%27blue%27%2C%0A%20%20%20%20%20%20%20%20%20%20%20%20%20%20%20%20%20%20%20%20prefix%3A%20%27glyphicon%27%2C%0A%20%20%20%20%20%20%20%20%20%20%20%20%20%20%20%20%20%20%20%20extraClasses%3A%20%27fa-rotate-0%27%0A%20%20%20%20%20%20%20%20%20%20%20%20%20%20%20%20%20%20%20%20%7D%29%3B%0A%20%20%20%20%20%20%20%20%20%20%20%20%20%20%20%20marker_f0c0ab47c1654effbce0ca0e0611e10d.setIcon%28icon_739ff41dd5d9407d875d0fad387753aa%29%3B%0A%20%20%20%20%20%20%20%20%20%20%20%20%0A%20%20%20%20%0A%20%20%20%20%20%20%20%20%20%20%20%20var%20popup_4d13b34845364cc28f665ef5d80799ae%20%3D%20L.popup%28%7BmaxWidth%3A%20%27100%25%27%0A%20%20%20%20%20%20%20%20%20%20%20%20%0A%20%20%20%20%20%20%20%20%20%20%20%20%7D%29%3B%0A%0A%20%20%20%20%20%20%20%20%20%20%20%20%0A%20%20%20%20%20%20%20%20%20%20%20%20%20%20%20%20var%20html_ec41ba5c835a4de0a83d846f92ab5ef9%20%3D%20%24%28%60%3Cdiv%20id%3D%22html_ec41ba5c835a4de0a83d846f92ab5ef9%22%20style%3D%22width%3A%20100.0%25%3B%20height%3A%20100.0%25%3B%22%3EBluestem%2010-B%2068.88%20gamma%20API%20at%201002%20ft.%3C/div%3E%60%29%5B0%5D%3B%0A%20%20%20%20%20%20%20%20%20%20%20%20%20%20%20%20popup_4d13b34845364cc28f665ef5d80799ae.setContent%28html_ec41ba5c835a4de0a83d846f92ab5ef9%29%3B%0A%20%20%20%20%20%20%20%20%20%20%20%20%0A%0A%20%20%20%20%20%20%20%20%20%20%20%20marker_f0c0ab47c1654effbce0ca0e0611e10d.bindPopup%28popup_4d13b34845364cc28f665ef5d80799ae%29%0A%20%20%20%20%20%20%20%20%20%20%20%20%3B%0A%0A%20%20%20%20%20%20%20%20%20%20%20%20%0A%20%20%20%20%20%20%20%20%0A%20%20%20%20%0A%20%20%20%20%20%20%20%20var%20marker_cbc928eb492a49d9a3fe143813697490%20%3D%20L.marker%28%0A%20%20%20%20%20%20%20%20%20%20%20%20%5B37.1421249%2C%20-98.4186846%5D%2C%0A%20%20%20%20%20%20%20%20%20%20%20%20%7B%0A%20%20%20%20%20%20%20%20%20%20%20%20%20%20%20%20icon%3A%20new%20L.Icon.Default%28%29%2C%0A%20%20%20%20%20%20%20%20%20%20%20%20%20%20%20%20%7D%0A%20%20%20%20%20%20%20%20%20%20%20%20%29.addTo%28map_5644af8b248f420382947d8ecbbb4108%29%3B%0A%20%20%20%20%20%20%20%20%0A%20%20%20%20%0A%0A%20%20%20%20%20%20%20%20%20%20%20%20%20%20%20%20var%20icon_148da61bb9654567b45953a4b6750970%20%3D%20L.AwesomeMarkers.icon%28%7B%0A%20%20%20%20%20%20%20%20%20%20%20%20%20%20%20%20%20%20%20%20icon%3A%20%27star%27%2C%0A%20%20%20%20%20%20%20%20%20%20%20%20%20%20%20%20%20%20%20%20iconColor%3A%20%27white%27%2C%0A%20%20%20%20%20%20%20%20%20%20%20%20%20%20%20%20%20%20%20%20markerColor%3A%20%27blue%27%2C%0A%20%20%20%20%20%20%20%20%20%20%20%20%20%20%20%20%20%20%20%20prefix%3A%20%27glyphicon%27%2C%0A%20%20%20%20%20%20%20%20%20%20%20%20%20%20%20%20%20%20%20%20extraClasses%3A%20%27fa-rotate-0%27%0A%20%20%20%20%20%20%20%20%20%20%20%20%20%20%20%20%20%20%20%20%7D%29%3B%0A%20%20%20%20%20%20%20%20%20%20%20%20%20%20%20%20marker_cbc928eb492a49d9a3fe143813697490.setIcon%28icon_148da61bb9654567b45953a4b6750970%29%3B%0A%20%20%20%20%20%20%20%20%20%20%20%20%0A%20%20%20%20%0A%20%20%20%20%20%20%20%20%20%20%20%20var%20popup_71de18fceba648fe92aa665422c4c263%20%3D%20L.popup%28%7BmaxWidth%3A%20%27100%25%27%0A%20%20%20%20%20%20%20%20%20%20%20%20%0A%20%20%20%20%20%20%20%20%20%20%20%20%7D%29%3B%0A%0A%20%20%20%20%20%20%20%20%20%20%20%20%0A%20%20%20%20%20%20%20%20%20%20%20%20%20%20%20%20var%20html_786843dc7d8b4e178a51df921b3b3e5e%20%3D%20%24%28%60%3Cdiv%20id%3D%22html_786843dc7d8b4e178a51df921b3b3e5e%22%20style%3D%22width%3A%20100.0%25%3B%20height%3A%20100.0%25%3B%22%3ETucker%20Gas%20Unit%20%27A%27%204%2077.0709%20gamma%20API%20at%201002%20ft.%3C/div%3E%60%29%5B0%5D%3B%0A%20%20%20%20%20%20%20%20%20%20%20%20%20%20%20%20popup_71de18fceba648fe92aa665422c4c263.setContent%28html_786843dc7d8b4e178a51df921b3b3e5e%29%3B%0A%20%20%20%20%20%20%20%20%20%20%20%20%0A%0A%20%20%20%20%20%20%20%20%20%20%20%20marker_cbc928eb492a49d9a3fe143813697490.bindPopup%28popup_71de18fceba648fe92aa665422c4c263%29%0A%20%20%20%20%20%20%20%20%20%20%20%20%3B%0A%0A%20%20%20%20%20%20%20%20%20%20%20%20%0A%20%20%20%20%20%20%20%20%0A%20%20%20%20%0A%20%20%20%20%20%20%20%20var%20marker_c5a0e2f9fbb0459593afea68e0dd6c0b%20%3D%20L.marker%28%0A%20%20%20%20%20%20%20%20%20%20%20%20%5B38.1274739%2C%20-98.5524576%5D%2C%0A%20%20%20%20%20%20%20%20%20%20%20%20%7B%0A%20%20%20%20%20%20%20%20%20%20%20%20%20%20%20%20icon%3A%20new%20L.Icon.Default%28%29%2C%0A%20%20%20%20%20%20%20%20%20%20%20%20%20%20%20%20%7D%0A%20%20%20%20%20%20%20%20%20%20%20%20%29.addTo%28map_5644af8b248f420382947d8ecbbb4108%29%3B%0A%20%20%20%20%20%20%20%20%0A%20%20%20%20%0A%0A%20%20%20%20%20%20%20%20%20%20%20%20%20%20%20%20var%20icon_d5b09f3839c048e79ca2f722759e15fa%20%3D%20L.AwesomeMarkers.icon%28%7B%0A%20%20%20%20%20%20%20%20%20%20%20%20%20%20%20%20%20%20%20%20icon%3A%20%27star%27%2C%0A%20%20%20%20%20%20%20%20%20%20%20%20%20%20%20%20%20%20%20%20iconColor%3A%20%27white%27%2C%0A%20%20%20%20%20%20%20%20%20%20%20%20%20%20%20%20%20%20%20%20markerColor%3A%20%27blue%27%2C%0A%20%20%20%20%20%20%20%20%20%20%20%20%20%20%20%20%20%20%20%20prefix%3A%20%27glyphicon%27%2C%0A%20%20%20%20%20%20%20%20%20%20%20%20%20%20%20%20%20%20%20%20extraClasses%3A%20%27fa-rotate-0%27%0A%20%20%20%20%20%20%20%20%20%20%20%20%20%20%20%20%20%20%20%20%7D%29%3B%0A%20%20%20%20%20%20%20%20%20%20%20%20%20%20%20%20marker_c5a0e2f9fbb0459593afea68e0dd6c0b.setIcon%28icon_d5b09f3839c048e79ca2f722759e15fa%29%3B%0A%20%20%20%20%20%20%20%20%20%20%20%20%0A%20%20%20%20%0A%20%20%20%20%20%20%20%20%20%20%20%20var%20popup_8dfbc429b0f44654b3a5e39d8b0a5fa1%20%3D%20L.popup%28%7BmaxWidth%3A%20%27100%25%27%0A%20%20%20%20%20%20%20%20%20%20%20%20%0A%20%20%20%20%20%20%20%20%20%20%20%20%7D%29%3B%0A%0A%20%20%20%20%20%20%20%20%20%20%20%20%0A%20%20%20%20%20%20%20%20%20%20%20%20%20%20%20%20var%20html_ebbcd846db2d4f48bb4f810201b3aada%20%3D%20%24%28%60%3Cdiv%20id%3D%22html_ebbcd846db2d4f48bb4f810201b3aada%22%20style%3D%22width%3A%20100.0%25%3B%20height%3A%20100.0%25%3B%22%3EHunley%201-20%2070.7301%20gamma%20API%20at%201002%20ft.%3C/div%3E%60%29%5B0%5D%3B%0A%20%20%20%20%20%20%20%20%20%20%20%20%20%20%20%20popup_8dfbc429b0f44654b3a5e39d8b0a5fa1.setContent%28html_ebbcd846db2d4f48bb4f810201b3aada%29%3B%0A%20%20%20%20%20%20%20%20%20%20%20%20%0A%0A%20%20%20%20%20%20%20%20%20%20%20%20marker_c5a0e2f9fbb0459593afea68e0dd6c0b.bindPopup%28popup_8dfbc429b0f44654b3a5e39d8b0a5fa1%29%0A%20%20%20%20%20%20%20%20%20%20%20%20%3B%0A%0A%20%20%20%20%20%20%20%20%20%20%20%20%0A%20%20%20%20%20%20%20%20%0A%20%20%20%20%0A%20%20%20%20%20%20%20%20var%20marker_7e77fa14d80a4503aed357cd947b12c9%20%3D%20L.marker%28%0A%20%20%20%20%20%20%20%20%20%20%20%20%5B38.4955178%2C%20-100.1377113%5D%2C%0A%20%20%20%20%20%20%20%20%20%20%20%20%7B%0A%20%20%20%20%20%20%20%20%20%20%20%20%20%20%20%20icon%3A%20new%20L.Icon.Default%28%29%2C%0A%20%20%20%20%20%20%20%20%20%20%20%20%20%20%20%20%7D%0A%20%20%20%20%20%20%20%20%20%20%20%20%29.addTo%28map_5644af8b248f420382947d8ecbbb4108%29%3B%0A%20%20%20%20%20%20%20%20%0A%20%20%20%20%0A%0A%20%20%20%20%20%20%20%20%20%20%20%20%20%20%20%20var%20icon_3730e636068548acbb05c59e29df4bfd%20%3D%20L.AwesomeMarkers.icon%28%7B%0A%20%20%20%20%20%20%20%20%20%20%20%20%20%20%20%20%20%20%20%20icon%3A%20%27star%27%2C%0A%20%20%20%20%20%20%20%20%20%20%20%20%20%20%20%20%20%20%20%20iconColor%3A%20%27white%27%2C%0A%20%20%20%20%20%20%20%20%20%20%20%20%20%20%20%20%20%20%20%20markerColor%3A%20%27blue%27%2C%0A%20%20%20%20%20%20%20%20%20%20%20%20%20%20%20%20%20%20%20%20prefix%3A%20%27glyphicon%27%2C%0A%20%20%20%20%20%20%20%20%20%20%20%20%20%20%20%20%20%20%20%20extraClasses%3A%20%27fa-rotate-0%27%0A%20%20%20%20%20%20%20%20%20%20%20%20%20%20%20%20%20%20%20%20%7D%29%3B%0A%20%20%20%20%20%20%20%20%20%20%20%20%20%20%20%20marker_7e77fa14d80a4503aed357cd947b12c9.setIcon%28icon_3730e636068548acbb05c59e29df4bfd%29%3B%0A%20%20%20%20%20%20%20%20%20%20%20%20%0A%20%20%20%20%0A%20%20%20%20%20%20%20%20%20%20%20%20var%20popup_08b52c5d6ff14f55a61fc27a9e1ac72a%20%3D%20L.popup%28%7BmaxWidth%3A%20%27100%25%27%0A%20%20%20%20%20%20%20%20%20%20%20%20%0A%20%20%20%20%20%20%20%20%20%20%20%20%7D%29%3B%0A%0A%20%20%20%20%20%20%20%20%20%20%20%20%0A%20%20%20%20%20%20%20%20%20%20%20%20%20%20%20%20var%20html_495200ae4e9941a88144b57ef23b0403%20%3D%20%24%28%60%3Cdiv%20id%3D%22html_495200ae4e9941a88144b57ef23b0403%22%20style%3D%22width%3A%20100.0%25%3B%20height%3A%20100.0%25%3B%22%3EBorthwick%20Trust%201%2046.3853%20gamma%20API%20at%201002%20ft.%3C/div%3E%60%29%5B0%5D%3B%0A%20%20%20%20%20%20%20%20%20%20%20%20%20%20%20%20popup_08b52c5d6ff14f55a61fc27a9e1ac72a.setContent%28html_495200ae4e9941a88144b57ef23b0403%29%3B%0A%20%20%20%20%20%20%20%20%20%20%20%20%0A%0A%20%20%20%20%20%20%20%20%20%20%20%20marker_7e77fa14d80a4503aed357cd947b12c9.bindPopup%28popup_08b52c5d6ff14f55a61fc27a9e1ac72a%29%0A%20%20%20%20%20%20%20%20%20%20%20%20%3B%0A%0A%20%20%20%20%20%20%20%20%20%20%20%20%0A%20%20%20%20%20%20%20%20%0A%20%20%20%20%0A%20%20%20%20%20%20%20%20var%20marker_80cb9cccbc1e4800a0a201047ae68ad8%20%3D%20L.marker%28%0A%20%20%20%20%20%20%20%20%20%20%20%20%5B38.5001523%2C%20-101.1183427%5D%2C%0A%20%20%20%20%20%20%20%20%20%20%20%20%7B%0A%20%20%20%20%20%20%20%20%20%20%20%20%20%20%20%20icon%3A%20new%20L.Icon.Default%28%29%2C%0A%20%20%20%20%20%20%20%20%20%20%20%20%20%20%20%20%7D%0A%20%20%20%20%20%20%20%20%20%20%20%20%29.addTo%28map_5644af8b248f420382947d8ecbbb4108%29%3B%0A%20%20%20%20%20%20%20%20%0A%20%20%20%20%0A%0A%20%20%20%20%20%20%20%20%20%20%20%20%20%20%20%20var%20icon_ab85a542f0a2435d8eef86f298560618%20%3D%20L.AwesomeMarkers.icon%28%7B%0A%20%20%20%20%20%20%20%20%20%20%20%20%20%20%20%20%20%20%20%20icon%3A%20%27star%27%2C%0A%20%20%20%20%20%20%20%20%20%20%20%20%20%20%20%20%20%20%20%20iconColor%3A%20%27white%27%2C%0A%20%20%20%20%20%20%20%20%20%20%20%20%20%20%20%20%20%20%20%20markerColor%3A%20%27blue%27%2C%0A%20%20%20%20%20%20%20%20%20%20%20%20%20%20%20%20%20%20%20%20prefix%3A%20%27glyphicon%27%2C%0A%20%20%20%20%20%20%20%20%20%20%20%20%20%20%20%20%20%20%20%20extraClasses%3A%20%27fa-rotate-0%27%0A%20%20%20%20%20%20%20%20%20%20%20%20%20%20%20%20%20%20%20%20%7D%29%3B%0A%20%20%20%20%20%20%20%20%20%20%20%20%20%20%20%20marker_80cb9cccbc1e4800a0a201047ae68ad8.setIcon%28icon_ab85a542f0a2435d8eef86f298560618%29%3B%0A%20%20%20%20%20%20%20%20%20%20%20%20%0A%20%20%20%20%0A%20%20%20%20%20%20%20%20%20%20%20%20var%20popup_26c65080434c4157a673b74b6fd506c6%20%3D%20L.popup%28%7BmaxWidth%3A%20%27100%25%27%0A%20%20%20%20%20%20%20%20%20%20%20%20%0A%20%20%20%20%20%20%20%20%20%20%20%20%7D%29%3B%0A%0A%20%20%20%20%20%20%20%20%20%20%20%20%0A%20%20%20%20%20%20%20%20%20%20%20%20%20%20%20%20var%20html_3dd9e536d5ff4c96888eaa2caa85d7cb%20%3D%20%24%28%60%3Cdiv%20id%3D%22html_3dd9e536d5ff4c96888eaa2caa85d7cb%22%20style%3D%22width%3A%20100.0%25%3B%20height%3A%20100.0%25%3B%22%3EKrause%201-7%2094.5918%20gamma%20API%20at%201002%20ft.%3C/div%3E%60%29%5B0%5D%3B%0A%20%20%20%20%20%20%20%20%20%20%20%20%20%20%20%20popup_26c65080434c4157a673b74b6fd506c6.setContent%28html_3dd9e536d5ff4c96888eaa2caa85d7cb%29%3B%0A%20%20%20%20%20%20%20%20%20%20%20%20%0A%0A%20%20%20%20%20%20%20%20%20%20%20%20marker_80cb9cccbc1e4800a0a201047ae68ad8.bindPopup%28popup_26c65080434c4157a673b74b6fd506c6%29%0A%20%20%20%20%20%20%20%20%20%20%20%20%3B%0A%0A%20%20%20%20%20%20%20%20%20%20%20%20%0A%20%20%20%20%20%20%20%20%0A%20%20%20%20%0A%20%20%20%20%20%20%20%20var%20marker_008b7410a5f94f508891cc441b9d49b8%20%3D%20L.marker%28%0A%20%20%20%20%20%20%20%20%20%20%20%20%5B37.6579455%2C%20-100.9692438%5D%2C%0A%20%20%20%20%20%20%20%20%20%20%20%20%7B%0A%20%20%20%20%20%20%20%20%20%20%20%20%20%20%20%20icon%3A%20new%20L.Icon.Default%28%29%2C%0A%20%20%20%20%20%20%20%20%20%20%20%20%20%20%20%20%7D%0A%20%20%20%20%20%20%20%20%20%20%20%20%29.addTo%28map_5644af8b248f420382947d8ecbbb4108%29%3B%0A%20%20%20%20%20%20%20%20%0A%20%20%20%20%0A%0A%20%20%20%20%20%20%20%20%20%20%20%20%20%20%20%20var%20icon_c29af10fbd36433d81de348c0fde9597%20%3D%20L.AwesomeMarkers.icon%28%7B%0A%20%20%20%20%20%20%20%20%20%20%20%20%20%20%20%20%20%20%20%20icon%3A%20%27star%27%2C%0A%20%20%20%20%20%20%20%20%20%20%20%20%20%20%20%20%20%20%20%20iconColor%3A%20%27white%27%2C%0A%20%20%20%20%20%20%20%20%20%20%20%20%20%20%20%20%20%20%20%20markerColor%3A%20%27blue%27%2C%0A%20%20%20%20%20%20%20%20%20%20%20%20%20%20%20%20%20%20%20%20prefix%3A%20%27glyphicon%27%2C%0A%20%20%20%20%20%20%20%20%20%20%20%20%20%20%20%20%20%20%20%20extraClasses%3A%20%27fa-rotate-0%27%0A%20%20%20%20%20%20%20%20%20%20%20%20%20%20%20%20%20%20%20%20%7D%29%3B%0A%20%20%20%20%20%20%20%20%20%20%20%20%20%20%20%20marker_008b7410a5f94f508891cc441b9d49b8.setIcon%28icon_c29af10fbd36433d81de348c0fde9597%29%3B%0A%20%20%20%20%20%20%20%20%20%20%20%20%0A%20%20%20%20%0A%20%20%20%20%20%20%20%20%20%20%20%20var%20popup_80d04737202a465cb588e75aca21cb67%20%3D%20L.popup%28%7BmaxWidth%3A%20%27100%25%27%0A%20%20%20%20%20%20%20%20%20%20%20%20%0A%20%20%20%20%20%20%20%20%20%20%20%20%7D%29%3B%0A%0A%20%20%20%20%20%20%20%20%20%20%20%20%0A%20%20%20%20%20%20%20%20%20%20%20%20%20%20%20%20var%20html_6f9b28d2d9b84da68ee08ecc4bdb4cb7%20%3D%20%24%28%60%3Cdiv%20id%3D%22html_6f9b28d2d9b84da68ee08ecc4bdb4cb7%22%20style%3D%22width%3A%20100.0%25%3B%20height%3A%20100.0%25%3B%22%3EBranstetter%20Chester%20Unit%20408W%2059.8345%20gamma%20API%20at%201002%20ft.%3C/div%3E%60%29%5B0%5D%3B%0A%20%20%20%20%20%20%20%20%20%20%20%20%20%20%20%20popup_80d04737202a465cb588e75aca21cb67.setContent%28html_6f9b28d2d9b84da68ee08ecc4bdb4cb7%29%3B%0A%20%20%20%20%20%20%20%20%20%20%20%20%0A%0A%20%20%20%20%20%20%20%20%20%20%20%20marker_008b7410a5f94f508891cc441b9d49b8.bindPopup%28popup_80d04737202a465cb588e75aca21cb67%29%0A%20%20%20%20%20%20%20%20%20%20%20%20%3B%0A%0A%20%20%20%20%20%20%20%20%20%20%20%20%0A%20%20%20%20%20%20%20%20%0A%20%20%20%20%0A%20%20%20%20%20%20%20%20var%20marker_91964f414c874b60a4bab14da3228418%20%3D%20L.marker%28%0A%20%20%20%20%20%20%20%20%20%20%20%20%5B37.0974916%2C%20-99.5585301%5D%2C%0A%20%20%20%20%20%20%20%20%20%20%20%20%7B%0A%20%20%20%20%20%20%20%20%20%20%20%20%20%20%20%20icon%3A%20new%20L.Icon.Default%28%29%2C%0A%20%20%20%20%20%20%20%20%20%20%20%20%20%20%20%20%7D%0A%20%20%20%20%20%20%20%20%20%20%20%20%29.addTo%28map_5644af8b248f420382947d8ecbbb4108%29%3B%0A%20%20%20%20%20%20%20%20%0A%20%20%20%20%0A%0A%20%20%20%20%20%20%20%20%20%20%20%20%20%20%20%20var%20icon_e7fb9324a14a43de9fac515571fcaca6%20%3D%20L.AwesomeMarkers.icon%28%7B%0A%20%20%20%20%20%20%20%20%20%20%20%20%20%20%20%20%20%20%20%20icon%3A%20%27star%27%2C%0A%20%20%20%20%20%20%20%20%20%20%20%20%20%20%20%20%20%20%20%20iconColor%3A%20%27white%27%2C%0A%20%20%20%20%20%20%20%20%20%20%20%20%20%20%20%20%20%20%20%20markerColor%3A%20%27blue%27%2C%0A%20%20%20%20%20%20%20%20%20%20%20%20%20%20%20%20%20%20%20%20prefix%3A%20%27glyphicon%27%2C%0A%20%20%20%20%20%20%20%20%20%20%20%20%20%20%20%20%20%20%20%20extraClasses%3A%20%27fa-rotate-0%27%0A%20%20%20%20%20%20%20%20%20%20%20%20%20%20%20%20%20%20%20%20%7D%29%3B%0A%20%20%20%20%20%20%20%20%20%20%20%20%20%20%20%20marker_91964f414c874b60a4bab14da3228418.setIcon%28icon_e7fb9324a14a43de9fac515571fcaca6%29%3B%0A%20%20%20%20%20%20%20%20%20%20%20%20%0A%20%20%20%20%0A%20%20%20%20%20%20%20%20%20%20%20%20var%20popup_f48ff2fbe2d8435b80dd817dd68f933f%20%3D%20L.popup%28%7BmaxWidth%3A%20%27100%25%27%0A%20%20%20%20%20%20%20%20%20%20%20%20%0A%20%20%20%20%20%20%20%20%20%20%20%20%7D%29%3B%0A%0A%20%20%20%20%20%20%20%20%20%20%20%20%0A%20%20%20%20%20%20%20%20%20%20%20%20%20%20%20%20var%20html_322005b4388145c9ad19696b6c588aff%20%3D%20%24%28%60%3Cdiv%20id%3D%22html_322005b4388145c9ad19696b6c588aff%22%20style%3D%22width%3A%20100.0%25%3B%20height%3A%20100.0%25%3B%22%3EBouziden%2012-1%2048.2865%20gamma%20API%20at%201002%20ft.%3C/div%3E%60%29%5B0%5D%3B%0A%20%20%20%20%20%20%20%20%20%20%20%20%20%20%20%20popup_f48ff2fbe2d8435b80dd817dd68f933f.setContent%28html_322005b4388145c9ad19696b6c588aff%29%3B%0A%20%20%20%20%20%20%20%20%20%20%20%20%0A%0A%20%20%20%20%20%20%20%20%20%20%20%20marker_91964f414c874b60a4bab14da3228418.bindPopup%28popup_f48ff2fbe2d8435b80dd817dd68f933f%29%0A%20%20%20%20%20%20%20%20%20%20%20%20%3B%0A%0A%20%20%20%20%20%20%20%20%20%20%20%20%0A%20%20%20%20%20%20%20%20%0A%20%20%20%20%0A%20%20%20%20%20%20%20%20var%20marker_8764a7cd08ce485585e32093f6e6b752%20%3D%20L.marker%28%0A%20%20%20%20%20%20%20%20%20%20%20%20%5B37.7030455%2C%20-101.010318%5D%2C%0A%20%20%20%20%20%20%20%20%20%20%20%20%7B%0A%20%20%20%20%20%20%20%20%20%20%20%20%20%20%20%20icon%3A%20new%20L.Icon.Default%28%29%2C%0A%20%20%20%20%20%20%20%20%20%20%20%20%20%20%20%20%7D%0A%20%20%20%20%20%20%20%20%20%20%20%20%29.addTo%28map_5644af8b248f420382947d8ecbbb4108%29%3B%0A%20%20%20%20%20%20%20%20%0A%20%20%20%20%0A%0A%20%20%20%20%20%20%20%20%20%20%20%20%20%20%20%20var%20icon_8f2af85c7ea34803aafb211271e0e587%20%3D%20L.AwesomeMarkers.icon%28%7B%0A%20%20%20%20%20%20%20%20%20%20%20%20%20%20%20%20%20%20%20%20icon%3A%20%27star%27%2C%0A%20%20%20%20%20%20%20%20%20%20%20%20%20%20%20%20%20%20%20%20iconColor%3A%20%27white%27%2C%0A%20%20%20%20%20%20%20%20%20%20%20%20%20%20%20%20%20%20%20%20markerColor%3A%20%27blue%27%2C%0A%20%20%20%20%20%20%20%20%20%20%20%20%20%20%20%20%20%20%20%20prefix%3A%20%27glyphicon%27%2C%0A%20%20%20%20%20%20%20%20%20%20%20%20%20%20%20%20%20%20%20%20extraClasses%3A%20%27fa-rotate-0%27%0A%20%20%20%20%20%20%20%20%20%20%20%20%20%20%20%20%20%20%20%20%7D%29%3B%0A%20%20%20%20%20%20%20%20%20%20%20%20%20%20%20%20marker_8764a7cd08ce485585e32093f6e6b752.setIcon%28icon_8f2af85c7ea34803aafb211271e0e587%29%3B%0A%20%20%20%20%20%20%20%20%20%20%20%20%0A%20%20%20%20%0A%20%20%20%20%20%20%20%20%20%20%20%20var%20popup_c311bfa4966448a08976219f3ca8da58%20%3D%20L.popup%28%7BmaxWidth%3A%20%27100%25%27%0A%20%20%20%20%20%20%20%20%20%20%20%20%0A%20%20%20%20%20%20%20%20%20%20%20%20%7D%29%3B%0A%0A%20%20%20%20%20%20%20%20%20%20%20%20%0A%20%20%20%20%20%20%20%20%20%20%20%20%20%20%20%20var%20html_8b61bf0ff3dc45a09dac178ae69fa46b%20%3D%20%24%28%60%3Cdiv%20id%3D%22html_8b61bf0ff3dc45a09dac178ae69fa46b%22%20style%3D%22width%3A%20100.0%25%3B%20height%3A%20100.0%25%3B%22%3EMoody%20%27E%27%201%208.1505%20gamma%20API%20at%201002%20ft.%3C/div%3E%60%29%5B0%5D%3B%0A%20%20%20%20%20%20%20%20%20%20%20%20%20%20%20%20popup_c311bfa4966448a08976219f3ca8da58.setContent%28html_8b61bf0ff3dc45a09dac178ae69fa46b%29%3B%0A%20%20%20%20%20%20%20%20%20%20%20%20%0A%0A%20%20%20%20%20%20%20%20%20%20%20%20marker_8764a7cd08ce485585e32093f6e6b752.bindPopup%28popup_c311bfa4966448a08976219f3ca8da58%29%0A%20%20%20%20%20%20%20%20%20%20%20%20%3B%0A%0A%20%20%20%20%20%20%20%20%20%20%20%20%0A%20%20%20%20%20%20%20%20%0A%20%20%20%20%0A%20%20%20%20%20%20%20%20var%20marker_6cfc3b196c714105b5342531580dcdd4%20%3D%20L.marker%28%0A%20%20%20%20%20%20%20%20%20%20%20%20%5B38.6541411%2C%20-100.390656%5D%2C%0A%20%20%20%20%20%20%20%20%20%20%20%20%7B%0A%20%20%20%20%20%20%20%20%20%20%20%20%20%20%20%20icon%3A%20new%20L.Icon.Default%28%29%2C%0A%20%20%20%20%20%20%20%20%20%20%20%20%20%20%20%20%7D%0A%20%20%20%20%20%20%20%20%20%20%20%20%29.addTo%28map_5644af8b248f420382947d8ecbbb4108%29%3B%0A%20%20%20%20%20%20%20%20%0A%20%20%20%20%0A%0A%20%20%20%20%20%20%20%20%20%20%20%20%20%20%20%20var%20icon_04e6cec230e34864b90a6dcfd4a66e12%20%3D%20L.AwesomeMarkers.icon%28%7B%0A%20%20%20%20%20%20%20%20%20%20%20%20%20%20%20%20%20%20%20%20icon%3A%20%27star%27%2C%0A%20%20%20%20%20%20%20%20%20%20%20%20%20%20%20%20%20%20%20%20iconColor%3A%20%27white%27%2C%0A%20%20%20%20%20%20%20%20%20%20%20%20%20%20%20%20%20%20%20%20markerColor%3A%20%27blue%27%2C%0A%20%20%20%20%20%20%20%20%20%20%20%20%20%20%20%20%20%20%20%20prefix%3A%20%27glyphicon%27%2C%0A%20%20%20%20%20%20%20%20%20%20%20%20%20%20%20%20%20%20%20%20extraClasses%3A%20%27fa-rotate-0%27%0A%20%20%20%20%20%20%20%20%20%20%20%20%20%20%20%20%20%20%20%20%7D%29%3B%0A%20%20%20%20%20%20%20%20%20%20%20%20%20%20%20%20marker_6cfc3b196c714105b5342531580dcdd4.setIcon%28icon_04e6cec230e34864b90a6dcfd4a66e12%29%3B%0A%20%20%20%20%20%20%20%20%20%20%20%20%0A%20%20%20%20%0A%20%20%20%20%20%20%20%20%20%20%20%20var%20popup_bacbc811b6ff4c2d85e790a308082449%20%3D%20L.popup%28%7BmaxWidth%3A%20%27100%25%27%0A%20%20%20%20%20%20%20%20%20%20%20%20%0A%20%20%20%20%20%20%20%20%20%20%20%20%7D%29%3B%0A%0A%20%20%20%20%20%20%20%20%20%20%20%20%0A%20%20%20%20%20%20%20%20%20%20%20%20%20%20%20%20var%20html_445aa7f15a244262bfa268a1f416abce%20%3D%20%24%28%60%3Cdiv%20id%3D%22html_445aa7f15a244262bfa268a1f416abce%22%20style%3D%22width%3A%20100.0%25%3B%20height%3A%20100.0%25%3B%22%3EMunsell%2011-23%2019.9771%20gamma%20API%20at%201002%20ft.%3C/div%3E%60%29%5B0%5D%3B%0A%20%20%20%20%20%20%20%20%20%20%20%20%20%20%20%20popup_bacbc811b6ff4c2d85e790a308082449.setContent%28html_445aa7f15a244262bfa268a1f416abce%29%3B%0A%20%20%20%20%20%20%20%20%20%20%20%20%0A%0A%20%20%20%20%20%20%20%20%20%20%20%20marker_6cfc3b196c714105b5342531580dcdd4.bindPopup%28popup_bacbc811b6ff4c2d85e790a308082449%29%0A%20%20%20%20%20%20%20%20%20%20%20%20%3B%0A%0A%20%20%20%20%20%20%20%20%20%20%20%20%0A%20%20%20%20%20%20%20%20%0A%20%20%20%20%0A%20%20%20%20%20%20%20%20var%20marker_49ddf2804aaf4646a3145284c75067f5%20%3D%20L.marker%28%0A%20%20%20%20%20%20%20%20%20%20%20%20%5B39.7970144%2C%20-95.9448207%5D%2C%0A%20%20%20%20%20%20%20%20%20%20%20%20%7B%0A%20%20%20%20%20%20%20%20%20%20%20%20%20%20%20%20icon%3A%20new%20L.Icon.Default%28%29%2C%0A%20%20%20%20%20%20%20%20%20%20%20%20%20%20%20%20%7D%0A%20%20%20%20%20%20%20%20%20%20%20%20%29.addTo%28map_5644af8b248f420382947d8ecbbb4108%29%3B%0A%20%20%20%20%20%20%20%20%0A%20%20%20%20%0A%0A%20%20%20%20%20%20%20%20%20%20%20%20%20%20%20%20var%20icon_4fba54d889a0472d84cbd54e21ee1c2d%20%3D%20L.AwesomeMarkers.icon%28%7B%0A%20%20%20%20%20%20%20%20%20%20%20%20%20%20%20%20%20%20%20%20icon%3A%20%27star%27%2C%0A%20%20%20%20%20%20%20%20%20%20%20%20%20%20%20%20%20%20%20%20iconColor%3A%20%27white%27%2C%0A%20%20%20%20%20%20%20%20%20%20%20%20%20%20%20%20%20%20%20%20markerColor%3A%20%27blue%27%2C%0A%20%20%20%20%20%20%20%20%20%20%20%20%20%20%20%20%20%20%20%20prefix%3A%20%27glyphicon%27%2C%0A%20%20%20%20%20%20%20%20%20%20%20%20%20%20%20%20%20%20%20%20extraClasses%3A%20%27fa-rotate-0%27%0A%20%20%20%20%20%20%20%20%20%20%20%20%20%20%20%20%20%20%20%20%7D%29%3B%0A%20%20%20%20%20%20%20%20%20%20%20%20%20%20%20%20marker_49ddf2804aaf4646a3145284c75067f5.setIcon%28icon_4fba54d889a0472d84cbd54e21ee1c2d%29%3B%0A%20%20%20%20%20%20%20%20%20%20%20%20%0A%20%20%20%20%0A%20%20%20%20%20%20%20%20%20%20%20%20var%20popup_003daf9ce7184800a5123b23970b75ff%20%3D%20L.popup%28%7BmaxWidth%3A%20%27100%25%27%0A%20%20%20%20%20%20%20%20%20%20%20%20%0A%20%20%20%20%20%20%20%20%20%20%20%20%7D%29%3B%0A%0A%20%20%20%20%20%20%20%20%20%20%20%20%0A%20%20%20%20%20%20%20%20%20%20%20%20%20%20%20%20var%20html_86ad15a4de4e407fbd0efc01135073ea%20%3D%20%24%28%60%3Cdiv%20id%3D%22html_86ad15a4de4e407fbd0efc01135073ea%22%20style%3D%22width%3A%20100.0%25%3B%20height%3A%20100.0%25%3B%22%3ELaub%201-15%201%20146.35199999999966%20gamma%20API%20at%201002%20ft.%3C/div%3E%60%29%5B0%5D%3B%0A%20%20%20%20%20%20%20%20%20%20%20%20%20%20%20%20popup_003daf9ce7184800a5123b23970b75ff.setContent%28html_86ad15a4de4e407fbd0efc01135073ea%29%3B%0A%20%20%20%20%20%20%20%20%20%20%20%20%0A%0A%20%20%20%20%20%20%20%20%20%20%20%20marker_49ddf2804aaf4646a3145284c75067f5.bindPopup%28popup_003daf9ce7184800a5123b23970b75ff%29%0A%20%20%20%20%20%20%20%20%20%20%20%20%3B%0A%0A%20%20%20%20%20%20%20%20%20%20%20%20%0A%20%20%20%20%20%20%20%20%0A%20%20%20%20%0A%20%20%20%20%20%20%20%20var%20marker_9cdd7248ebf14a968c4eb24d34316423%20%3D%20L.marker%28%0A%20%20%20%20%20%20%20%20%20%20%20%20%5B37.6087605%2C%20-100.9604427%5D%2C%0A%20%20%20%20%20%20%20%20%20%20%20%20%7B%0A%20%20%20%20%20%20%20%20%20%20%20%20%20%20%20%20icon%3A%20new%20L.Icon.Default%28%29%2C%0A%20%20%20%20%20%20%20%20%20%20%20%20%20%20%20%20%7D%0A%20%20%20%20%20%20%20%20%20%20%20%20%29.addTo%28map_5644af8b248f420382947d8ecbbb4108%29%3B%0A%20%20%20%20%20%20%20%20%0A%20%20%20%20%0A%0A%20%20%20%20%20%20%20%20%20%20%20%20%20%20%20%20var%20icon_4fd0ce45be8e4967a6ba6f33e863188e%20%3D%20L.AwesomeMarkers.icon%28%7B%0A%20%20%20%20%20%20%20%20%20%20%20%20%20%20%20%20%20%20%20%20icon%3A%20%27star%27%2C%0A%20%20%20%20%20%20%20%20%20%20%20%20%20%20%20%20%20%20%20%20iconColor%3A%20%27white%27%2C%0A%20%20%20%20%20%20%20%20%20%20%20%20%20%20%20%20%20%20%20%20markerColor%3A%20%27blue%27%2C%0A%20%20%20%20%20%20%20%20%20%20%20%20%20%20%20%20%20%20%20%20prefix%3A%20%27glyphicon%27%2C%0A%20%20%20%20%20%20%20%20%20%20%20%20%20%20%20%20%20%20%20%20extraClasses%3A%20%27fa-rotate-0%27%0A%20%20%20%20%20%20%20%20%20%20%20%20%20%20%20%20%20%20%20%20%7D%29%3B%0A%20%20%20%20%20%20%20%20%20%20%20%20%20%20%20%20marker_9cdd7248ebf14a968c4eb24d34316423.setIcon%28icon_4fd0ce45be8e4967a6ba6f33e863188e%29%3B%0A%20%20%20%20%20%20%20%20%20%20%20%20%0A%20%20%20%20%0A%20%20%20%20%20%20%20%20%20%20%20%20var%20popup_c67d5f2f988f4857bf6f817e8c22ab81%20%3D%20L.popup%28%7BmaxWidth%3A%20%27100%25%27%0A%20%20%20%20%20%20%20%20%20%20%20%20%0A%20%20%20%20%20%20%20%20%20%20%20%20%7D%29%3B%0A%0A%20%20%20%20%20%20%20%20%20%20%20%20%0A%20%20%20%20%20%20%20%20%20%20%20%20%20%20%20%20var%20html_cc07f9f1a763425aa09a087226fcb874%20%3D%20%24%28%60%3Cdiv%20id%3D%22html_cc07f9f1a763425aa09a087226fcb874%22%20style%3D%22width%3A%20100.0%25%3B%20height%3A%20100.0%25%3B%22%3EJones%20%27I%27%201%2075.3271%20gamma%20API%20at%201002%20ft.%3C/div%3E%60%29%5B0%5D%3B%0A%20%20%20%20%20%20%20%20%20%20%20%20%20%20%20%20popup_c67d5f2f988f4857bf6f817e8c22ab81.setContent%28html_cc07f9f1a763425aa09a087226fcb874%29%3B%0A%20%20%20%20%20%20%20%20%20%20%20%20%0A%0A%20%20%20%20%20%20%20%20%20%20%20%20marker_9cdd7248ebf14a968c4eb24d34316423.bindPopup%28popup_c67d5f2f988f4857bf6f817e8c22ab81%29%0A%20%20%20%20%20%20%20%20%20%20%20%20%3B%0A%0A%20%20%20%20%20%20%20%20%20%20%20%20%0A%20%20%20%20%20%20%20%20%0A%20%20%20%20%0A%20%20%20%20%20%20%20%20var%20marker_44e44c26a0a647aba671d8a95bca3ffe%20%3D%20L.marker%28%0A%20%20%20%20%20%20%20%20%20%20%20%20%5B39.943543%2C%20-95.9362942%5D%2C%0A%20%20%20%20%20%20%20%20%20%20%20%20%7B%0A%20%20%20%20%20%20%20%20%20%20%20%20%20%20%20%20icon%3A%20new%20L.Icon.Default%28%29%2C%0A%20%20%20%20%20%20%20%20%20%20%20%20%20%20%20%20%7D%0A%20%20%20%20%20%20%20%20%20%20%20%20%29.addTo%28map_5644af8b248f420382947d8ecbbb4108%29%3B%0A%20%20%20%20%20%20%20%20%0A%20%20%20%20%0A%0A%20%20%20%20%20%20%20%20%20%20%20%20%20%20%20%20var%20icon_eb65f45b60864fd0879cbf448aeee0dc%20%3D%20L.AwesomeMarkers.icon%28%7B%0A%20%20%20%20%20%20%20%20%20%20%20%20%20%20%20%20%20%20%20%20icon%3A%20%27star%27%2C%0A%20%20%20%20%20%20%20%20%20%20%20%20%20%20%20%20%20%20%20%20iconColor%3A%20%27white%27%2C%0A%20%20%20%20%20%20%20%20%20%20%20%20%20%20%20%20%20%20%20%20markerColor%3A%20%27blue%27%2C%0A%20%20%20%20%20%20%20%20%20%20%20%20%20%20%20%20%20%20%20%20prefix%3A%20%27glyphicon%27%2C%0A%20%20%20%20%20%20%20%20%20%20%20%20%20%20%20%20%20%20%20%20extraClasses%3A%20%27fa-rotate-0%27%0A%20%20%20%20%20%20%20%20%20%20%20%20%20%20%20%20%20%20%20%20%7D%29%3B%0A%20%20%20%20%20%20%20%20%20%20%20%20%20%20%20%20marker_44e44c26a0a647aba671d8a95bca3ffe.setIcon%28icon_eb65f45b60864fd0879cbf448aeee0dc%29%3B%0A%20%20%20%20%20%20%20%20%20%20%20%20%0A%20%20%20%20%0A%20%20%20%20%20%20%20%20%20%20%20%20var%20popup_da5cf18b27884466a22330a22eaaf9fe%20%3D%20L.popup%28%7BmaxWidth%3A%20%27100%25%27%0A%20%20%20%20%20%20%20%20%20%20%20%20%0A%20%20%20%20%20%20%20%20%20%20%20%20%7D%29%3B%0A%0A%20%20%20%20%20%20%20%20%20%20%20%20%0A%20%20%20%20%20%20%20%20%20%20%20%20%20%20%20%20var%20html_79e6ec58f73b4ffa982e76ece02ad1a7%20%3D%20%24%28%60%3Cdiv%20id%3D%22html_79e6ec58f73b4ffa982e76ece02ad1a7%22%20style%3D%22width%3A%20100.0%25%3B%20height%3A%20100.0%25%3B%22%3EBaumgartner%201-23%201%20105.51799999999986%20gamma%20API%20at%201002%20ft.%3C/div%3E%60%29%5B0%5D%3B%0A%20%20%20%20%20%20%20%20%20%20%20%20%20%20%20%20popup_da5cf18b27884466a22330a22eaaf9fe.setContent%28html_79e6ec58f73b4ffa982e76ece02ad1a7%29%3B%0A%20%20%20%20%20%20%20%20%20%20%20%20%0A%0A%20%20%20%20%20%20%20%20%20%20%20%20marker_44e44c26a0a647aba671d8a95bca3ffe.bindPopup%28popup_da5cf18b27884466a22330a22eaaf9fe%29%0A%20%20%20%20%20%20%20%20%20%20%20%20%3B%0A%0A%20%20%20%20%20%20%20%20%20%20%20%20%0A%20%20%20%20%20%20%20%20%0A%20%20%20%20%0A%20%20%20%20%20%20%20%20var%20marker_3ef9416291a3411d936c7b43f0f7553c%20%3D%20L.marker%28%0A%20%20%20%20%20%20%20%20%20%20%20%20%5B37.6435722%2C%20-100.6448832%5D%2C%0A%20%20%20%20%20%20%20%20%20%20%20%20%7B%0A%20%20%20%20%20%20%20%20%20%20%20%20%20%20%20%20icon%3A%20new%20L.Icon.Default%28%29%2C%0A%20%20%20%20%20%20%20%20%20%20%20%20%20%20%20%20%7D%0A%20%20%20%20%20%20%20%20%20%20%20%20%29.addTo%28map_5644af8b248f420382947d8ecbbb4108%29%3B%0A%20%20%20%20%20%20%20%20%0A%20%20%20%20%0A%0A%20%20%20%20%20%20%20%20%20%20%20%20%20%20%20%20var%20icon_6b3eef5553e44b158299c7d3128d6ddb%20%3D%20L.AwesomeMarkers.icon%28%7B%0A%20%20%20%20%20%20%20%20%20%20%20%20%20%20%20%20%20%20%20%20icon%3A%20%27star%27%2C%0A%20%20%20%20%20%20%20%20%20%20%20%20%20%20%20%20%20%20%20%20iconColor%3A%20%27white%27%2C%0A%20%20%20%20%20%20%20%20%20%20%20%20%20%20%20%20%20%20%20%20markerColor%3A%20%27blue%27%2C%0A%20%20%20%20%20%20%20%20%20%20%20%20%20%20%20%20%20%20%20%20prefix%3A%20%27glyphicon%27%2C%0A%20%20%20%20%20%20%20%20%20%20%20%20%20%20%20%20%20%20%20%20extraClasses%3A%20%27fa-rotate-0%27%0A%20%20%20%20%20%20%20%20%20%20%20%20%20%20%20%20%20%20%20%20%7D%29%3B%0A%20%20%20%20%20%20%20%20%20%20%20%20%20%20%20%20marker_3ef9416291a3411d936c7b43f0f7553c.setIcon%28icon_6b3eef5553e44b158299c7d3128d6ddb%29%3B%0A%20%20%20%20%20%20%20%20%20%20%20%20%0A%20%20%20%20%0A%20%20%20%20%20%20%20%20%20%20%20%20var%20popup_ff29460640bb4debbe01a3fc5c01fce3%20%3D%20L.popup%28%7BmaxWidth%3A%20%27100%25%27%0A%20%20%20%20%20%20%20%20%20%20%20%20%0A%20%20%20%20%20%20%20%20%20%20%20%20%7D%29%3B%0A%0A%20%20%20%20%20%20%20%20%20%20%20%20%0A%20%20%20%20%20%20%20%20%20%20%20%20%20%20%20%20var%20html_c62418f5c2624048bb76a7c9ca343012%20%3D%20%24%28%60%3Cdiv%20id%3D%22html_c62418f5c2624048bb76a7c9ca343012%22%20style%3D%22width%3A%20100.0%25%3B%20height%3A%20100.0%25%3B%22%3ENightengale%201-6%20%28SW%29%2046.3745%20gamma%20API%20at%201002%20ft.%3C/div%3E%60%29%5B0%5D%3B%0A%20%20%20%20%20%20%20%20%20%20%20%20%20%20%20%20popup_ff29460640bb4debbe01a3fc5c01fce3.setContent%28html_c62418f5c2624048bb76a7c9ca343012%29%3B%0A%20%20%20%20%20%20%20%20%20%20%20%20%0A%0A%20%20%20%20%20%20%20%20%20%20%20%20marker_3ef9416291a3411d936c7b43f0f7553c.bindPopup%28popup_ff29460640bb4debbe01a3fc5c01fce3%29%0A%20%20%20%20%20%20%20%20%20%20%20%20%3B%0A%0A%20%20%20%20%20%20%20%20%20%20%20%20%0A%20%20%20%20%20%20%20%20%0A%20%20%20%20%0A%20%20%20%20%20%20%20%20var%20marker_1d7140a11c6449aea3351f10bc4b2db7%20%3D%20L.marker%28%0A%20%20%20%20%20%20%20%20%20%20%20%20%5B37.0584128%2C%20-98.4740827%5D%2C%0A%20%20%20%20%20%20%20%20%20%20%20%20%7B%0A%20%20%20%20%20%20%20%20%20%20%20%20%20%20%20%20icon%3A%20new%20L.Icon.Default%28%29%2C%0A%20%20%20%20%20%20%20%20%20%20%20%20%20%20%20%20%7D%0A%20%20%20%20%20%20%20%20%20%20%20%20%29.addTo%28map_5644af8b248f420382947d8ecbbb4108%29%3B%0A%20%20%20%20%20%20%20%20%0A%20%20%20%20%0A%0A%20%20%20%20%20%20%20%20%20%20%20%20%20%20%20%20var%20icon_ab72c89709db4e059d2772c73e97485c%20%3D%20L.AwesomeMarkers.icon%28%7B%0A%20%20%20%20%20%20%20%20%20%20%20%20%20%20%20%20%20%20%20%20icon%3A%20%27star%27%2C%0A%20%20%20%20%20%20%20%20%20%20%20%20%20%20%20%20%20%20%20%20iconColor%3A%20%27white%27%2C%0A%20%20%20%20%20%20%20%20%20%20%20%20%20%20%20%20%20%20%20%20markerColor%3A%20%27blue%27%2C%0A%20%20%20%20%20%20%20%20%20%20%20%20%20%20%20%20%20%20%20%20prefix%3A%20%27glyphicon%27%2C%0A%20%20%20%20%20%20%20%20%20%20%20%20%20%20%20%20%20%20%20%20extraClasses%3A%20%27fa-rotate-0%27%0A%20%20%20%20%20%20%20%20%20%20%20%20%20%20%20%20%20%20%20%20%7D%29%3B%0A%20%20%20%20%20%20%20%20%20%20%20%20%20%20%20%20marker_1d7140a11c6449aea3351f10bc4b2db7.setIcon%28icon_ab72c89709db4e059d2772c73e97485c%29%3B%0A%20%20%20%20%20%20%20%20%20%20%20%20%0A%20%20%20%20%0A%20%20%20%20%20%20%20%20%20%20%20%20var%20popup_33be213390f7440eb3997a49ca552e74%20%3D%20L.popup%28%7BmaxWidth%3A%20%27100%25%27%0A%20%20%20%20%20%20%20%20%20%20%20%20%0A%20%20%20%20%20%20%20%20%20%20%20%20%7D%29%3B%0A%0A%20%20%20%20%20%20%20%20%20%20%20%20%0A%20%20%20%20%20%20%20%20%20%20%20%20%20%20%20%20var%20html_d42f8102811245c6af73ae94b2ec4729%20%3D%20%24%28%60%3Cdiv%20id%3D%22html_d42f8102811245c6af73ae94b2ec4729%22%20style%3D%22width%3A%20100.0%25%3B%20height%3A%20100.0%25%3B%22%3EShirley%20Nelson%202-25%2077.3474%20gamma%20API%20at%201002%20ft.%3C/div%3E%60%29%5B0%5D%3B%0A%20%20%20%20%20%20%20%20%20%20%20%20%20%20%20%20popup_33be213390f7440eb3997a49ca552e74.setContent%28html_d42f8102811245c6af73ae94b2ec4729%29%3B%0A%20%20%20%20%20%20%20%20%20%20%20%20%0A%0A%20%20%20%20%20%20%20%20%20%20%20%20marker_1d7140a11c6449aea3351f10bc4b2db7.bindPopup%28popup_33be213390f7440eb3997a49ca552e74%29%0A%20%20%20%20%20%20%20%20%20%20%20%20%3B%0A%0A%20%20%20%20%20%20%20%20%20%20%20%20%0A%20%20%20%20%20%20%20%20%0A%20%20%20%20%0A%20%20%20%20%20%20%20%20var%20marker_b6ffe0f7e5454752b505d3f2ab17707e%20%3D%20L.marker%28%0A%20%20%20%20%20%20%20%20%20%20%20%20%5B38.2223483%2C%20-101.1185357%5D%2C%0A%20%20%20%20%20%20%20%20%20%20%20%20%7B%0A%20%20%20%20%20%20%20%20%20%20%20%20%20%20%20%20icon%3A%20new%20L.Icon.Default%28%29%2C%0A%20%20%20%20%20%20%20%20%20%20%20%20%20%20%20%20%7D%0A%20%20%20%20%20%20%20%20%20%20%20%20%29.addTo%28map_5644af8b248f420382947d8ecbbb4108%29%3B%0A%20%20%20%20%20%20%20%20%0A%20%20%20%20%0A%0A%20%20%20%20%20%20%20%20%20%20%20%20%20%20%20%20var%20icon_00e6e56bcba4464b9b67d41ed9317d71%20%3D%20L.AwesomeMarkers.icon%28%7B%0A%20%20%20%20%20%20%20%20%20%20%20%20%20%20%20%20%20%20%20%20icon%3A%20%27star%27%2C%0A%20%20%20%20%20%20%20%20%20%20%20%20%20%20%20%20%20%20%20%20iconColor%3A%20%27white%27%2C%0A%20%20%20%20%20%20%20%20%20%20%20%20%20%20%20%20%20%20%20%20markerColor%3A%20%27blue%27%2C%0A%20%20%20%20%20%20%20%20%20%20%20%20%20%20%20%20%20%20%20%20prefix%3A%20%27glyphicon%27%2C%0A%20%20%20%20%20%20%20%20%20%20%20%20%20%20%20%20%20%20%20%20extraClasses%3A%20%27fa-rotate-0%27%0A%20%20%20%20%20%20%20%20%20%20%20%20%20%20%20%20%20%20%20%20%7D%29%3B%0A%20%20%20%20%20%20%20%20%20%20%20%20%20%20%20%20marker_b6ffe0f7e5454752b505d3f2ab17707e.setIcon%28icon_00e6e56bcba4464b9b67d41ed9317d71%29%3B%0A%20%20%20%20%20%20%20%20%20%20%20%20%0A%20%20%20%20%0A%20%20%20%20%20%20%20%20%20%20%20%20var%20popup_6e93f72f02cf4f45a4350a4148c067e8%20%3D%20L.popup%28%7BmaxWidth%3A%20%27100%25%27%0A%20%20%20%20%20%20%20%20%20%20%20%20%0A%20%20%20%20%20%20%20%20%20%20%20%20%7D%29%3B%0A%0A%20%20%20%20%20%20%20%20%20%20%20%20%0A%20%20%20%20%20%20%20%20%20%20%20%20%20%20%20%20var%20html_a64ce1fa42e24cf2866055e88672c96b%20%3D%20%24%28%60%3Cdiv%20id%3D%22html_a64ce1fa42e24cf2866055e88672c96b%22%20style%3D%22width%3A%20100.0%25%3B%20height%3A%20100.0%25%3B%22%3ECBH%202-13%2066.4607%20gamma%20API%20at%201002%20ft.%3C/div%3E%60%29%5B0%5D%3B%0A%20%20%20%20%20%20%20%20%20%20%20%20%20%20%20%20popup_6e93f72f02cf4f45a4350a4148c067e8.setContent%28html_a64ce1fa42e24cf2866055e88672c96b%29%3B%0A%20%20%20%20%20%20%20%20%20%20%20%20%0A%0A%20%20%20%20%20%20%20%20%20%20%20%20marker_b6ffe0f7e5454752b505d3f2ab17707e.bindPopup%28popup_6e93f72f02cf4f45a4350a4148c067e8%29%0A%20%20%20%20%20%20%20%20%20%20%20%20%3B%0A%0A%20%20%20%20%20%20%20%20%20%20%20%20%0A%20%20%20%20%20%20%20%20%0A%20%20%20%20%0A%20%20%20%20%20%20%20%20var%20marker_c96f521040764d57bd02dcfeaba18ba6%20%3D%20L.marker%28%0A%20%20%20%20%20%20%20%20%20%20%20%20%5B37.1968047%2C%20-101.9073103%5D%2C%0A%20%20%20%20%20%20%20%20%20%20%20%20%7B%0A%20%20%20%20%20%20%20%20%20%20%20%20%20%20%20%20icon%3A%20new%20L.Icon.Default%28%29%2C%0A%20%20%20%20%20%20%20%20%20%20%20%20%20%20%20%20%7D%0A%20%20%20%20%20%20%20%20%20%20%20%20%29.addTo%28map_5644af8b248f420382947d8ecbbb4108%29%3B%0A%20%20%20%20%20%20%20%20%0A%20%20%20%20%0A%0A%20%20%20%20%20%20%20%20%20%20%20%20%20%20%20%20var%20icon_2b31e4c5c0d849a5b186aa1b871f7404%20%3D%20L.AwesomeMarkers.icon%28%7B%0A%20%20%20%20%20%20%20%20%20%20%20%20%20%20%20%20%20%20%20%20icon%3A%20%27star%27%2C%0A%20%20%20%20%20%20%20%20%20%20%20%20%20%20%20%20%20%20%20%20iconColor%3A%20%27white%27%2C%0A%20%20%20%20%20%20%20%20%20%20%20%20%20%20%20%20%20%20%20%20markerColor%3A%20%27blue%27%2C%0A%20%20%20%20%20%20%20%20%20%20%20%20%20%20%20%20%20%20%20%20prefix%3A%20%27glyphicon%27%2C%0A%20%20%20%20%20%20%20%20%20%20%20%20%20%20%20%20%20%20%20%20extraClasses%3A%20%27fa-rotate-0%27%0A%20%20%20%20%20%20%20%20%20%20%20%20%20%20%20%20%20%20%20%20%7D%29%3B%0A%20%20%20%20%20%20%20%20%20%20%20%20%20%20%20%20marker_c96f521040764d57bd02dcfeaba18ba6.setIcon%28icon_2b31e4c5c0d849a5b186aa1b871f7404%29%3B%0A%20%20%20%20%20%20%20%20%20%20%20%20%0A%20%20%20%20%0A%20%20%20%20%20%20%20%20%20%20%20%20var%20popup_9e6dddd4f45248dab345a672fe8bef75%20%3D%20L.popup%28%7BmaxWidth%3A%20%27100%25%27%0A%20%20%20%20%20%20%20%20%20%20%20%20%0A%20%20%20%20%20%20%20%20%20%20%20%20%7D%29%3B%0A%0A%20%20%20%20%20%20%20%20%20%20%20%20%0A%20%20%20%20%20%20%20%20%20%20%20%20%20%20%20%20var%20html_3f2712db506e48c68efaabc938d68072%20%3D%20%24%28%60%3Cdiv%20id%3D%22html_3f2712db506e48c68efaabc938d68072%22%20style%3D%22width%3A%20100.0%25%3B%20height%3A%20100.0%25%3B%22%3EHentschel%20%27C%27%202%2059.4751%20gamma%20API%20at%201002%20ft.%3C/div%3E%60%29%5B0%5D%3B%0A%20%20%20%20%20%20%20%20%20%20%20%20%20%20%20%20popup_9e6dddd4f45248dab345a672fe8bef75.setContent%28html_3f2712db506e48c68efaabc938d68072%29%3B%0A%20%20%20%20%20%20%20%20%20%20%20%20%0A%0A%20%20%20%20%20%20%20%20%20%20%20%20marker_c96f521040764d57bd02dcfeaba18ba6.bindPopup%28popup_9e6dddd4f45248dab345a672fe8bef75%29%0A%20%20%20%20%20%20%20%20%20%20%20%20%3B%0A%0A%20%20%20%20%20%20%20%20%20%20%20%20%0A%20%20%20%20%20%20%20%20%0A%20%20%20%20%0A%20%20%20%20%20%20%20%20var%20marker_bbe252f866674be99c1b0180fbb8fc79%20%3D%20L.marker%28%0A%20%20%20%20%20%20%20%20%20%20%20%20%5B38.3990605%2C%20-100.7783483%5D%2C%0A%20%20%20%20%20%20%20%20%20%20%20%20%7B%0A%20%20%20%20%20%20%20%20%20%20%20%20%20%20%20%20icon%3A%20new%20L.Icon.Default%28%29%2C%0A%20%20%20%20%20%20%20%20%20%20%20%20%20%20%20%20%7D%0A%20%20%20%20%20%20%20%20%20%20%20%20%29.addTo%28map_5644af8b248f420382947d8ecbbb4108%29%3B%0A%20%20%20%20%20%20%20%20%0A%20%20%20%20%0A%0A%20%20%20%20%20%20%20%20%20%20%20%20%20%20%20%20var%20icon_db675861ef5642229a8d655c086c0473%20%3D%20L.AwesomeMarkers.icon%28%7B%0A%20%20%20%20%20%20%20%20%20%20%20%20%20%20%20%20%20%20%20%20icon%3A%20%27star%27%2C%0A%20%20%20%20%20%20%20%20%20%20%20%20%20%20%20%20%20%20%20%20iconColor%3A%20%27white%27%2C%0A%20%20%20%20%20%20%20%20%20%20%20%20%20%20%20%20%20%20%20%20markerColor%3A%20%27blue%27%2C%0A%20%20%20%20%20%20%20%20%20%20%20%20%20%20%20%20%20%20%20%20prefix%3A%20%27glyphicon%27%2C%0A%20%20%20%20%20%20%20%20%20%20%20%20%20%20%20%20%20%20%20%20extraClasses%3A%20%27fa-rotate-0%27%0A%20%20%20%20%20%20%20%20%20%20%20%20%20%20%20%20%20%20%20%20%7D%29%3B%0A%20%20%20%20%20%20%20%20%20%20%20%20%20%20%20%20marker_bbe252f866674be99c1b0180fbb8fc79.setIcon%28icon_db675861ef5642229a8d655c086c0473%29%3B%0A%20%20%20%20%20%20%20%20%20%20%20%20%0A%20%20%20%20%0A%20%20%20%20%20%20%20%20%20%20%20%20var%20popup_ef12b512fc0a48eaa0c1c40e95be73c1%20%3D%20L.popup%28%7BmaxWidth%3A%20%27100%25%27%0A%20%20%20%20%20%20%20%20%20%20%20%20%0A%20%20%20%20%20%20%20%20%20%20%20%20%7D%29%3B%0A%0A%20%20%20%20%20%20%20%20%20%20%20%20%0A%20%20%20%20%20%20%20%20%20%20%20%20%20%20%20%20var%20html_645a5ecb63524e1c8ac50befb93fe5ed%20%3D%20%24%28%60%3Cdiv%20id%3D%22html_645a5ecb63524e1c8ac50befb93fe5ed%22%20style%3D%22width%3A%20100.0%25%3B%20height%3A%20100.0%25%3B%22%3ELarry%20Dearden%2016A-18-1931%20129.166%20gamma%20API%20at%201002%20ft.%3C/div%3E%60%29%5B0%5D%3B%0A%20%20%20%20%20%20%20%20%20%20%20%20%20%20%20%20popup_ef12b512fc0a48eaa0c1c40e95be73c1.setContent%28html_645a5ecb63524e1c8ac50befb93fe5ed%29%3B%0A%20%20%20%20%20%20%20%20%20%20%20%20%0A%0A%20%20%20%20%20%20%20%20%20%20%20%20marker_bbe252f866674be99c1b0180fbb8fc79.bindPopup%28popup_ef12b512fc0a48eaa0c1c40e95be73c1%29%0A%20%20%20%20%20%20%20%20%20%20%20%20%3B%0A%0A%20%20%20%20%20%20%20%20%20%20%20%20%0A%20%20%20%20%20%20%20%20%0A%20%20%20%20%0A%20%20%20%20%20%20%20%20var%20marker_9eedbd2d257f4b35a188ddf9618e5e7c%20%3D%20L.marker%28%0A%20%20%20%20%20%20%20%20%20%20%20%20%5B39.1054374%2C%20-100.0222266%5D%2C%0A%20%20%20%20%20%20%20%20%20%20%20%20%7B%0A%20%20%20%20%20%20%20%20%20%20%20%20%20%20%20%20icon%3A%20new%20L.Icon.Default%28%29%2C%0A%20%20%20%20%20%20%20%20%20%20%20%20%20%20%20%20%7D%0A%20%20%20%20%20%20%20%20%20%20%20%20%29.addTo%28map_5644af8b248f420382947d8ecbbb4108%29%3B%0A%20%20%20%20%20%20%20%20%0A%20%20%20%20%0A%0A%20%20%20%20%20%20%20%20%20%20%20%20%20%20%20%20var%20icon_abea685440ba43e89ea01d41747ae4eb%20%3D%20L.AwesomeMarkers.icon%28%7B%0A%20%20%20%20%20%20%20%20%20%20%20%20%20%20%20%20%20%20%20%20icon%3A%20%27star%27%2C%0A%20%20%20%20%20%20%20%20%20%20%20%20%20%20%20%20%20%20%20%20iconColor%3A%20%27white%27%2C%0A%20%20%20%20%20%20%20%20%20%20%20%20%20%20%20%20%20%20%20%20markerColor%3A%20%27blue%27%2C%0A%20%20%20%20%20%20%20%20%20%20%20%20%20%20%20%20%20%20%20%20prefix%3A%20%27glyphicon%27%2C%0A%20%20%20%20%20%20%20%20%20%20%20%20%20%20%20%20%20%20%20%20extraClasses%3A%20%27fa-rotate-0%27%0A%20%20%20%20%20%20%20%20%20%20%20%20%20%20%20%20%20%20%20%20%7D%29%3B%0A%20%20%20%20%20%20%20%20%20%20%20%20%20%20%20%20marker_9eedbd2d257f4b35a188ddf9618e5e7c.setIcon%28icon_abea685440ba43e89ea01d41747ae4eb%29%3B%0A%20%20%20%20%20%20%20%20%20%20%20%20%0A%20%20%20%20%0A%20%20%20%20%20%20%20%20%20%20%20%20var%20popup_1c84af059f0a479e87660d156797674b%20%3D%20L.popup%28%7BmaxWidth%3A%20%27100%25%27%0A%20%20%20%20%20%20%20%20%20%20%20%20%0A%20%20%20%20%20%20%20%20%20%20%20%20%7D%29%3B%0A%0A%20%20%20%20%20%20%20%20%20%20%20%20%0A%20%20%20%20%20%20%20%20%20%20%20%20%20%20%20%20var%20html_59b8858658ae4922a80e2fd972bd2a1d%20%3D%20%24%28%60%3Cdiv%20id%3D%22html_59b8858658ae4922a80e2fd972bd2a1d%22%20style%3D%22width%3A%20100.0%25%3B%20height%3A%20100.0%25%3B%22%3ELinda%201-7%20118.8499%20gamma%20API%20at%201002%20ft.%3C/div%3E%60%29%5B0%5D%3B%0A%20%20%20%20%20%20%20%20%20%20%20%20%20%20%20%20popup_1c84af059f0a479e87660d156797674b.setContent%28html_59b8858658ae4922a80e2fd972bd2a1d%29%3B%0A%20%20%20%20%20%20%20%20%20%20%20%20%0A%0A%20%20%20%20%20%20%20%20%20%20%20%20marker_9eedbd2d257f4b35a188ddf9618e5e7c.bindPopup%28popup_1c84af059f0a479e87660d156797674b%29%0A%20%20%20%20%20%20%20%20%20%20%20%20%3B%0A%0A%20%20%20%20%20%20%20%20%20%20%20%20%0A%20%20%20%20%20%20%20%20%0A%3C/script%3E onload=\"this.contentDocument.open();this.contentDocument.write(    decodeURIComponent(this.getAttribute('data-html')));this.contentDocument.close();\" allowfullscreen webkitallowfullscreen mozallowfullscreen></iframe></div></div>"
            ],
            "text/plain": [
              "<folium.folium.Map at 0x7f0521b97850>"
            ]
          },
          "metadata": {},
          "execution_count": 37
        }
      ],
      "source": [
        "#tworzymy i dodajemy geometrię punktów do mapy (ze zwykłej ramki pandas)\n",
        "wells_points = folium.map.FeatureGroup()\n",
        "latitudes = list(wdf.Latitude)\n",
        "longitudes = list(wdf.Longitude)\n",
        "leases = list(wdf.Lease)\n",
        "gammas = list(wdf.gamma)\n",
        "\n",
        "for lat, lng, lsl, g in zip(latitudes, longitudes, leases, gammas):\n",
        "  popup_text = lsl + \"\\n\" + str(g) + \" gamma API at \" + str(interpolation_depth)+\" ft.\"\n",
        "  folium.Marker(location = [lat, lng],icon = folium.Icon(color='blue', icon='star'),popup = popup_text).add_to(folium_map)\n",
        "folium_map"
      ]
    },
    {
      "cell_type": "code",
      "execution_count": null,
      "id": "d3fiT-2CLF-N",
      "metadata": {
        "id": "d3fiT-2CLF-N",
        "outputId": "d91df577-716a-4bb6-ec7d-a022755692b1"
      },
      "outputs": [
        {
          "data": {
            "text/plain": [
              "27.0"
            ]
          },
          "execution_count": 31,
          "metadata": {},
          "output_type": "execute_result"
        }
      ],
      "source": [
        "#tu tylko test jak działa np.interp (interpolacja liniowa)\n",
        "np.interp(x=5,xp=[2,3,6,7,8],fp =[4,9,36,49,64])"
      ]
    },
    {
      "cell_type": "markdown",
      "id": "8c7a14b2",
      "metadata": {
        "id": "8c7a14b2"
      },
      "source": [
        "Zapis georamki do pliku shp"
      ]
    },
    {
      "cell_type": "code",
      "execution_count": null,
      "id": "c8070ca8",
      "metadata": {
        "id": "c8070ca8",
        "outputId": "cfdc0910-fe42-4f34-a7a9-84a251e28b4d"
      },
      "outputs": [
        {
          "data": {
            "text/html": [
              "<div>\n",
              "<style scoped>\n",
              "    .dataframe tbody tr th:only-of-type {\n",
              "        vertical-align: middle;\n",
              "    }\n",
              "\n",
              "    .dataframe tbody tr th {\n",
              "        vertical-align: top;\n",
              "    }\n",
              "\n",
              "    .dataframe thead th {\n",
              "        text-align: right;\n",
              "    }\n",
              "</style>\n",
              "<table border=\"1\" class=\"dataframe\">\n",
              "  <thead>\n",
              "    <tr style=\"text-align: right;\">\n",
              "      <th></th>\n",
              "      <th>gamma</th>\n",
              "      <th>KGS_ID</th>\n",
              "      <th>Latitude</th>\n",
              "      <th>Longitude</th>\n",
              "      <th>Elevation</th>\n",
              "      <th>Depth_start</th>\n",
              "      <th>Depth_stop</th>\n",
              "    </tr>\n",
              "  </thead>\n",
              "  <tbody>\n",
              "    <tr>\n",
              "      <th>count</th>\n",
              "      <td>75.000000</td>\n",
              "      <td>7.700000e+01</td>\n",
              "      <td>77.000000</td>\n",
              "      <td>77.000000</td>\n",
              "      <td>77.000000</td>\n",
              "      <td>77.000000</td>\n",
              "      <td>77.000000</td>\n",
              "    </tr>\n",
              "    <tr>\n",
              "      <th>mean</th>\n",
              "      <td>85.323363</td>\n",
              "      <td>1.047328e+09</td>\n",
              "      <td>38.642631</td>\n",
              "      <td>-99.452515</td>\n",
              "      <td>2345.857143</td>\n",
              "      <td>230.532468</td>\n",
              "      <td>4199.636364</td>\n",
              "    </tr>\n",
              "    <tr>\n",
              "      <th>std</th>\n",
              "      <td>89.952923</td>\n",
              "      <td>1.527032e+06</td>\n",
              "      <td>0.673318</td>\n",
              "      <td>1.688105</td>\n",
              "      <td>698.375384</td>\n",
              "      <td>349.483852</td>\n",
              "      <td>742.803277</td>\n",
              "    </tr>\n",
              "    <tr>\n",
              "      <th>min</th>\n",
              "      <td>8.985100</td>\n",
              "      <td>1.046232e+09</td>\n",
              "      <td>37.005786</td>\n",
              "      <td>-101.525519</td>\n",
              "      <td>1260.000000</td>\n",
              "      <td>-8.000000</td>\n",
              "      <td>2307.000000</td>\n",
              "    </tr>\n",
              "    <tr>\n",
              "      <th>25%</th>\n",
              "      <td>56.261250</td>\n",
              "      <td>1.046798e+09</td>\n",
              "      <td>38.417436</td>\n",
              "      <td>-100.872582</td>\n",
              "      <td>1831.000000</td>\n",
              "      <td>0.000000</td>\n",
              "      <td>3505.000000</td>\n",
              "    </tr>\n",
              "    <tr>\n",
              "      <th>50%</th>\n",
              "      <td>77.325000</td>\n",
              "      <td>1.046807e+09</td>\n",
              "      <td>38.721937</td>\n",
              "      <td>-99.836293</td>\n",
              "      <td>2342.000000</td>\n",
              "      <td>195.000000</td>\n",
              "      <td>4450.000000</td>\n",
              "    </tr>\n",
              "    <tr>\n",
              "      <th>75%</th>\n",
              "      <td>95.972450</td>\n",
              "      <td>1.046822e+09</td>\n",
              "      <td>39.031556</td>\n",
              "      <td>-98.709827</td>\n",
              "      <td>3024.000000</td>\n",
              "      <td>245.000000</td>\n",
              "      <td>4851.000000</td>\n",
              "    </tr>\n",
              "    <tr>\n",
              "      <th>max</th>\n",
              "      <td>791.924300</td>\n",
              "      <td>1.051684e+09</td>\n",
              "      <td>39.972378</td>\n",
              "      <td>-96.131540</td>\n",
              "      <td>3431.000000</td>\n",
              "      <td>1800.000000</td>\n",
              "      <td>5606.000000</td>\n",
              "    </tr>\n",
              "  </tbody>\n",
              "</table>\n",
              "</div>"
            ],
            "text/plain": [
              "            gamma        KGS_ID   Latitude   Longitude    Elevation  \\\n",
              "count   75.000000  7.700000e+01  77.000000   77.000000    77.000000   \n",
              "mean    85.323363  1.047328e+09  38.642631  -99.452515  2345.857143   \n",
              "std     89.952923  1.527032e+06   0.673318    1.688105   698.375384   \n",
              "min      8.985100  1.046232e+09  37.005786 -101.525519  1260.000000   \n",
              "25%     56.261250  1.046798e+09  38.417436 -100.872582  1831.000000   \n",
              "50%     77.325000  1.046807e+09  38.721937  -99.836293  2342.000000   \n",
              "75%     95.972450  1.046822e+09  39.031556  -98.709827  3024.000000   \n",
              "max    791.924300  1.051684e+09  39.972378  -96.131540  3431.000000   \n",
              "\n",
              "       Depth_start   Depth_stop  \n",
              "count    77.000000    77.000000  \n",
              "mean    230.532468  4199.636364  \n",
              "std     349.483852   742.803277  \n",
              "min      -8.000000  2307.000000  \n",
              "25%       0.000000  3505.000000  \n",
              "50%     195.000000  4450.000000  \n",
              "75%     245.000000  4851.000000  \n",
              "max    1800.000000  5606.000000  "
            ]
          },
          "execution_count": 181,
          "metadata": {},
          "output_type": "execute_result"
        }
      ],
      "source": [
        "geo_wdf.describe()"
      ]
    },
    {
      "cell_type": "markdown",
      "source": [
        "## Interpolacja IDW\n",
        "\n",
        "z wykorzystaniem pakietu gdal\n",
        "\n",
        "dane będą z georamki geo_wdf"
      ],
      "metadata": {
        "id": "j7FnmpzZqmIH"
      },
      "id": "j7FnmpzZqmIH"
    },
    {
      "cell_type": "code",
      "source": [
        "#określanie zasięgu mapy - będzie potrzebne do interpolacji w gdal\n",
        "map_bounds = [geo_wdf.bounds.minx.min(),geo_wdf.bounds.miny.min(),geo_wdf.bounds.maxx.max(),geo_wdf.bounds.maxy.max()]\n",
        "map_bounds"
      ],
      "metadata": {
        "colab": {
          "base_uri": "https://localhost:8080/"
        },
        "id": "h2xchq6qYnVH",
        "outputId": "d222f6f7-e6e3-490b-ce28-be1ed4c660e7"
      },
      "execution_count": null,
      "outputs": [
        {
          "output_type": "execute_result",
          "data": {
            "text/plain": [
              "[-101.9073103, 37.0584128, -95.9362942, 39.943543]"
            ]
          },
          "metadata": {},
          "execution_count": 77
        }
      ],
      "id": "h2xchq6qYnVH"
    },
    {
      "cell_type": "code",
      "source": [
        "geo_wdf.to_file('tmp.shp') #tymczasowy plik shp potrzebny bo gdal nie czyta georamki"
      ],
      "metadata": {
        "colab": {
          "base_uri": "https://localhost:8080/"
        },
        "id": "cmqSnG7TcqOY",
        "outputId": "bced8699-991c-4895-d794-c386bd9d32a8"
      },
      "id": "cmqSnG7TcqOY",
      "execution_count": null,
      "outputs": [
        {
          "output_type": "stream",
          "name": "stderr",
          "text": [
            "/usr/local/lib/python3.7/dist-packages/ipykernel_launcher.py:1: UserWarning: Column names longer than 10 characters will be truncated when saved to ESRI Shapefile.\n",
            "  \"\"\"Entry point for launching an IPython kernel.\n"
          ]
        }
      ]
    },
    {
      "cell_type": "markdown",
      "source": [
        "Do interpolacji służy funkcja **gdal.Grid**, tworząca z nieregularnie rozrzuconych punktów regularną siatkę (raster)\n",
        "\n",
        "Punkty podajemy jako shapefile, wynik będzie zapisany jako plik r.tif. Zmienną do interpolacji podajemy jako argument zfield.\n",
        "\n",
        "(za przykładem [stąd](https://gis.stackexchange.com/questions/313191/how-to-use-gdalgridinversedistancetoapower-in-a-python-script) )"
      ],
      "metadata": {
        "id": "h1nMCaScq8NC"
      },
      "id": "h1nMCaScq8NC"
    },
    {
      "cell_type": "code",
      "source": [
        "r= gdal.Grid('r.tif','tmp.shp',format = 'GTiff', width = int(x_span*200), height=int(y_span*200),\n",
        "               algorithm='invdist:power=2.0:smoothing=2.0',\n",
        "               zfield='gamma',\n",
        "               outputType=gdal.GDT_Float32,\n",
        "               outputBounds = map_bounds)"
      ],
      "metadata": {
        "id": "KbSEpSDWbpg7"
      },
      "id": "KbSEpSDWbpg7",
      "execution_count": null,
      "outputs": []
    },
    {
      "cell_type": "code",
      "source": [
        "r = None #dopiero po tym plik zapisuje się na dysku\n",
        "\n",
        "#plik r.tif  to geotiff, który otwiera się w QGIS! i w ArcGIS też po dodaniu output_type"
      ],
      "metadata": {
        "id": "bu-GdqpVfTRX"
      },
      "id": "bu-GdqpVfTRX",
      "execution_count": null,
      "outputs": []
    },
    {
      "cell_type": "code",
      "source": [
        "os.path.getsize(\"r.tif\") #test czy wynikowy plik się zapisał był"
      ],
      "metadata": {
        "colab": {
          "base_uri": "https://localhost:8080/"
        },
        "id": "ayX3Swptc8wc",
        "outputId": "3401c472-3381-44e4-fff4-91f5e8c71fa2"
      },
      "id": "ayX3Swptc8wc",
      "execution_count": null,
      "outputs": [
        {
          "output_type": "execute_result",
          "data": {
            "text/plain": [
              "5516536"
            ]
          },
          "metadata": {},
          "execution_count": 122
        }
      ]
    },
    {
      "cell_type": "markdown",
      "source": [
        "Teraz można pobrać plik r.tif; powinien się prawidłowo wczytywać do ArcGIS/QGIS. Dodatkowo pliki tmp.* zawierają shapefile z analizowanymi otworami."
      ],
      "metadata": {
        "id": "JkYqy7Xps704"
      },
      "id": "JkYqy7Xps704"
    },
    {
      "cell_type": "code",
      "source": [
        "%pip install rasterio\n",
        "import rasterio\n",
        "from rasterio import mask"
      ],
      "metadata": {
        "colab": {
          "base_uri": "https://localhost:8080/"
        },
        "id": "707rcn-Ko7bZ",
        "outputId": "e80292c4-123d-4b45-cfff-596156d45292"
      },
      "id": "707rcn-Ko7bZ",
      "execution_count": null,
      "outputs": [
        {
          "output_type": "stream",
          "name": "stdout",
          "text": [
            "Collecting rasterio\n",
            "  Downloading rasterio-1.2.10-cp37-cp37m-manylinux1_x86_64.whl (19.3 MB)\n",
            "\u001b[K     |████████████████████████████████| 19.3 MB 1.1 MB/s \n",
            "\u001b[?25hCollecting affine\n",
            "  Downloading affine-2.3.0-py2.py3-none-any.whl (15 kB)\n",
            "Requirement already satisfied: setuptools in /usr/local/lib/python3.7/dist-packages (from rasterio) (57.4.0)\n",
            "Requirement already satisfied: attrs in /usr/local/lib/python3.7/dist-packages (from rasterio) (21.4.0)\n",
            "Requirement already satisfied: click-plugins in /usr/local/lib/python3.7/dist-packages (from rasterio) (1.1.1)\n",
            "Requirement already satisfied: cligj>=0.5 in /usr/local/lib/python3.7/dist-packages (from rasterio) (0.7.2)\n",
            "Requirement already satisfied: certifi in /usr/local/lib/python3.7/dist-packages (from rasterio) (2021.10.8)\n",
            "Requirement already satisfied: numpy in /usr/local/lib/python3.7/dist-packages (from rasterio) (1.21.5)\n",
            "Requirement already satisfied: click>=4.0 in /usr/local/lib/python3.7/dist-packages (from rasterio) (7.1.2)\n",
            "Collecting snuggs>=1.4.1\n",
            "  Downloading snuggs-1.4.7-py3-none-any.whl (5.4 kB)\n",
            "Requirement already satisfied: pyparsing>=2.1.6 in /usr/local/lib/python3.7/dist-packages (from snuggs>=1.4.1->rasterio) (3.0.7)\n",
            "Installing collected packages: snuggs, affine, rasterio\n",
            "Successfully installed affine-2.3.0 rasterio-1.2.10 snuggs-1.4.7\n"
          ]
        }
      ]
    },
    {
      "cell_type": "markdown",
      "source": [
        "[https://omdena.com/blog/geospatial-data-analytics](https://omdena.com/blog/geospatial-data-analytics/)"
      ],
      "metadata": {
        "id": "fNxYYb7jpd85"
      },
      "id": "fNxYYb7jpd85"
    },
    {
      "cell_type": "code",
      "source": [
        ""
      ],
      "metadata": {
        "id": "343vFuxcpbs4"
      },
      "id": "343vFuxcpbs4",
      "execution_count": null,
      "outputs": []
    },
    {
      "cell_type": "markdown",
      "metadata": {
        "id": "Ywu5GC2ztFFQ"
      },
      "source": [
        "## Dodatkowo - kriging\n",
        "\n",
        "**działa ale słabo**\n",
        "\n",
        "Kriging z wykorzystaniem pakietu pykrige. Niby działa, ale trzeba opanować eksport wynikowej macierzy np. do geotiff'a.\n",
        "\n",
        "[stąd](https://www.tomasbeuzen.com/python-for-geospatial-analysis/chapters/chapter2_spatial-viz-and-modelling.html)"
      ],
      "id": "Ywu5GC2ztFFQ"
    },
    {
      "cell_type": "code",
      "execution_count": null,
      "metadata": {
        "id": "QHaqybiTLUsb"
      },
      "outputs": [],
      "source": [
        "#tworzymy siatkę, georamka ma sprytne metody .bounds.minx.min itd do okreśalnia zasięgu danych\n",
        "resolution = .01 #w stopniach póki co\n",
        "gridx = np.arange(geo_wdf.bounds.minx.min(), geo_wdf.bounds.maxx.max(), resolution)\n",
        "gridy = np.arange(geo_wdf.bounds.miny.min(), geo_wdf.bounds.maxy.max(), resolution)\n",
        "\n"
      ],
      "id": "QHaqybiTLUsb"
    },
    {
      "cell_type": "code",
      "execution_count": null,
      "metadata": {
        "colab": {
          "base_uri": "https://localhost:8080/"
        },
        "id": "66800501",
        "outputId": "65dc840e-05a9-4d8f-81fe-7e33b011cfea"
      },
      "outputs": [
        {
          "output_type": "stream",
          "name": "stdout",
          "text": [
            "5.9710161\n",
            "2.885130199999999\n"
          ]
        }
      ],
      "source": [
        "x_span = (geo_wdf.bounds.maxx.max() - geo_wdf.bounds.minx.min())\n",
        "y_span = (geo_wdf.bounds.maxy.max() - geo_wdf.bounds.miny.min())\n",
        "print (x_span)\n",
        "print (y_span)"
      ],
      "id": "66800501"
    },
    {
      "cell_type": "code",
      "execution_count": null,
      "metadata": {
        "id": "ee3da8fe"
      },
      "outputs": [],
      "source": [
        "vario = Variogram(coordinates=geo_wdf[[\"Longitude\",\"Latitude\"]],\n",
        "                  values=geo_wdf[\"gamma\"],\n",
        "                  n_lags=20)"
      ],
      "id": "ee3da8fe"
    },
    {
      "cell_type": "code",
      "execution_count": null,
      "metadata": {
        "colab": {
          "base_uri": "https://localhost:8080/",
          "height": 700
        },
        "id": "7802dc45",
        "outputId": "f9508c3e-2536-4d1f-ffcf-f2777d8e0eb2"
      },
      "outputs": [
        {
          "output_type": "execute_result",
          "data": {
            "text/plain": [
              "{'dist_func': 'euclidean',\n",
              " 'effective_range': 6.572488459871654,\n",
              " 'estimator': 'matheron',\n",
              " 'kwargs': {},\n",
              " 'model': 'spherical',\n",
              " 'normalized_effective_range': 43.19760455514608,\n",
              " 'normalized_nugget': 0,\n",
              " 'normalized_sill': 8193772.892241895,\n",
              " 'nugget': 0,\n",
              " 'params': {'bin_func': 'even',\n",
              "  'dist_func': 'euclidean',\n",
              "  'estimator': 'matheron',\n",
              "  'fit_method': 'trf',\n",
              "  'fit_sigma': None,\n",
              "  'maxlag': None,\n",
              "  'model': 'spherical',\n",
              "  'n_lags': 20,\n",
              "  'normalize': False,\n",
              "  'use_nugget': False,\n",
              "  'verbose': False},\n",
              " 'sill': 2171.2272781230745}"
            ]
          },
          "metadata": {},
          "execution_count": 44
        },
        {
          "output_type": "display_data",
          "data": {
            "image/png": "[encoded data removed]",
            "text/plain": [
              "<Figure size 576x360 with 2 Axes>"
            ]
          },
          "metadata": {
            "needs_background": "light"
          }
        }
      ],
      "source": [
        "vario.plot(hist=True)\n",
        "vario.describe()\n"
      ],
      "id": "7802dc45"
    },
    {
      "cell_type": "code",
      "source": [
        "vario.fitted"
      ],
      "metadata": {
        "colab": {
          "base_uri": "https://localhost:8080/"
        },
        "id": "N1eFk_Wf_IIZ",
        "outputId": "4f0e4837-b38f-493c-9bdc-ac7c15843085"
      },
      "execution_count": null,
      "outputs": [
        {
          "output_type": "execute_result",
          "data": {
            "text/plain": [
              "<bound method Variogram.fitted_model_function of <class 'skgstat.Variogram.Variogram'>>"
            ]
          },
          "metadata": {},
          "execution_count": 59
        }
      ],
      "id": "N1eFk_Wf_IIZ"
    },
    {
      "cell_type": "code",
      "execution_count": null,
      "metadata": {
        "id": "571ylxKu1dS9",
        "colab": {
          "base_uri": "https://localhost:8080/",
          "height": 439
        },
        "outputId": "7deadd19-f1f3-4437-a781-59209628b285"
      },
      "outputs": [
        {
          "output_type": "stream",
          "name": "stdout",
          "text": [
            "Plotting Enabled\n",
            "\n",
            "Initializing variogram model...\n",
            "Coordinates type: 'geographic' \n",
            "\n",
            "Using 'linear' Variogram Model\n",
            "Slope: 195.6461633975384\n",
            "Nugget: 785.5656305290033 \n",
            "\n"
          ]
        },
        {
          "output_type": "display_data",
          "data": {
            "image/png": "[encoded data removed]",
            "text/plain": [
              "<Figure size 432x288 with 1 Axes>"
            ]
          },
          "metadata": {
            "needs_background": "light"
          }
        },
        {
          "output_type": "stream",
          "name": "stdout",
          "text": [
            "Calculating statistics on variogram model fit...\n"
          ]
        }
      ],
      "source": [
        "OK = pkg.OrdinaryKriging(\n",
        "    x=geo_wdf[\"x\"],\n",
        "    y=geo_wdf[\"y\"],\n",
        "    z=geo_wdf[\"gamma\"],\n",
        "    variogram_model=\"linear\",\n",
        "    verbose=True,\n",
        "    enable_plotting=True,\n",
        "    coordinates_type='geographic'\n",
        ")"
      ],
      "id": "571ylxKu1dS9"
    },
    {
      "cell_type": "code",
      "execution_count": null,
      "metadata": {
        "id": "xT6sziVi1xoH",
        "colab": {
          "base_uri": "https://localhost:8080/",
          "height": 248
        },
        "outputId": "ebfdcb18-54a0-4936-f0c6-420017c60d80"
      },
      "outputs": [
        {
          "output_type": "stream",
          "name": "stdout",
          "text": [
            "Executing Ordinary Kriging...\n",
            "\n"
          ]
        },
        {
          "output_type": "display_data",
          "data": {
            "image/png": "[encoded data removed]",
            "text/plain": [
              "<Figure size 432x288 with 1 Axes>"
            ]
          },
          "metadata": {
            "needs_background": "light"
          }
        }
      ],
      "source": [
        "z, ss = OK.execute(\"grid\",gridx, gridy)\n",
        "plt.imshow(z)\n",
        "plt.show()"
      ],
      "id": "xT6sziVi1xoH"
    }
  ],
  "metadata": {
    "celltoolbar": "Raw Cell Format",
    "colab": {
      "collapsed_sections": [],
      "name": "LAS_files_review_2.ipynb",
      "provenance": []
    },
    "kernelspec": {
      "display_name": "Python 3 (ipykernel)",
      "language": "python",
      "name": "python3"
    },
    "language_info": {
      "codemirror_mode": {
        "name": "ipython",
        "version": 3
      },
      "file_extension": ".py",
      "mimetype": "text/x-python",
      "name": "python",
      "nbconvert_exporter": "python",
      "pygments_lexer": "ipython3",
      "version": "3.9.10"
    }
  },
  "nbformat": 4,
  "nbformat_minor": 5
}